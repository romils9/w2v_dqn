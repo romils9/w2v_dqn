{
 "cells": [
  {
   "cell_type": "markdown",
   "metadata": {},
   "source": [
    "# All imports"
   ]
  },
  {
   "cell_type": "code",
   "execution_count": 1,
   "metadata": {},
   "outputs": [],
   "source": [
    "import os\n",
    "import numpy as np\n",
    "import random\n",
    "from tqdm import tqdm\n",
    "import gymnasium as gym\n",
    "from collections import deque, namedtuple\n",
    "from collections import defaultdict\n",
    "import torch\n",
    "import torch.nn as nn\n",
    "import torch.nn.functional as F\n",
    "import torch.optim as optim\n",
    "import matplotlib.pyplot as plt\n",
    "from gymnasium.envs.toy_text.frozen_lake import generate_random_map\n",
    "\n",
    "# w2v required\n",
    "from collections import Counter\n",
    "from torch.utils.data import Dataset, DataLoader\n",
    "from sklearn.metrics.pairwise import cosine_similarity\n",
    "\n",
    "# DQN required\n",
    "import argparse\n",
    "import numpy as np\n",
    "# import logging\n",
    "# from matplotlib import animation # will be needed for rendering"
   ]
  },
  {
   "cell_type": "markdown",
   "metadata": {},
   "source": [
    "# All global variables needed\n",
    "Since some or all of these variables are needed for each cell below, it's difficult to put these inside the main function.\\\n",
    "Perhaps, using some args method might work?"
   ]
  },
  {
   "cell_type": "markdown",
   "metadata": {},
   "source": [
    "## Common Functions needed"
   ]
  },
  {
   "cell_type": "markdown",
   "metadata": {},
   "source": [
    "### Function to generate custom map"
   ]
  },
  {
   "cell_type": "code",
   "execution_count": 2,
   "metadata": {},
   "outputs": [],
   "source": [
    "# ============================================================================================\n",
    "# Function to generate custom map\n",
    "# ============================================================================================\n",
    "def make_env(env_name, env_dim = 4, seed = 42, stochastic = False):\n",
    "    env = gym.make(env_name, desc=generate_random_map(size=env_dim, seed=seed), \n",
    "                   is_slippery = stochastic, render_mode = 'rgb_array')\n",
    "    return env"
   ]
  },
  {
   "cell_type": "markdown",
   "metadata": {},
   "source": [
    "## Global Variables"
   ]
  },
  {
   "cell_type": "code",
   "execution_count": 37,
   "metadata": {},
   "outputs": [
    {
     "name": "stdout",
     "output_type": "stream",
     "text": [
      "State space:  16\n",
      "Action space:  4\n",
      "Folder 'mdp/runs_frozen' already exists.\n"
     ]
    }
   ],
   "source": [
    "'''\n",
    "env_name: str\n",
    "env_dim: int --> Dimension of the game: 4x4 or 8x8\n",
    "seed\n",
    "stochastic = boolean --> Whether we use is_slippery = True or False\n",
    " '''\n",
    "env_name = \"FrozenLake-v1\"\n",
    "env_dim = 4\n",
    "stochastic = False\n",
    "seed = 42\n",
    "gamma = 0.99 # discount factor in Q computation\n",
    "alpha = 0.1 # learning rate in the table\n",
    "num_episodes_q_table = 100_000\n",
    "convergence_threshold = 1e-4\n",
    "epsilon_start = 1\n",
    "epsilon_decay_q_table = 0.99995\n",
    "epsilon_end = 0.01\n",
    "check_env_details = True\n",
    "\n",
    "# Creating the environment\n",
    "env = make_env(env_name=env_name, env_dim=env_dim, seed = seed, stochastic=stochastic)\n",
    "state_dim = env.observation_space.n\n",
    "action_dim = env.action_space.n\n",
    "print(\"State space: \", env.observation_space.n)\n",
    "print(\"Action space: \", env.action_space.n)\n",
    "\n",
    "# state and trajectories related variables\n",
    "num_episodes_trajectories = 10_000\n",
    "num_states = state_dim\n",
    "num_actions = action_dim\n",
    "max_eps_len = 100\n",
    "modified = \"medium\" # perfect - for perfect trajectories, random - for purely random trajectories or \"medium\" for the combined trajs\n",
    "\n",
    "# w2v related variables\n",
    "''' Potential values for embedding dimensions = {4, 8, 12, 16, 20, 32, 64} '''\n",
    "# w2v hyperparameters\n",
    "embed_dim = 32\n",
    "window_size = 2\n",
    "batch_size = 16\n",
    "w2v_epochs = 30\n",
    "w2v_lr = 0.01\n",
    "device = torch.device(\"cuda\" if torch.cuda.is_available() else \"cpu\")\n",
    "\n",
    "# DQN variables\n",
    "parser = argparse.ArgumentParser()\n",
    "parser.add_argument(\"--env\", default=\"FrozenLake-v1\")          # Gymnasium environment name # Default = MountainCar-v0\n",
    "parser.add_argument(\"--seed\", default=42, type=int)              # sets Gym, PyTorch and Numpy seeds\n",
    "parser.add_argument(\"--n-episodes\", default=2500, type=int)     # maximum number of training episodes\n",
    "parser.add_argument(\"--batch-size\", default=64, type=int)       # training batch size\n",
    "parser.add_argument(\"--discount\", default=0.99)                 # discount factor\n",
    "parser.add_argument(\"--lr\", default=5e-4)                       # learning rate\n",
    "parser.add_argument(\"--tau\", default=0.001)                     # soft update of target network\n",
    "parser.add_argument(\"--max-size\", default=int(1e5),type=int)    # experience replay buffer length\n",
    "parser.add_argument(\"--update-freq\", default=4, type=int)       # update frequency of target network\n",
    "parser.add_argument(\"--gpu-index\", default=0,type=int)\t\t      # GPU index\n",
    "parser.add_argument(\"--max-esp-len\", default=100, type=int)    # maximum time of an episode\n",
    "#exploration strategy\n",
    "parser.add_argument(\"--epsilon-start\", default=1)               # start value of epsilon\n",
    "parser.add_argument(\"--epsilon-end\", default=0.01)              # end value of epsilon\n",
    "parser.add_argument(\"--epsilon-decay\", default=0.995)           # decay value of epsilon\n",
    "parser.add_argument(\"--save-filename\", default = \"dqn_w2v_FrozenLake-v1\" )\n",
    "args, unknown = parser.parse_known_args()\n",
    "\n",
    "# Filename for saving purposes - common part for all files\n",
    "filename = f\"{env_name}_map_size_{env_dim}_stochastic_{stochastic}_seed_{seed}\"\n",
    "\n",
    "# This folder path will be used to store all the saved models and the associated data\n",
    "runs_folder_path = \"mdp/runs_frozen\"\n",
    "\n",
    "# Check if the folder exists\n",
    "if not os.path.exists(runs_folder_path):\n",
    "    # Create the folder\n",
    "    os.makedirs(runs_folder_path)\n",
    "    print(f\"Folder '{runs_folder_path}' created successfully.\")\n",
    "else:\n",
    "    print(f\"Folder '{runs_folder_path}' already exists.\")\n"
   ]
  },
  {
   "cell_type": "markdown",
   "metadata": {},
   "source": [
    "# Tabular Q learning"
   ]
  },
  {
   "cell_type": "markdown",
   "metadata": {},
   "source": [
    "### Q-Learning Agent class"
   ]
  },
  {
   "cell_type": "code",
   "execution_count": 28,
   "metadata": {},
   "outputs": [],
   "source": [
    "# ============================================================================================\n",
    "# Q-Learning Agent class\n",
    "# ============================================================================================\n",
    "class QLearningAgent:\n",
    "    \"\"\"Q-learning agent.\"\"\"\n",
    "    def __init__(self, num_states, num_actions, gamma=0.99, epsilon=0.1, alpha=0.1):\n",
    "        self.num_states = num_states\n",
    "        self.num_actions = num_actions\n",
    "        self.alpha = alpha  # Learning rate\n",
    "        self.gamma = gamma  # Discount factor\n",
    "        self.epsilon = epsilon  # Exploration rate\n",
    "        self.q_table = np.zeros((num_states, num_actions))  # Initialize Q-table\n",
    "\n",
    "    def choose_action(self, state, epsilon):\n",
    "        \"\"\"Epsilon-greedy action selection.\"\"\"\n",
    "        if random.uniform(0, 1) < epsilon:\n",
    "            return random.randint(0, self.num_actions - 1)  # Explore\n",
    "        else:\n",
    "            return np.argmax(self.q_table[state, :])  # Exploit\n",
    "\n",
    "    def update_q_value(self, state, action, reward, next_state):\n",
    "        \"\"\"Q-learning update rule.\"\"\"\n",
    "        best_next_action = np.argmax(self.q_table[next_state, :])  # Greedy action for next state\n",
    "        td_target = reward + self.gamma * self.q_table[next_state, best_next_action]\n",
    "        td_error = td_target - self.q_table[state, action]\n",
    "        self.q_table[state, action] += self.alpha * td_error  # Update Q-table\n",
    "\n",
    "    def get_optimal_policy(self):\n",
    "        \"\"\"Extracts the optimal policy after training.\"\"\"\n",
    "        return np.argmax(self.q_table, axis=1)"
   ]
  },
  {
   "cell_type": "markdown",
   "metadata": {},
   "source": [
    "### Function to train the model using Q-learning for Frozen Lake"
   ]
  },
  {
   "cell_type": "code",
   "execution_count": 29,
   "metadata": {},
   "outputs": [],
   "source": [
    "# ============================================================================================\n",
    "# Function to train the model using Q-learning for Frozen Lake\n",
    "# ============================================================================================\n",
    "def run_tabular_q_frozen(env, agent, num_episodes=10, max_eps_len = 100, convergence_threshold=1e-4,\n",
    "                         epsilon_start = 1, epsilon_decay = 0.995, epsilon_end = 0.01, seed=42):\n",
    "    reward_curve = [] # this will store the moving avg of rewards\n",
    "    moving_window = deque(maxlen=100)\n",
    "    epsilon = epsilon_start\n",
    "    prev_q_table = np.copy(agent.q_table)  # Store old Q-table\n",
    "\n",
    "    for episode in tqdm(range(num_episodes)):\n",
    "        state,_ = env.reset(seed=seed)\n",
    "        # print(f\"\\nIn episode {episode}, After reset initial state = {state} and epsilon = {epsilon}\")\n",
    "        curr_reward = 0\n",
    "        flag = False\n",
    "\n",
    "        for _ in range(max_eps_len):\n",
    "            action = agent.choose_action(state, epsilon)\n",
    "            next_state, reward, done, _, _ = env.step(action)\n",
    "            agent.update_q_value(state, action, reward, next_state)\n",
    "            state = next_state\n",
    "            curr_reward += reward\n",
    "\n",
    "            # # Compute max Q-value change\n",
    "            # q_change = np.max(np.abs(agent.q_table - prev_q_table))\n",
    "            # prev_q_table = np.copy(agent.q_table)\n",
    "\n",
    "            # # Check Q-value convergence\n",
    "            # if q_change < convergence_threshold:\n",
    "            #     print(f\"Q-values converged at Episode {episode+1} with max Q-change: {q_change}\")\n",
    "            #     flag = True\n",
    "            #     break\n",
    "\n",
    "            if done:\n",
    "                break\n",
    "        # end while inside an episode\n",
    "        \n",
    "        # Epsilon decay performed at the end of each episode\n",
    "        epsilon *= epsilon_decay\n",
    "        epsilon = max(epsilon, epsilon_end)\n",
    "\n",
    "        # Appending the smoothened reward\n",
    "        moving_window.append(curr_reward)\n",
    "        reward_curve.append(np.mean(moving_window))\n",
    "\n",
    "        if episode % 1000 == 0:\n",
    "            print(f\"Tabular Q: Episode {episode}: epsilon = {epsilon}, avg reward = {np.mean(moving_window)}\")\n",
    "        # end if\n",
    "\n",
    "        # if flag:\n",
    "        #     break\n",
    "    # end for num_episode\n",
    "\n",
    "    return agent.q_table, agent.get_optimal_policy(), reward_curve"
   ]
  },
  {
   "cell_type": "markdown",
   "metadata": {},
   "source": [
    "### Running the Tabular Q learning"
   ]
  },
  {
   "cell_type": "code",
   "execution_count": 30,
   "metadata": {},
   "outputs": [
    {
     "name": "stdout",
     "output_type": "stream",
     "text": [
      "Frozen Lake Grid Layout:\n",
      "S H F F\n",
      "F F F F\n",
      "F H H F\n",
      "F F F G\n",
      "Goal State: 15\n",
      "State space:  16\n",
      "Action space:  4\n"
     ]
    },
    {
     "name": "stderr",
     "output_type": "stream",
     "text": [
      "  2%|▏         | 1822/100000 [00:00<00:05, 18193.17it/s]"
     ]
    },
    {
     "name": "stdout",
     "output_type": "stream",
     "text": [
      "Tabular Q: Episode 0: epsilon = 0.99995, avg reward = 0.0\n",
      "Tabular Q: Episode 1000: epsilon = 0.9511806740132733, avg reward = 0.02\n",
      "Tabular Q: Episode 2000: epsilon = 0.904789914112052, avg reward = 0.03\n",
      "Tabular Q: Episode 3000: epsilon = 0.8606617134311852, avg reward = 0.01\n"
     ]
    },
    {
     "name": "stderr",
     "output_type": "stream",
     "text": [
      "  7%|▋         | 7316/100000 [00:00<00:05, 17792.42it/s]"
     ]
    },
    {
     "name": "stdout",
     "output_type": "stream",
     "text": [
      "Tabular Q: Episode 4000: epsilon = 0.8186857229650423, avg reward = 0.08\n",
      "Tabular Q: Episode 5000: epsilon = 0.7787569756237134, avg reward = 0.12\n",
      "Tabular Q: Episode 6000: epsilon = 0.7407756237474893, avg reward = 0.11\n",
      "Tabular Q: Episode 7000: epsilon = 0.7046466894232127, avg reward = 0.07\n"
     ]
    },
    {
     "name": "stderr",
     "output_type": "stream",
     "text": [
      " 11%|█         | 10823/100000 [00:00<00:05, 16995.30it/s]"
     ]
    },
    {
     "name": "stdout",
     "output_type": "stream",
     "text": [
      "Tabular Q: Episode 8000: epsilon = 0.6702798269781429, avg reward = 0.17\n",
      "Tabular Q: Episode 9000: epsilon = 0.6375890970574211, avg reward = 0.31\n",
      "Tabular Q: Episode 10000: epsilon = 0.6064927517201779, avg reward = 0.28\n",
      "Tabular Q: Episode 11000: epsilon = 0.5769130300168653, avg reward = 0.41\n"
     ]
    },
    {
     "name": "stderr",
     "output_type": "stream",
     "text": [
      " 14%|█▍        | 14206/100000 [00:00<00:05, 16736.85it/s]"
     ]
    },
    {
     "name": "stdout",
     "output_type": "stream",
     "text": [
      "Tabular Q: Episode 12000: epsilon = 0.5487759635366593, avg reward = 0.29\n",
      "Tabular Q: Episode 13000: epsilon = 0.5220111914386566, avg reward = 0.42\n",
      "Tabular Q: Episode 14000: epsilon = 0.49655178450431714, avg reward = 0.41\n",
      "Tabular Q: Episode 15000: epsilon = 0.47233407777119996, avg reward = 0.46\n"
     ]
    },
    {
     "name": "stderr",
     "output_type": "stream",
     "text": [
      " 19%|█▉        | 19256/100000 [00:01<00:04, 16655.49it/s]"
     ]
    },
    {
     "name": "stdout",
     "output_type": "stream",
     "text": [
      "Tabular Q: Episode 16000: epsilon = 0.44929751132941503, avg reward = 0.56\n",
      "Tabular Q: Episode 17000: epsilon = 0.4273844788827431, avg reward = 0.51\n",
      "Tabular Q: Episode 18000: epsilon = 0.40654018369568434, avg reward = 0.51\n",
      "Tabular Q: Episode 19000: epsilon = 0.3867125015662202, avg reward = 0.6\n"
     ]
    },
    {
     "name": "stderr",
     "output_type": "stream",
     "text": [
      " 23%|██▎       | 22582/100000 [00:01<00:04, 16506.13it/s]"
     ]
    },
    {
     "name": "stdout",
     "output_type": "stream",
     "text": [
      "Tabular Q: Episode 20000: epsilon = 0.367851850481642, avg reward = 0.58\n",
      "Tabular Q: Episode 21000: epsilon = 0.34991106663148985, avg reward = 0.6\n",
      "Tabular Q: Episode 22000: epsilon = 0.332845286467567, avg reward = 0.55\n",
      "Tabular Q: Episode 23000: epsilon = 0.31661183451608793, avg reward = 0.63\n"
     ]
    },
    {
     "name": "stderr",
     "output_type": "stream",
     "text": [
      " 26%|██▌       | 25905/100000 [00:01<00:04, 16565.63it/s]"
     ]
    },
    {
     "name": "stdout",
     "output_type": "stream",
     "text": [
      "Tabular Q: Episode 24000: epsilon = 0.30117011666142574, avg reward = 0.61\n",
      "Tabular Q: Episode 25000: epsilon = 0.286481518634604, avg reward = 0.75\n",
      "Tabular Q: Episode 26000: epsilon = 0.2725093094526817, avg reward = 0.68\n",
      "Tabular Q: Episode 27000: epsilon = 0.259218549567572, avg reward = 0.78\n"
     ]
    },
    {
     "name": "stderr",
     "output_type": "stream",
     "text": [
      " 31%|███       | 30958/100000 [00:01<00:04, 16781.77it/s]"
     ]
    },
    {
     "name": "stdout",
     "output_type": "stream",
     "text": [
      "Tabular Q: Episode 28000: epsilon = 0.246576003494601, avg reward = 0.63\n",
      "Tabular Q: Episode 29000: epsilon = 0.23455005670232934, avg reward = 0.78\n",
      "Tabular Q: Episode 30000: epsilon = 0.22311063655580088, avg reward = 0.71\n",
      "Tabular Q: Episode 31000: epsilon = 0.21222913711553318, avg reward = 0.74\n"
     ]
    },
    {
     "name": "stderr",
     "output_type": "stream",
     "text": [
      " 34%|███▍      | 34347/100000 [00:02<00:03, 16616.70it/s]"
     ]
    },
    {
     "name": "stdout",
     "output_type": "stream",
     "text": [
      "Tabular Q: Episode 32000: epsilon = 0.20187834760418902, avg reward = 0.85\n",
      "Tabular Q: Episode 33000: epsilon = 0.19203238436205666, avg reward = 0.8\n",
      "Tabular Q: Episode 34000: epsilon = 0.18266662612118353, avg reward = 0.84\n",
      "Tabular Q: Episode 35000: epsilon = 0.17375765243629993, avg reward = 0.78\n"
     ]
    },
    {
     "name": "stderr",
     "output_type": "stream",
     "text": [
      " 38%|███▊      | 37834/100000 [00:02<00:03, 17040.26it/s]"
     ]
    },
    {
     "name": "stdout",
     "output_type": "stream",
     "text": [
      "Tabular Q: Episode 36000: epsilon = 0.16528318511857973, avg reward = 0.75\n",
      "Tabular Q: Episode 37000: epsilon = 0.15722203252577774, avg reward = 0.82\n",
      "Tabular Q: Episode 38000: epsilon = 0.14955403656943475, avg reward = 0.85\n",
      "Tabular Q: Episode 39000: epsilon = 0.14226002230663626, avg reward = 0.82\n"
     ]
    },
    {
     "name": "stderr",
     "output_type": "stream",
     "text": [
      " 43%|████▎     | 43064/100000 [00:02<00:03, 17304.99it/s]"
     ]
    },
    {
     "name": "stdout",
     "output_type": "stream",
     "text": [
      "Tabular Q: Episode 40000: epsilon = 0.1353217499902697, avg reward = 0.93\n",
      "Tabular Q: Episode 41000: epsilon = 0.12872186945787317, avg reward = 0.86\n",
      "Tabular Q: Episode 42000: epsilon = 0.12244387674502544, avg reward = 0.85\n",
      "Tabular Q: Episode 43000: epsilon = 0.11647207281477254, avg reward = 0.9\n"
     ]
    },
    {
     "name": "stderr",
     "output_type": "stream",
     "text": [
      " 47%|████▋     | 46569/100000 [00:02<00:03, 17425.07it/s]"
     ]
    },
    {
     "name": "stdout",
     "output_type": "stream",
     "text": [
      "Tabular Q: Episode 44000: epsilon = 0.11079152429989349, avg reward = 0.84\n",
      "Tabular Q: Episode 45000: epsilon = 0.10538802615983875, avg reward = 0.81\n",
      "Tabular Q: Episode 46000: epsilon = 0.10024806615895202, avg reward = 0.92\n",
      "Tabular Q: Episode 47000: epsilon = 0.09535879107715316, avg reward = 0.93\n"
     ]
    },
    {
     "name": "stderr",
     "output_type": "stream",
     "text": [
      " 50%|█████     | 50109/100000 [00:02<00:02, 17570.85it/s]"
     ]
    },
    {
     "name": "stdout",
     "output_type": "stream",
     "text": [
      "Tabular Q: Episode 48000: epsilon = 0.09070797456858609, avg reward = 0.88\n",
      "Tabular Q: Episode 49000: epsilon = 0.08628398658785626, avg reward = 0.9\n",
      "Tabular Q: Episode 50000: epsilon = 0.08207576430740496, avg reward = 0.88\n",
      "Tabular Q: Episode 51000: epsilon = 0.07807278445329505, avg reward = 0.89\n"
     ]
    },
    {
     "name": "stderr",
     "output_type": "stream",
     "text": [
      " 55%|█████▌    | 55476/100000 [00:03<00:02, 17798.98it/s]"
     ]
    },
    {
     "name": "stdout",
     "output_type": "stream",
     "text": [
      "Tabular Q: Episode 52000: epsilon = 0.07426503699022786, avg reward = 0.95\n",
      "Tabular Q: Episode 53000: epsilon = 0.07064300008999028, avg reward = 0.85\n",
      "Tabular Q: Episode 54000: epsilon = 0.06719761632073298, avg reward = 0.9\n",
      "Tabular Q: Episode 55000: epsilon = 0.06392026999754027, avg reward = 0.93\n"
     ]
    },
    {
     "name": "stderr",
     "output_type": "stream",
     "text": [
      " 59%|█████▉    | 59053/100000 [00:03<00:02, 17841.56it/s]"
     ]
    },
    {
     "name": "stdout",
     "output_type": "stream",
     "text": [
      "Tabular Q: Episode 56000: epsilon = 0.06080276563765279, avg reward = 0.91\n",
      "Tabular Q: Episode 57000: epsilon = 0.05783730746646704, avg reward = 0.91\n",
      "Tabular Q: Episode 58000: epsilon = 0.05501647992306336, avg reward = 0.94\n",
      "Tabular Q: Episode 59000: epsilon = 0.05233322911651293, avg reward = 0.92\n"
     ]
    },
    {
     "name": "stderr",
     "output_type": "stream",
     "text": [
      " 63%|██████▎   | 62632/100000 [00:03<00:02, 17760.98it/s]"
     ]
    },
    {
     "name": "stdout",
     "output_type": "stream",
     "text": [
      "Tabular Q: Episode 60000: epsilon = 0.04978084518659529, avg reward = 0.95\n",
      "Tabular Q: Episode 61000: epsilon = 0.04735294552481254, avg reward = 0.96\n",
      "Tabular Q: Episode 62000: epsilon = 0.0450434588137458, avg reward = 0.97\n",
      "Tabular Q: Episode 63000: epsilon = 0.04284660984484019, avg reward = 1.0\n"
     ]
    },
    {
     "name": "stderr",
     "output_type": "stream",
     "text": [
      " 66%|██████▌   | 66215/100000 [00:03<00:01, 17839.30it/s]"
     ]
    },
    {
     "name": "stdout",
     "output_type": "stream",
     "text": [
      "Tabular Q: Episode 64000: epsilon = 0.04075690507665269, avg reward = 0.96\n",
      "Tabular Q: Episode 65000: epsilon = 0.03876911889745041, avg reward = 0.97\n",
      "Tabular Q: Episode 66000: epsilon = 0.03687828055780553, avg reward = 0.96\n",
      "Tabular Q: Episode 67000: epsilon = 0.03507966174051114, avg reward = 0.95\n"
     ]
    },
    {
     "name": "stderr",
     "output_type": "stream",
     "text": [
      " 72%|███████▏  | 71603/100000 [00:04<00:01, 17924.05it/s]"
     ]
    },
    {
     "name": "stdout",
     "output_type": "stream",
     "text": [
      "Tabular Q: Episode 68000: epsilon = 0.03336876473673393, avg reward = 0.99\n",
      "Tabular Q: Episode 69000: epsilon = 0.031741311198836865, avg reward = 0.98\n",
      "Tabular Q: Episode 70000: epsilon = 0.03019323144174688, avg reward = 0.99\n",
      "Tabular Q: Episode 71000: epsilon = 0.0287206542661129, avg reward = 0.99\n"
     ]
    },
    {
     "name": "stderr",
     "output_type": "stream",
     "text": [
      " 75%|███████▌  | 75210/100000 [00:04<00:01, 17974.78it/s]"
     ]
    },
    {
     "name": "stdout",
     "output_type": "stream",
     "text": [
      "Tabular Q: Episode 72000: epsilon = 0.027319897277807384, avg reward = 0.98\n",
      "Tabular Q: Episode 73000: epsilon = 0.025987457679562245, avg reward = 0.99\n",
      "Tabular Q: Episode 74000: epsilon = 0.02472000351171302, avg reward = 0.98\n",
      "Tabular Q: Episode 75000: epsilon = 0.0235143653201477, avg reward = 0.98\n"
     ]
    },
    {
     "name": "stderr",
     "output_type": "stream",
     "text": [
      " 79%|███████▉  | 78804/100000 [00:04<00:01, 17949.70it/s]"
     ]
    },
    {
     "name": "stdout",
     "output_type": "stream",
     "text": [
      "Tabular Q: Episode 76000: epsilon = 0.02236752823062398, avg reward = 0.99\n",
      "Tabular Q: Episode 77000: epsilon = 0.021276624409636378, avg reward = 0.96\n",
      "Tabular Q: Episode 78000: epsilon = 0.0202389258929799, avg reward = 0.96\n",
      "Tabular Q: Episode 79000: epsilon = 0.019251837764077552, avg reward = 0.98\n"
     ]
    },
    {
     "name": "stderr",
     "output_type": "stream",
     "text": [
      " 82%|████████▏ | 82414/100000 [00:04<00:00, 17988.16it/s]"
     ]
    },
    {
     "name": "stdout",
     "output_type": "stream",
     "text": [
      "Tabular Q: Episode 80000: epsilon = 0.018312891665012748, avg reward = 1.0\n",
      "Tabular Q: Episode 81000: epsilon = 0.017419739624040163, avg reward = 0.99\n",
      "Tabular Q: Episode 82000: epsilon = 0.016570148184139464, avg reward = 0.97\n",
      "Tabular Q: Episode 83000: epsilon = 0.015761992817930556, avg reward = 0.99\n"
     ]
    },
    {
     "name": "stderr",
     "output_type": "stream",
     "text": [
      " 86%|████████▌ | 86010/100000 [00:04<00:00, 17842.49it/s]"
     ]
    },
    {
     "name": "stdout",
     "output_type": "stream",
     "text": [
      "Tabular Q: Episode 84000: epsilon = 0.014993252614982331, avg reward = 0.98\n",
      "Tabular Q: Episode 85000: epsilon = 0.014262005228231584, avg reward = 0.97\n",
      "Tabular Q: Episode 86000: epsilon = 0.01356642206687351, avg reward = 1.0\n",
      "Tabular Q: Episode 87000: epsilon = 0.012904763723703517, avg reward = 1.0\n"
     ]
    },
    {
     "name": "stderr",
     "output_type": "stream",
     "text": [
      " 91%|█████████▏| 91447/100000 [00:05<00:00, 18045.94it/s]"
     ]
    },
    {
     "name": "stdout",
     "output_type": "stream",
     "text": [
      "Tabular Q: Episode 88000: epsilon = 0.012275375625475645, avg reward = 0.98\n",
      "Tabular Q: Episode 89000: epsilon = 0.011676683895400804, avg reward = 1.0\n",
      "Tabular Q: Episode 90000: epsilon = 0.011107191417438142, avg reward = 1.0\n",
      "Tabular Q: Episode 91000: epsilon = 0.010565474092537885, avg reward = 0.99\n"
     ]
    },
    {
     "name": "stderr",
     "output_type": "stream",
     "text": [
      " 95%|█████████▌| 95085/100000 [00:05<00:00, 18121.01it/s]"
     ]
    },
    {
     "name": "stdout",
     "output_type": "stream",
     "text": [
      "Tabular Q: Episode 92000: epsilon = 0.010050177277473855, avg reward = 1.0\n",
      "Tabular Q: Episode 93000: epsilon = 0.01, avg reward = 1.0\n",
      "Tabular Q: Episode 94000: epsilon = 0.01, avg reward = 0.96\n",
      "Tabular Q: Episode 95000: epsilon = 0.01, avg reward = 0.97\n"
     ]
    },
    {
     "name": "stderr",
     "output_type": "stream",
     "text": [
      " 99%|█████████▊| 98700/100000 [00:05<00:00, 18000.17it/s]"
     ]
    },
    {
     "name": "stdout",
     "output_type": "stream",
     "text": [
      "Tabular Q: Episode 96000: epsilon = 0.01, avg reward = 1.0\n",
      "Tabular Q: Episode 97000: epsilon = 0.01, avg reward = 1.0\n",
      "Tabular Q: Episode 98000: epsilon = 0.01, avg reward = 1.0\n",
      "Tabular Q: Episode 99000: epsilon = 0.01, avg reward = 0.99\n"
     ]
    },
    {
     "name": "stderr",
     "output_type": "stream",
     "text": [
      "100%|██████████| 100000/100000 [00:05<00:00, 17482.77it/s]"
     ]
    },
    {
     "name": "stdout",
     "output_type": "stream",
     "text": [
      "State: Type -    V(s),    action taken\n",
      "     0:   S - 0.95, 1-->Down\n",
      "     1:   H - 0.00, 0-->Left\n",
      "     2:   F - 0.93, 1-->Down\n",
      "     3:   F - 0.92, 1-->Down\n",
      "     4:   F - 0.96, 1-->Down\n",
      "     5:   F - 0.95, 0-->Left\n",
      "     6:   F - 0.94, 0-->Left\n",
      "     7:   F - 0.93, 0-->Left\n",
      "     8:   F - 0.97, 1-->Down\n",
      "     9:   H - 0.00, 0-->Left\n",
      "     10:   H - 0.00, 0-->Left\n",
      "     11:   F - 0.94, 1-->Down\n",
      "     12:   F - 0.98, 2-->Right\n",
      "     13:   F - 0.99, 2-->Right\n",
      "     14:   F - 1.00, 2-->Right\n",
      "     15:   G - 0.00, 0-->Left\n",
      "Final Q function:  [[0.94148015 0.95099005 0.         0.94148015]\n",
      " [0.         0.         0.         0.        ]\n",
      " [0.         0.93205586 0.87474419 0.90862408]\n",
      " [0.86271014 0.92179288 0.87716587 0.80318285]\n",
      " [0.95099005 0.96059601 0.94148015 0.94148015]\n",
      " [0.95099005 0.         0.93206535 0.        ]\n",
      " [0.94148015 0.         0.92274081 0.92271159]\n",
      " [0.93206502 0.85285683 0.91736803 0.89972552]\n",
      " [0.96059601 0.970299   0.         0.95099005]\n",
      " [0.         0.         0.         0.        ]\n",
      " [0.         0.         0.         0.        ]\n",
      " [0.         0.94185026 0.59754739 0.71131077]\n",
      " [0.970299   0.970299   0.9801     0.96059601]\n",
      " [0.970299   0.9801     0.99       0.        ]\n",
      " [0.9801     0.99       1.         0.        ]\n",
      " [0.         0.         0.         0.        ]]\n"
     ]
    },
    {
     "name": "stderr",
     "output_type": "stream",
     "text": [
      "\n"
     ]
    }
   ],
   "source": [
    "# env = make_env(env_name=env_name, env_dim=env_dim, seed = seed, stochastic=stochastic)\n",
    "\n",
    "# Setting seeds\n",
    "np.random.seed(seed)\n",
    "random.seed(seed)\n",
    "\n",
    "if check_env_details:\n",
    "    # Extract the environment description (grid layout)\n",
    "    lake_grid = env.unwrapped.desc  # Gets the grid representation\n",
    "\n",
    "    # Print state-to-symbol mapping\n",
    "    print(\"Frozen Lake Grid Layout:\")\n",
    "    for row in lake_grid:\n",
    "        print(\" \".join(row.astype(str)))\n",
    "\n",
    "    goal_state = None\n",
    "    rows, cols = lake_grid.shape\n",
    "    for i in range(rows):\n",
    "        for j in range(cols):\n",
    "            if lake_grid[i, j] == b'G':  # 'G' is stored as a byte-string\n",
    "                goal_state = i * cols + j  # Convert (row, col) to state number\n",
    "                break\n",
    "        # end for j\n",
    "    # end for i\n",
    "    print(f\"Goal State: {goal_state}\")\n",
    "# end if check_env\n",
    "\n",
    "state_dim = env.observation_space.n\n",
    "action_dim = env.action_space.n\n",
    "print(\"State space: \", env.observation_space.n)\n",
    "print(\"Action space: \", env.action_space.n)\n",
    "\n",
    "learner = QLearningAgent(num_states=state_dim, num_actions=action_dim, gamma=gamma\n",
    "                            , epsilon=epsilon_start, alpha=alpha) # Creating the learning Agent\n",
    "\n",
    "final_q_table, final_policy, reward_curve = run_tabular_q_frozen(\n",
    "                env, learner, num_episodes=num_episodes_q_table, max_eps_len=max_eps_len, convergence_threshold=convergence_threshold,\n",
    "                epsilon_start = epsilon_start, epsilon_decay = epsilon_decay_q_table, epsilon_end = epsilon_end, seed=seed)\n",
    "\n",
    "Val_f = np.max(final_q_table, axis=1)\n",
    "\n",
    "state = 0\n",
    "# Define action map\n",
    "action_map = {\n",
    "0: \"Left\",\n",
    "1: \"Down\",\n",
    "2: \"Right\",\n",
    "3: \"Up\"\n",
    "}\n",
    "print(\"State: Type -    V(s),    action taken\")\n",
    "lake_grid = env.unwrapped.desc  # Gets the grid representation\n",
    "for row in lake_grid:\n",
    "    for cell in row:\n",
    "        print(f\"     {state}:   {cell.decode('utf-8')} - {Val_f[state]:.2f}, {final_policy[state]}-->{action_map[final_policy[state]]}\")  # Convert byte to string\n",
    "        state += 1\n",
    "# assert False, \"c1\"\n",
    "\n",
    "# Print the final table and policy\n",
    "print(\"Final Q function: \", final_q_table)\n",
    "# print(\"Final Policy: \", final_policy)\n",
    "# print(\"Final Value function: \", Val_f)\n",
    "\n",
    "# # Plot heatmap of the Value function\n",
    "# plt.figure(figsize=(5,5))\n",
    "# plt.imshow(Val_f.reshape(4,4), cmap=\"coolwarm\", interpolation=\"nearest\")\n",
    "# for i in range(4):\n",
    "#     for j in range(4):\n",
    "#         plt.text(j, i, f\"{Val_f[i*4+j]:.2f}\", ha='center', va='center', color='black')\n",
    "\n",
    "\n",
    "# Plot the reward curve\n",
    "\n",
    "\n",
    "\n",
    "# Save the current Q-function\n",
    "save_model = f\"{runs_folder_path}/Q_table_{filename}.npy\"\n",
    "np.save(save_model, final_q_table)"
   ]
  },
  {
   "cell_type": "markdown",
   "metadata": {},
   "source": [
    "# Collecting Trajectories\n",
    "Here we may need to ensure that the trajectories sufficiently explore each state.\\\n",
    "Thus, we may want to start from specific states when reseting the environment during trajectory collection."
   ]
  },
  {
   "cell_type": "code",
   "execution_count": 31,
   "metadata": {},
   "outputs": [],
   "source": [
    "def choose_action(q_table, state, epsilon):\n",
    "    \"\"\"Epsilon-greedy action selection.\"\"\"\n",
    "    if random.uniform(0, 1) < epsilon:\n",
    "        return random.randint(0, num_actions - 1)  # Explore\n",
    "    else:\n",
    "        return np.argmax(q_table[state, :])  # Exploit"
   ]
  },
  {
   "cell_type": "code",
   "execution_count": 32,
   "metadata": {},
   "outputs": [
    {
     "name": "stderr",
     "output_type": "stream",
     "text": [
      "  0%|          | 0/10000 [00:00<?, ?it/s]"
     ]
    },
    {
     "name": "stderr",
     "output_type": "stream",
     "text": [
      " 16%|█▋        | 1646/10000 [00:00<00:00, 16459.51it/s]"
     ]
    },
    {
     "name": "stdout",
     "output_type": "stream",
     "text": [
      "We're dealing with medium trajs!\n"
     ]
    },
    {
     "name": "stderr",
     "output_type": "stream",
     "text": [
      "100%|██████████| 10000/10000 [00:00<00:00, 15732.60it/s]"
     ]
    },
    {
     "name": "stdout",
     "output_type": "stream",
     "text": [
      "Trajectories Saved in mdp/runs_frozen/modified_medium_trajectories_FrozenLake-v1_map_size_4_stochastic_False_seed_19.npy!\n"
     ]
    },
    {
     "name": "stderr",
     "output_type": "stream",
     "text": [
      "\n"
     ]
    }
   ],
   "source": [
    "q_table = np.load(f\"{runs_folder_path}/Q_table_{filename}.npy\")\n",
    "# env = make_env(env_name=env_name, env_dim=env_dim, seed = seed, stochastic=stochastic)\n",
    "flag = False\n",
    "traj = []\n",
    "tuple_traj = False\n",
    "for e in tqdm(range(num_episodes_trajectories)):\n",
    "    if modified==\"perfect\":\n",
    "        _, _ = env.reset()\n",
    "        epsilon = 0.01\n",
    "        state = int(e%16)\n",
    "        if flag==False:\n",
    "            print(f\"We're dealing with {modified} trajs!\")\n",
    "            flag = True\n",
    "    # end if perfect\n",
    "\n",
    "    elif modified==\"random\":\n",
    "        epsilon = 1\n",
    "        if random.uniform(0, 1) < 0.1:\n",
    "            if random.uniform(0, 1) < 0.5:\n",
    "                state = 3\n",
    "            elif random.uniform(0, 1) < 0.65:\n",
    "                state = 6\n",
    "            else:\n",
    "                state = 7\n",
    "            # end if choosing state\n",
    "        else:\n",
    "            state, _ = env.reset(seed=seed)\n",
    "        \n",
    "        if flag==False:\n",
    "            print(f\"We're dealing with {modified} trajs!\")\n",
    "            flag = True\n",
    "    # end if random trajectories\n",
    "    \n",
    "    else:\n",
    "        # continue    \n",
    "        if e<0.1*num_episodes_trajectories:\n",
    "          epsilon = 1\n",
    "        elif e<0.2*num_episodes_trajectories:\n",
    "          epsilon = 0.8\n",
    "        elif e<0.3*num_episodes_trajectories:\n",
    "          epsilon = 0.6\n",
    "        elif e<0.4*num_episodes_trajectories:\n",
    "          epsilon = 0.4\n",
    "        elif e<0.5*num_episodes_trajectories:\n",
    "          epsilon = 0.2\n",
    "        elif e<0.6*num_episodes_trajectories:\n",
    "          epsilon = 0.1\n",
    "        elif e<0.7*num_episodes_trajectories:\n",
    "          epsilon = 0.05\n",
    "        else:\n",
    "          epsilon = 0.01\n",
    "        # end epsilon if\n",
    "        if random.uniform(0, 1) < 0.1:\n",
    "            state, _ = env.reset(seed=seed)\n",
    "            if random.uniform(0, 1) < 0.5:\n",
    "                state = 3\n",
    "            elif random.uniform(0, 1) < 0.65:\n",
    "                state = 6\n",
    "            else:\n",
    "                state = 7\n",
    "            # end if choosing state\n",
    "        else:\n",
    "            state, _ = env.reset(seed=seed)\n",
    "        \n",
    "        if flag==False:\n",
    "            print(f\"We're dealing with {modified} trajs!\")\n",
    "            flag = True\n",
    "        # end flag if\n",
    "    \n",
    "    if not tuple_traj:\n",
    "       traj.append('s_'+str(state))\n",
    "    '''\n",
    "    Action Stochasticity (is_slippery=True): The seed affects how the agent slips \n",
    "    (randomly moves instead of following the chosen action).\n",
    "    Random Hole Placement (if map is generated dynamically): If the map has random \n",
    "    elements, different seeds can affect the placement of H (holes).\n",
    "    '''\n",
    "    curr_reward = 0\n",
    "    rep_count = 0\n",
    "    for t in range(max_eps_len):\n",
    "      action = choose_action(q_table, state, epsilon) #To be implemented\n",
    "      n_state,reward,done,_,_ = env.step(action)\n",
    "      \n",
    "      # We store the current tuple\n",
    "      if tuple_traj:\n",
    "        traj.append((state, action, reward, n_state, done))\n",
    "      else:\n",
    "        temp = 's_'+str(n_state)\n",
    "        # traj.append('s_'+str(n_state))\n",
    "        traj.append(temp)\n",
    "\n",
    "      state = n_state\n",
    "      curr_reward += reward\n",
    "      if done:\n",
    "        if rep_count>=5: # This forces repetitions to occur when done becomes True thereby repeating ending states\n",
    "            if not tuple_traj:\n",
    "                if temp=='s_15':\n",
    "                    traj.append('s_'+str(16))\n",
    "                else:\n",
    "                    traj.append('s_'+str(17))\n",
    "            break\n",
    "        else:\n",
    "            if not tuple_traj:\n",
    "                traj.append(temp)\n",
    "        rep_count+=1\n",
    "    # end for\n",
    "# end for\n",
    "if tuple_traj:\n",
    "    save_file_name = f\"{runs_folder_path}/modified_tuple_trajectories_{filename}.npy\"\n",
    "    np.save(save_file_name, traj)\n",
    "else:\n",
    "    save_file_name = f\"{runs_folder_path}/modified_{modified}_trajectories_{filename}.npy\"\n",
    "    np.save(save_file_name, traj)\n",
    "print(f\"Trajectories Saved in {save_file_name}!\")\n",
    "\n",
    "# assert False, \"No w2v business here\""
   ]
  },
  {
   "cell_type": "markdown",
   "metadata": {},
   "source": [
    "# Performing w2v"
   ]
  },
  {
   "cell_type": "code",
   "execution_count": 30,
   "metadata": {},
   "outputs": [
    {
     "name": "stdout",
     "output_type": "stream",
     "text": [
      "The trajectories being used are:  mdp/runs_frozen/modified_perfect_trajectories_FrozenLake-v1_map_size_4_stochastic_False_seed_42.npy\n"
     ]
    },
    {
     "data": {
      "text/plain": [
       "<torch._C.Generator at 0x791aa1f66a90>"
      ]
     },
     "execution_count": 30,
     "metadata": {},
     "output_type": "execute_result"
    }
   ],
   "source": [
    "traj_file = f\"{runs_folder_path}/modified_{modified}_trajectories_{filename}.npy\"\n",
    "print(\"The trajectories being used are: \", traj_file)\n",
    "\n",
    "text = np.load(traj_file)\n",
    "np.random.seed(seed=seed)\n",
    "torch.manual_seed(seed)"
   ]
  },
  {
   "cell_type": "markdown",
   "metadata": {},
   "source": [
    "### Now we define the functions for word2vec algorithm"
   ]
  },
  {
   "cell_type": "code",
   "execution_count": 31,
   "metadata": {},
   "outputs": [
    {
     "name": "stdout",
     "output_type": "stream",
     "text": [
      "vocab:  {'s_0': 0, 's_4': 1, 's_8': 2, 's_9': 3, 's_10': 4, 's_14': 5, 's_15': 6, 's_16': 7, 's_1': 8, 's_11': 9, 's_17': 10, 's_2': 11, 's_3': 12, 's_5': 13, 's_6': 14, 's_7': 15, 's_12': 16, 's_13': 17}\n",
      "word counts:  Counter({'s_15': 109129, 's_4': 10692, 's_8': 10685, 's_9': 10632, 's_10': 10607, 's_14': 10569, 's_16': 9864, 's_0': 7557, 's_1': 2528, 's_5': 1274, 's_13': 1142, 's_11': 889, 's_2': 691, 's_12': 652, 's_6': 648, 's_3': 625, 's_7': 625, 's_17': 136})\n"
     ]
    }
   ],
   "source": [
    "def build_vocab(text): # Again we already have a vocabulary hence don't need to use this function directly\n",
    "    word_counts = Counter(text)\n",
    "    vocab = {word: i for i, word in enumerate(word_counts.keys())}\n",
    "    reverse_vocab = {i: word for word, i in vocab.items()}\n",
    "    return vocab, reverse_vocab, word_counts\n",
    "\n",
    "def generate_skipgram_pairs(text, window_size=2): # This function gives the word and context pairs.\n",
    "    # words = tokenize_text(text)\n",
    "    words = text\n",
    "    pairs = []\n",
    "    for i, target_word in enumerate(words):\n",
    "        window_start = max(i - window_size, 0)\n",
    "        window_end = min(i + window_size + 1, len(words))\n",
    "        for j in range(window_start, window_end):\n",
    "            if i != j:\n",
    "                pairs.append((words[i], words[j]))\n",
    "    return pairs\n",
    "\n",
    "vocab,_,wcounts = build_vocab(text)\n",
    "print(\"vocab: \", vocab)\n",
    "print(\"word counts: \", wcounts)\n",
    "# assert False, \"Checking the word counts!\""
   ]
  },
  {
   "cell_type": "markdown",
   "metadata": {},
   "source": [
    "### Word2vec class definition"
   ]
  },
  {
   "cell_type": "code",
   "execution_count": 32,
   "metadata": {},
   "outputs": [],
   "source": [
    "# ============================================================================================\n",
    "# Classes: Word2vec Dataset creator and SkipGram model\n",
    "# ============================================================================================\n",
    "\n",
    "class Word2VecDataset(Dataset):\n",
    "    def __init__(self, text, vocab, window_size=2):\n",
    "        self.vocab = vocab\n",
    "        self.data = generate_skipgram_pairs(text, window_size)\n",
    "        self.vocab_size = len(vocab) # why is this needed here?\n",
    "\n",
    "    def __len__(self): # what does this function do?\n",
    "        return len(self.data)\n",
    "\n",
    "    def __getitem__(self, idx):\n",
    "        target, context = self.data[idx]\n",
    "        ''' Doesn't the above idx reflect the idx numbered pair instead in pairs instead of the pairs\n",
    "        corresponding to the word at idx? '''\n",
    "        target_idx = torch.tensor(self.vocab[target], dtype=torch.long)\n",
    "        context_idx = torch.tensor(self.vocab[context], dtype=torch.long)\n",
    "        # target_idx = self.vocab[target]\n",
    "        # context_idx = self.vocab[context]\n",
    "\n",
    "        return target_idx, context_idx\n",
    "    \n",
    "\n",
    "    # ============================================================================================\n",
    "# Class: SkipGram using softmax over entire vocabulary\n",
    "# ============================================================================================\n",
    "\n",
    "class SkipGram(nn.Module):\n",
    "    def __init__(self, vocab_size, embedding_dim):\n",
    "        super(SkipGram, self).__init__()\n",
    "        self.embedding_dim = embedding_dim\n",
    "\n",
    "        # Input word embedding\n",
    "        self.in_embedding = nn.Embedding(vocab_size, embedding_dim)\n",
    "        # Output word embedding (used for context words)\n",
    "        self.out_embedding = nn.Embedding(vocab_size, embedding_dim)\n",
    "\n",
    "        # Initialize weights (better stability)\n",
    "        init_range = 0.5 / embedding_dim\n",
    "        self.in_embedding.weight.data.uniform_(-init_range, init_range)\n",
    "        self.out_embedding.weight.data.uniform_(-init_range, init_range)\n",
    "\n",
    "    def forward(self, center_word_idx):\n",
    "        \"\"\"Compute word embeddings and softmax probabilities for the context words.\"\"\"\n",
    "        center_embed = F.relu(self.in_embedding(center_word_idx))  # Shape: (batch_size, embedding_dim)\n",
    "        scores = torch.matmul(center_embed, self.out_embedding.weight.T)  # Compute dot product\n",
    "        y_pred = torch.softmax(scores, dim=1)  # Apply softmax over output vocab\n",
    "        return y_pred\n",
    "\n",
    "    def get_word_vector(self, word_idx):\n",
    "        \"\"\"Return the learned embedding vector for a given word index.\"\"\"\n",
    "        return self.in_embedding(word_idx).detach().cpu().numpy()"
   ]
  },
  {
   "cell_type": "markdown",
   "metadata": {},
   "source": [
    "### Saving the word_embeddings"
   ]
  },
  {
   "cell_type": "code",
   "execution_count": 33,
   "metadata": {},
   "outputs": [],
   "source": [
    "# ============================================================================================\n",
    "#  Saving the w2v generated vector embeddings as a dictionary\n",
    "# ============================================================================================\n",
    "def save_embeddings(model, vocab):\n",
    "    word_embeddings = {}\n",
    "    for word in vocab:\n",
    "        word_idx = torch.tensor([vocab[word]], dtype=torch.long).to(device)\n",
    "        updated_embedding = model.get_word_vector(word_idx)\n",
    "        # print(f\"Updated embedding for '{word}': {updated_embedding}\")\n",
    "        # Store the embedding in the dictionary\n",
    "        word_embeddings[word] = updated_embedding.flatten()  # Flatten to 1D array\n",
    "    return word_embeddings"
   ]
  },
  {
   "cell_type": "markdown",
   "metadata": {},
   "source": [
    "### Training function"
   ]
  },
  {
   "cell_type": "code",
   "execution_count": 38,
   "metadata": {},
   "outputs": [],
   "source": [
    "# ============================================================================================\n",
    "# Function: to train the w2v skipgram model\n",
    "# ============================================================================================\n",
    "\n",
    "def train_skipgram(model, data_loader, epochs=6, lr=0.01, device = device):\n",
    "    \"\"\"Train the SkipGram model using Adam optimizer.\"\"\"\n",
    "    criterion = nn.CrossEntropyLoss()  # Cross-entropy for multi-class classification\n",
    "    optimizer = optim.Adam(model.parameters(), lr)\n",
    "\n",
    "    for epoch in tqdm(range(epochs)):\n",
    "        total_loss = 0\n",
    "        for center_word_idx, context_word_idx in data_loader:\n",
    "            center_word_idx = center_word_idx.to(device)\n",
    "            context_word_idx = context_word_idx.to(device)\n",
    "\n",
    "            optimizer.zero_grad()\n",
    "            y_pred = model(center_word_idx)  # Forward pass\n",
    "            loss = criterion(y_pred, context_word_idx)  # Compute loss\n",
    "            loss.backward()  # Backpropagation\n",
    "            optimizer.step()  # Update weights\n",
    "\n",
    "            total_loss += loss.item()\n",
    "        \n",
    "        # Saving the models mid-way for training epoch comparison\n",
    "        if epoch==5 or epoch==9 or epoch==29 or epoch==49:\n",
    "            word_embeddings = save_embeddings(model, vocab)\n",
    "            np.save(f\"{runs_folder_path}/modified_{modified}_w2v_embed_dim_{embed_dim}_{filename}_epochs_{epoch+1}.npy\", word_embeddings)\n",
    "\n",
    "        print(f\"Epoch {epoch+1}, Loss: {total_loss:.4f}\")\n",
    "\n",
    "    return model"
   ]
  },
  {
   "cell_type": "markdown",
   "metadata": {},
   "source": [
    "### Main function for w2v"
   ]
  },
  {
   "cell_type": "code",
   "execution_count": 40,
   "metadata": {},
   "outputs": [
    {
     "name": "stderr",
     "output_type": "stream",
     "text": [
      "  3%|▎         | 1/30 [00:17<08:25, 17.42s/it]"
     ]
    },
    {
     "name": "stdout",
     "output_type": "stream",
     "text": [
      "Epoch 1, Loss: 110802.2003\n"
     ]
    },
    {
     "name": "stderr",
     "output_type": "stream",
     "text": [
      "  7%|▋         | 2/30 [00:35<08:15, 17.71s/it]"
     ]
    },
    {
     "name": "stdout",
     "output_type": "stream",
     "text": [
      "Epoch 2, Loss: 110753.2706\n"
     ]
    },
    {
     "name": "stderr",
     "output_type": "stream",
     "text": [
      " 10%|█         | 3/30 [00:52<07:56, 17.63s/it]"
     ]
    },
    {
     "name": "stdout",
     "output_type": "stream",
     "text": [
      "Epoch 3, Loss: 110776.3044\n"
     ]
    },
    {
     "name": "stderr",
     "output_type": "stream",
     "text": [
      " 13%|█▎        | 4/30 [01:09<07:25, 17.15s/it]"
     ]
    },
    {
     "name": "stdout",
     "output_type": "stream",
     "text": [
      "Epoch 4, Loss: 110776.6284\n"
     ]
    },
    {
     "name": "stderr",
     "output_type": "stream",
     "text": [
      " 17%|█▋        | 5/30 [01:27<07:14, 17.39s/it]"
     ]
    },
    {
     "name": "stdout",
     "output_type": "stream",
     "text": [
      "Epoch 5, Loss: 110890.8066\n"
     ]
    },
    {
     "name": "stderr",
     "output_type": "stream",
     "text": [
      " 20%|██        | 6/30 [01:44<07:00, 17.51s/it]"
     ]
    },
    {
     "name": "stdout",
     "output_type": "stream",
     "text": [
      "Epoch 6, Loss: 111264.8333\n"
     ]
    },
    {
     "name": "stderr",
     "output_type": "stream",
     "text": [
      " 23%|██▎       | 7/30 [02:01<06:39, 17.39s/it]"
     ]
    },
    {
     "name": "stdout",
     "output_type": "stream",
     "text": [
      "Epoch 7, Loss: 111385.4219\n"
     ]
    },
    {
     "name": "stderr",
     "output_type": "stream",
     "text": [
      " 27%|██▋       | 8/30 [02:18<06:14, 17.00s/it]"
     ]
    },
    {
     "name": "stdout",
     "output_type": "stream",
     "text": [
      "Epoch 8, Loss: 111748.7698\n"
     ]
    },
    {
     "name": "stderr",
     "output_type": "stream",
     "text": [
      " 30%|███       | 9/30 [02:34<05:51, 16.75s/it]"
     ]
    },
    {
     "name": "stdout",
     "output_type": "stream",
     "text": [
      "Epoch 9, Loss: 112178.3705\n"
     ]
    },
    {
     "name": "stderr",
     "output_type": "stream",
     "text": [
      " 33%|███▎      | 10/30 [02:51<05:36, 16.81s/it]"
     ]
    },
    {
     "name": "stdout",
     "output_type": "stream",
     "text": [
      "Epoch 10, Loss: 112303.0417\n"
     ]
    },
    {
     "name": "stderr",
     "output_type": "stream",
     "text": [
      " 37%|███▋      | 11/30 [03:07<05:18, 16.76s/it]"
     ]
    },
    {
     "name": "stdout",
     "output_type": "stream",
     "text": [
      "Epoch 11, Loss: 112303.8026\n"
     ]
    },
    {
     "name": "stderr",
     "output_type": "stream",
     "text": [
      " 40%|████      | 12/30 [03:24<05:02, 16.81s/it]"
     ]
    },
    {
     "name": "stdout",
     "output_type": "stream",
     "text": [
      "Epoch 12, Loss: 112303.6735\n"
     ]
    },
    {
     "name": "stderr",
     "output_type": "stream",
     "text": [
      " 43%|████▎     | 13/30 [03:40<04:41, 16.54s/it]"
     ]
    },
    {
     "name": "stdout",
     "output_type": "stream",
     "text": [
      "Epoch 13, Loss: 112303.5576\n"
     ]
    },
    {
     "name": "stderr",
     "output_type": "stream",
     "text": [
      " 47%|████▋     | 14/30 [03:57<04:25, 16.57s/it]"
     ]
    },
    {
     "name": "stdout",
     "output_type": "stream",
     "text": [
      "Epoch 14, Loss: 112303.4900\n"
     ]
    },
    {
     "name": "stderr",
     "output_type": "stream",
     "text": [
      " 50%|█████     | 15/30 [04:14<04:12, 16.81s/it]"
     ]
    },
    {
     "name": "stdout",
     "output_type": "stream",
     "text": [
      "Epoch 15, Loss: 112303.0218\n"
     ]
    },
    {
     "name": "stderr",
     "output_type": "stream",
     "text": [
      " 53%|█████▎    | 16/30 [04:32<03:58, 17.03s/it]"
     ]
    },
    {
     "name": "stdout",
     "output_type": "stream",
     "text": [
      "Epoch 16, Loss: 112302.3781\n"
     ]
    },
    {
     "name": "stderr",
     "output_type": "stream",
     "text": [
      " 57%|█████▋    | 17/30 [04:49<03:41, 17.07s/it]"
     ]
    },
    {
     "name": "stdout",
     "output_type": "stream",
     "text": [
      "Epoch 17, Loss: 112303.1535\n"
     ]
    },
    {
     "name": "stderr",
     "output_type": "stream",
     "text": [
      " 60%|██████    | 18/30 [05:05<03:21, 16.78s/it]"
     ]
    },
    {
     "name": "stdout",
     "output_type": "stream",
     "text": [
      "Epoch 18, Loss: 112302.9120\n"
     ]
    },
    {
     "name": "stderr",
     "output_type": "stream",
     "text": [
      " 63%|██████▎   | 19/30 [05:21<03:02, 16.59s/it]"
     ]
    },
    {
     "name": "stdout",
     "output_type": "stream",
     "text": [
      "Epoch 19, Loss: 112303.2077\n"
     ]
    },
    {
     "name": "stderr",
     "output_type": "stream",
     "text": [
      " 67%|██████▋   | 20/30 [05:39<02:48, 16.80s/it]"
     ]
    },
    {
     "name": "stdout",
     "output_type": "stream",
     "text": [
      "Epoch 20, Loss: 112302.1280\n"
     ]
    },
    {
     "name": "stderr",
     "output_type": "stream",
     "text": [
      " 70%|███████   | 21/30 [05:56<02:33, 17.07s/it]"
     ]
    },
    {
     "name": "stdout",
     "output_type": "stream",
     "text": [
      "Epoch 21, Loss: 112623.9578\n"
     ]
    },
    {
     "name": "stderr",
     "output_type": "stream",
     "text": [
      " 73%|███████▎  | 22/30 [06:13<02:16, 17.07s/it]"
     ]
    },
    {
     "name": "stdout",
     "output_type": "stream",
     "text": [
      "Epoch 22, Loss: 112815.3816\n"
     ]
    },
    {
     "name": "stderr",
     "output_type": "stream",
     "text": [
      " 77%|███████▋  | 23/30 [06:31<02:00, 17.28s/it]"
     ]
    },
    {
     "name": "stdout",
     "output_type": "stream",
     "text": [
      "Epoch 23, Loss: 113237.6492\n"
     ]
    },
    {
     "name": "stderr",
     "output_type": "stream",
     "text": [
      " 80%|████████  | 24/30 [06:48<01:43, 17.17s/it]"
     ]
    },
    {
     "name": "stdout",
     "output_type": "stream",
     "text": [
      "Epoch 24, Loss: 113237.6403\n"
     ]
    },
    {
     "name": "stderr",
     "output_type": "stream",
     "text": [
      " 83%|████████▎ | 25/30 [07:06<01:26, 17.38s/it]"
     ]
    },
    {
     "name": "stdout",
     "output_type": "stream",
     "text": [
      "Epoch 25, Loss: 113237.6735\n"
     ]
    },
    {
     "name": "stderr",
     "output_type": "stream",
     "text": [
      " 87%|████████▋ | 26/30 [07:24<01:10, 17.54s/it]"
     ]
    },
    {
     "name": "stdout",
     "output_type": "stream",
     "text": [
      "Epoch 26, Loss: 113237.6646\n"
     ]
    },
    {
     "name": "stderr",
     "output_type": "stream",
     "text": [
      " 90%|█████████ | 27/30 [07:41<00:52, 17.56s/it]"
     ]
    },
    {
     "name": "stdout",
     "output_type": "stream",
     "text": [
      "Epoch 27, Loss: 113237.6224\n"
     ]
    },
    {
     "name": "stderr",
     "output_type": "stream",
     "text": [
      " 93%|█████████▎| 28/30 [07:59<00:35, 17.72s/it]"
     ]
    },
    {
     "name": "stdout",
     "output_type": "stream",
     "text": [
      "Epoch 28, Loss: 113237.6566\n"
     ]
    },
    {
     "name": "stderr",
     "output_type": "stream",
     "text": [
      " 97%|█████████▋| 29/30 [08:16<00:17, 17.47s/it]"
     ]
    },
    {
     "name": "stdout",
     "output_type": "stream",
     "text": [
      "Epoch 29, Loss: 113237.6241\n"
     ]
    },
    {
     "name": "stderr",
     "output_type": "stream",
     "text": [
      "100%|██████████| 30/30 [08:33<00:00, 17.11s/it]"
     ]
    },
    {
     "name": "stdout",
     "output_type": "stream",
     "text": [
      "Epoch 30, Loss: 113237.6565\n",
      "W2v vetors stored in:  mdp/runs_frozen/modified_medium_w2v_embed_dim_32_FrozenLake-v1_map_size_4_stochastic_False_seed_42_epochs_30.npy\n"
     ]
    },
    {
     "name": "stderr",
     "output_type": "stream",
     "text": [
      "\n"
     ]
    }
   ],
   "source": [
    "# ============================================================================================\n",
    "#  Main function for calling the w2v agent\n",
    "# ============================================================================================\n",
    "# First we create the dataset and dataloader\n",
    "vocab, _, _ = build_vocab(text)\n",
    "dataset = Word2VecDataset(text, vocab, window_size)\n",
    "dataloader = DataLoader(dataset, batch_size, shuffle=True)\n",
    "model = SkipGram(vocab_size=len(vocab), embedding_dim=embed_dim).to(device)\n",
    "model = train_skipgram(model, dataloader, epochs = w2v_epochs, lr = w2v_lr)\n",
    "\n",
    "word_embeddings = save_embeddings(model, vocab)\n",
    "# Saving the w2v model\n",
    "save_w2v_file = f\"{runs_folder_path}/modified_{modified}_w2v_embed_dim_{embed_dim}_{filename}_epochs_{w2v_epochs}.npy\"\n",
    "np.save(save_w2v_file, word_embeddings)\n",
    "print(\"W2v vetors stored in: \", save_w2v_file)"
   ]
  },
  {
   "cell_type": "markdown",
   "metadata": {},
   "source": [
    "### Similarity check"
   ]
  },
  {
   "cell_type": "code",
   "execution_count": 38,
   "metadata": {},
   "outputs": [
    {
     "name": "stdout",
     "output_type": "stream",
     "text": [
      "Top 5 words similar to 's_0':\n",
      "s_16: 0.3311\n",
      "s_5: 0.2516\n",
      "s_14: 0.2308\n",
      "s_10: 0.1650\n",
      "s_17: 0.1143\n",
      "Top 5 words similar to 's_1':\n",
      "s_16: 0.4612\n",
      "s_15: 0.3440\n",
      "s_5: 0.2714\n",
      "s_14: 0.2248\n",
      "s_9: 0.2085\n",
      "Top 5 words similar to 's_17':\n",
      "s_11: 0.4657\n",
      "s_3: 0.3402\n",
      "s_12: 0.2826\n",
      "s_7: 0.2539\n",
      "s_6: 0.2521\n",
      "Top 5 words similar to 's_4':\n",
      "s_3: 0.1652\n",
      "s_2: 0.1061\n",
      "s_10: 0.0818\n",
      "s_17: 0.0530\n",
      "s_8: 0.0292\n",
      "Top 5 words similar to 's_5':\n",
      "s_1: 0.2714\n",
      "s_0: 0.2516\n",
      "s_16: 0.1861\n",
      "s_14: 0.1738\n",
      "s_10: 0.1343\n",
      "Top 5 words similar to 's_3':\n",
      "s_2: 0.5286\n",
      "s_12: 0.4804\n",
      "s_7: 0.4302\n",
      "s_8: 0.4241\n",
      "s_11: 0.3859\n",
      "Top 5 words similar to 's_9':\n",
      "s_10: 0.3926\n",
      "s_14: 0.3843\n",
      "s_13: 0.3406\n",
      "s_15: 0.2164\n",
      "s_1: 0.2085\n",
      "Top 5 words similar to 's_6':\n",
      "s_7: 0.4700\n",
      "s_11: 0.4321\n",
      "s_2: 0.4204\n",
      "s_3: 0.3074\n",
      "s_17: 0.2521\n",
      "Top 5 words similar to 's_2':\n",
      "s_7: 0.5352\n",
      "s_3: 0.5286\n",
      "s_12: 0.4711\n",
      "s_6: 0.4204\n",
      "s_11: 0.3958\n",
      "Top 5 words similar to 's_8':\n",
      "s_11: 0.4420\n",
      "s_3: 0.4241\n",
      "s_12: 0.2163\n",
      "s_6: 0.1660\n",
      "s_17: 0.1589\n",
      "Top 5 words similar to 's_12':\n",
      "s_3: 0.4804\n",
      "s_2: 0.4711\n",
      "s_11: 0.3197\n",
      "s_7: 0.3053\n",
      "s_17: 0.2826\n",
      "Top 5 words similar to 's_7':\n",
      "s_11: 0.5452\n",
      "s_2: 0.5352\n",
      "s_6: 0.4700\n",
      "s_3: 0.4302\n",
      "s_12: 0.3053\n",
      "Top 5 words similar to 's_11':\n",
      "s_7: 0.5452\n",
      "s_17: 0.4657\n",
      "s_8: 0.4420\n",
      "s_6: 0.4321\n",
      "s_2: 0.3958\n",
      "Top 5 words similar to 's_15':\n",
      "s_16: 0.5531\n",
      "s_14: 0.5178\n",
      "s_1: 0.3440\n",
      "s_9: 0.2164\n",
      "s_10: -0.0073\n",
      "Top 5 words similar to 's_16':\n",
      "s_15: 0.5531\n",
      "s_14: 0.4746\n",
      "s_1: 0.4612\n",
      "s_0: 0.3311\n",
      "s_10: 0.3067\n",
      "Top 5 words similar to 's_13':\n",
      "s_10: 0.5475\n",
      "s_9: 0.3406\n",
      "s_17: 0.0755\n",
      "s_3: 0.0733\n",
      "s_7: 0.0728\n",
      "Top 5 words similar to 's_14':\n",
      "s_15: 0.5178\n",
      "s_16: 0.4746\n",
      "s_9: 0.3843\n",
      "s_0: 0.2308\n",
      "s_1: 0.2248\n",
      "Top 5 words similar to 's_10':\n",
      "s_13: 0.5475\n",
      "s_9: 0.3926\n",
      "s_16: 0.3067\n",
      "s_0: 0.1650\n",
      "s_5: 0.1343\n"
     ]
    }
   ],
   "source": [
    "# ============================================================================================\n",
    "# Similarity checking and visualizing \n",
    "# ============================================================================================\n",
    "# import numpy as np\n",
    "# from sklearn.metrics.pairwise import cosine_similarity\n",
    "\n",
    "# Load saved embeddings\n",
    "word_embeddings = np.load(f\"{runs_folder_path}/modified_{modified}_w2v_embed_dim_{embed_dim}_{filename}_epochs_{w2v_epochs}.npy\", \n",
    "                          allow_pickle=True).item()\n",
    "\n",
    "# Convert to a NumPy array for fast computation\n",
    "words = list(word_embeddings.keys())\n",
    "vectors = np.array(list(word_embeddings.values()))\n",
    "\n",
    "# Compute the cosine similarity matrix\n",
    "cosine_sim_matrix = cosine_similarity(vectors)\n",
    "\n",
    "# Function to find top-N similar words\n",
    "def find_similar_words(target_word, top_n=5):\n",
    "    if target_word not in word_embeddings:\n",
    "        print(f\"Word '{target_word}' not found in vocabulary.\")\n",
    "        return []\n",
    "\n",
    "    # Get index of target word\n",
    "    target_idx = words.index(target_word)\n",
    "\n",
    "    # Get similarity scores for the target word\n",
    "    similarity_scores = cosine_sim_matrix[target_idx]\n",
    "\n",
    "    # Get top-N most similar words (excluding itself)\n",
    "    similar_indices = np.argsort(similarity_scores)[::-1][1:top_n+1]  # Sort in descending order\n",
    "\n",
    "    # Return words with their similarity scores\n",
    "    return [(words[i], similarity_scores[i]) for i in similar_indices]\n",
    "\n",
    "# Example usage\n",
    "for target_word in word_embeddings:\n",
    "    top_similar_words = find_similar_words(target_word, top_n=5)\n",
    "\n",
    "    print(f\"Top 5 words similar to '{target_word}':\")\n",
    "    for word, score in top_similar_words:\n",
    "        print(f\"{word}: {score:.4f}\")"
   ]
  },
  {
   "cell_type": "markdown",
   "metadata": {},
   "source": [
    "# Now we need to ensure that the same states are sampled to compare the performance of w2v imbued DQN and Vanilla DQN. \n",
    "Thus we reset np, random and torch.manual_seed before starting both the following cells"
   ]
  },
  {
   "cell_type": "markdown",
   "metadata": {},
   "source": [
    "# DQN common set up"
   ]
  },
  {
   "cell_type": "markdown",
   "metadata": {},
   "source": [
    "### Defining all classes\n",
    "We define the following classes:\n",
    "1. Experience Replay\n",
    "2. DQNAgent "
   ]
  },
  {
   "cell_type": "code",
   "execution_count": 41,
   "metadata": {},
   "outputs": [],
   "source": [
    "class ExperienceReplay:\n",
    "\t\"\"\"\n",
    "\tBased on the Replay Buffer implementation of TD3\n",
    "\tReference: https://github.com/sfujim/TD3/blob/master/utils.py\n",
    "\t\"\"\"\n",
    "\tdef __init__(self, state_dim, action_dim,max_size,batch_size,gpu_index=0):\n",
    "\t\tself.max_size = max_size\n",
    "\t\tself.ptr = 0\n",
    "\t\tself.size = 0\n",
    "\t\tself.state = np.zeros((max_size, state_dim))\n",
    "\t\tself.action = np.zeros((max_size, action_dim))\n",
    "\t\tself.next_state = np.zeros((max_size, state_dim))\n",
    "\t\tself.reward = np.zeros((max_size, 1))\n",
    "\t\tself.done = np.zeros((max_size, 1))\n",
    "\t\tself.batch_size = batch_size\n",
    "\t\tself.device = torch.device('cuda', index=gpu_index) if torch.cuda.is_available() else torch.device('cpu')\n",
    "\n",
    "\n",
    "\tdef add(self, state, action,reward,next_state, done):\n",
    "\t\tself.state[self.ptr] = state\n",
    "\t\tself.action[self.ptr] = action\n",
    "\t\tself.next_state[self.ptr] = next_state\n",
    "\t\tself.reward[self.ptr] = reward\n",
    "\t\tself.done[self.ptr] = done\n",
    "\t\tself.ptr = (self.ptr + 1) % self.max_size\n",
    "\t\tself.size = min(self.size + 1, self.max_size)\n",
    "\n",
    "\tdef sample(self):\n",
    "\t\tind = np.random.randint(0, self.size, size=self.batch_size)\n",
    "\n",
    "\t\treturn (\n",
    "\t\t\ttorch.FloatTensor(self.state[ind]).to(self.device),\n",
    "\t\t\ttorch.FloatTensor(self.action[ind]).long().to(self.device),\n",
    "\t\t\ttorch.FloatTensor(self.reward[ind]).to(self.device),\n",
    "\t\t\ttorch.FloatTensor(self.next_state[ind]).to(self.device),\n",
    "\t\t\ttorch.FloatTensor(self.done[ind]).to(self.device)\n",
    "\t\t)\n",
    "\n"
   ]
  },
  {
   "cell_type": "markdown",
   "metadata": {},
   "source": [
    "# w2v with representation updation\n",
    "Here we initialize the 1st layer of dqn as the representation learnt using w2v and then let the entire network including this representation layer train.\\\n",
    "Here we're not modifying the learning rate of this representation layer, nor are we changing the epsilon decay rate or the epsilon starting value. The only change is initializing the weights of the 1st layer of dqn with w2v based vector embeddings instead of using random embeddings."
   ]
  },
  {
   "cell_type": "code",
   "execution_count": 82,
   "metadata": {},
   "outputs": [],
   "source": [
    "class updating_w2v_QNetwork(nn.Module):\n",
    "  \"\"\"\n",
    "  Q Network: designed to take state as input and give out Q values of actions as output\n",
    "  \"\"\"\n",
    "\n",
    "  def __init__(self, state_dim, embed_dim, action_dim):\n",
    "    \"\"\"\n",
    "      state_dim (int): state dimenssion\n",
    "      action_dim (int): action dimenssion\n",
    "    \"\"\"\n",
    "    super(updating_w2v_QNetwork, self).__init__()\n",
    "    self.l1 = nn.Linear(state_dim, embed_dim) # this layer stores the word_embeddings as obtained from \n",
    "    self.l2 = nn.Linear(embed_dim, 64)\n",
    "    self.l3 = nn.Linear(64, action_dim)\n",
    "\n",
    "  def forward(self, state):\n",
    "    q = F.relu(self.l1(state)) # should we keep this relu or not? Since we want the exact same output as the vector embeddings at the beginning relu shouldn't be used however, since we want to update these representations hence maybe relu will hold importance in such scnarios\n",
    "    q = F.relu(self.l2(q))\n",
    "    return self.l3(q)\n"
   ]
  },
  {
   "cell_type": "code",
   "execution_count": 87,
   "metadata": {},
   "outputs": [],
   "source": [
    "class w2v_DQNAgent():\n",
    "  def __init__(self,\n",
    "    state_embeddings,\n",
    "    state_dim,\n",
    "    embed_dim,\n",
    "    action_dim,\n",
    "    discount=0.99,\n",
    "    tau=1e-3,\n",
    "    lr=5e-4,\n",
    "    update_freq=4,\n",
    "    max_size=int(1e5),\n",
    "    batch_size=64,\n",
    "    gpu_index=0\n",
    "   ):\n",
    "    \"\"\"\n",
    "      state_size (int): dimension of each state\n",
    "      action_size (int): dimension of each action\n",
    "      discount (float): discount factor\n",
    "      tau (float): used to update q-target\n",
    "      lr (float): learning rate\n",
    "      update_freq (int): update frequency of target network\n",
    "      max_size (int): experience replay buffer size\n",
    "      batch_size (int): training batch size\n",
    "      gpu_index (int): GPU used for training\n",
    "    \"\"\"\n",
    "    self.state_dim = state_dim\n",
    "    self.embed_dim = embed_dim\n",
    "    self.action_dim = action_dim\n",
    "    self.discount = discount\n",
    "    self.tau = tau\n",
    "    self.lr = lr\n",
    "    self.update_freq = update_freq\n",
    "    self.batch_size = batch_size\n",
    "    self.device = torch.device('cuda', index=gpu_index) if torch.cuda.is_available() else torch.device('cpu')\n",
    "    self.state_embeddings = state_embeddings\n",
    "\n",
    "\n",
    "    # Setting up the NNs\n",
    "    self.Q = updating_w2v_QNetwork(state_dim, embed_dim, action_dim).to(self.device)\n",
    "    q_state_dict = self.Q.state_dict()\n",
    "    q_keys = list(q_state_dict.keys())\n",
    "    print(\"q keys: \", q_keys)\n",
    "\n",
    "    if q_state_dict[q_keys[0]].shape == state_embeddings.shape:\n",
    "      q_state_dict[q_keys[0]] = state_embeddings\n",
    "      print(\"Successful copying of weights!\")\n",
    "    else:\n",
    "      print(\"shape mismatch: \", q_state_dict[q_keys[0]].shape, \"vs\", state_embeddings.shape)\n",
    "    # end if\n",
    "    self.Q.load_state_dict(q_state_dict, strict=True)\n",
    "    \n",
    "    self.Q_target = updating_w2v_QNetwork(state_dim, embed_dim, action_dim).to(self.device)\n",
    "    self.Q_target.load_state_dict(q_state_dict)\n",
    "    self.optimizer = optim.Adam(self.Q.parameters(), lr=self.lr)\n",
    "\n",
    "    # Experience Replay Buffer\n",
    "    self.memory = ExperienceReplay(state_dim,1,max_size,self.batch_size,gpu_index)\n",
    "\n",
    "    self.t_train = 0\n",
    "\n",
    "  def step(self, state, action, reward, next_state, done):\n",
    "    \"\"\"\n",
    "    1. Adds (s,a,r,s') to the experience replay buffer, and updates the networks\n",
    "    2. Learns when the experience replay buffer has enough samples\n",
    "    3. Updates target netowork\n",
    "    \"\"\"\n",
    "    self.memory.add(state, action, reward, next_state, done)\n",
    "    self.t_train += 1\n",
    "\n",
    "    if self.memory.size > self.batch_size:\n",
    "      experiences = self.memory.sample()\n",
    "      self.learn(experiences, self.discount) #To be implemented\n",
    "\n",
    "    if (self.t_train % self.update_freq) == 0:\n",
    "      self.target_update(self.Q, self.Q_target, self.tau) #To be implemented\n",
    "\n",
    "  def select_action(self, state, epsilon):\n",
    "    \"\"\"\n",
    "    TODO: Complete this block to select action using epsilon greedy exploration\n",
    "    strategy\n",
    "    Input: state, epsilon\n",
    "    Return: Action\n",
    "    Return Type: int\n",
    "    \"\"\"\n",
    "    ###### TYPE YOUR CODE HERE ######\n",
    "    # We generate a random number between 0 and 1\n",
    "    rand_num = np.random.random()\n",
    "    state = torch.from_numpy(state).to(self.device)\n",
    "    a_opt = np.argmax(self.Q(state).cpu().detach().numpy())\n",
    "    if rand_num<epsilon:\n",
    "      a_list = [y for y in range(self.action_dim)]\n",
    "      # print('a_list = ', a_list)\n",
    "      a_list.remove(a_opt)\n",
    "      # print('a_list = ', a_list)\n",
    "      at = np.random.choice(np.array(a_list))\n",
    "      return (at)\n",
    "    else:\n",
    "      return(a_opt)\n",
    "    #################################\n",
    "\n",
    "  def learn(self, experiences, discount):\n",
    "    \"\"\"\n",
    "    TODO: Complete this block to update the Q-Network using the target network\n",
    "    1. Compute target using  self.Q_target ( target = r + discount * max_b [Q_target(s,b)] )\n",
    "    2. Compute Q(s,a) using self.Q\n",
    "    3. Compute MSE loss between step 1 and step 2\n",
    "    4. Update your network\n",
    "    Input: experiences consisting of states,actions,rewards,next_states and discount factor\n",
    "    Return: None\n",
    "    \"\"\"\n",
    "    states, actions, rewards, next_states, dones = experiences\n",
    "    ###### TYPE YOUR CODE HERE ######\n",
    "    # Step 1:\n",
    "    target = rewards + discount * torch.max(self.Q_target(next_states), axis = 1, keepdim = True).values * (1 - dones)# change Q_target to Q\n",
    "    # Step 2:\n",
    "    Q_sa = torch.take_along_dim(self.Q(states), actions, dim = 1)\n",
    "    # Step 3:\n",
    "    loss = nn.MSELoss()\n",
    "    mse_loss = loss(target, Q_sa)\n",
    "    # Step 4:\n",
    "    self.optimizer.zero_grad()\n",
    "    mse_loss.backward()\n",
    "    self.optimizer.step()\n",
    "    #################################\n",
    "\n",
    "  def target_update(self, Q, Q_target, tau):\n",
    "    \"\"\"\n",
    "    TODO: Update the target network parameters (param_target) using current Q parameters (param_Q)\n",
    "    Perform the update using tau, this ensures that we do not change the target network drastically\n",
    "    1. param_target = tau * param_Q + (1 - tau) * param_target\n",
    "    Input: Q,Q_target,tau\n",
    "    Return: None\n",
    "    \"\"\"\n",
    "    ###### TYPE YOUR CODE HERE ######\n",
    "    for target_param, param in zip(Q_target.parameters(), Q.parameters()):\n",
    "        target_param.data.copy_(tau * param.data + (1 - tau) * target_param.data)\n",
    "    #################################\n",
    "\n",
    "  def get_optimal_policy(self, states):\n",
    "    \"\"\"Extracts the optimal policy after training.\"\"\"\n",
    "    policy = []\n",
    "    for state in states:\n",
    "      state = torch.from_numpy(state).to(self.device)\n",
    "      policy.append(np.argmax(self.Q(state).cpu().detach().numpy()))\n",
    "    return policy\n"
   ]
  },
  {
   "cell_type": "code",
   "execution_count": 88,
   "metadata": {},
   "outputs": [
    {
     "name": "stdout",
     "output_type": "stream",
     "text": [
      "Word embeddings loaded from:  mdp/runs_frozen/modified_medium_w2v_embed_dim_32_FrozenLake-v1_map_size_4_stochastic_False_seed_42_epochs_10.npy\n",
      "q keys:  ['l1.weight', 'l1.bias', 'l2.weight', 'l2.bias', 'l3.weight', 'l3.bias']\n",
      "Successful copying of weights!\n"
     ]
    }
   ],
   "source": [
    "torch.manual_seed(seed)\n",
    "np.random.seed(seed)\n",
    "random.seed(seed)\n",
    "\n",
    "w2v_epochs = 10 # change this to get the different results and then delete this line to ensure no overwriting\n",
    "word_embeddings = np.load(f\"{runs_folder_path}/modified_{modified}_w2v_embed_dim_{embed_dim}_{filename}_epochs_{w2v_epochs}.npy\", allow_pickle=True).item()\n",
    "print(\"Word embeddings loaded from: \", f\"{runs_folder_path}/modified_{modified}_w2v_embed_dim_{embed_dim}_{filename}_epochs_{w2v_epochs}.npy\")\n",
    "\n",
    "state_embeddings = []\n",
    "states = []\n",
    "words = list(word_embeddings.keys())\n",
    "#   print(word_embeddings['s_0'])\n",
    "for i in range(state_dim):\n",
    "  #  states.append(i)\n",
    "  if 's_'+str(i) in words:\n",
    "      state_embeddings.append(word_embeddings['s_'+str(i)])\n",
    "      # print(f\"s_{i}: {word_embeddings['s_'+str(i)]}\")\n",
    "  else:\n",
    "      temp = np.random.randn(embed_dim).astype(np.float32)\n",
    "      temp /= np.abs(np.max(temp))\n",
    "      state_embeddings.append(temp)\n",
    "      print(f\"s_{i} not present in the w2v model, hence random vector initialized\")\n",
    "      # print(f\"s_{i}: {temp}\")\n",
    "\n",
    "state_embeddings = torch.from_numpy(np.array(state_embeddings).T)\n",
    "\n",
    "kwargs = {\n",
    "   \"state_embeddings\": state_embeddings,\n",
    "   \"state_dim\":state_dim,\n",
    "    \"embed_dim\":embed_dim,\n",
    "    \"action_dim\":action_dim,\n",
    "    \"discount\":gamma,\n",
    "    \"tau\":args.tau,\n",
    "    \"lr\":args.lr,\n",
    "    \"update_freq\":args.update_freq,\n",
    "    \"max_size\":args.max_size,\n",
    "    \"batch_size\":args.batch_size,\n",
    "    \"gpu_index\":args.gpu_index\n",
    "  }\n",
    "learner = w2v_DQNAgent(**kwargs)"
   ]
  },
  {
   "cell_type": "code",
   "execution_count": 90,
   "metadata": {},
   "outputs": [
    {
     "name": "stdout",
     "output_type": "stream",
     "text": [
      "One hot state defined. Now we train dqn\n"
     ]
    },
    {
     "name": "stderr",
     "output_type": "stream",
     "text": [
      "  0%|          | 6/2500 [00:00<00:44, 56.34it/s]"
     ]
    },
    {
     "name": "stdout",
     "output_type": "stream",
     "text": [
      "Episode Number 0 Average Episodic Reward (over 100 episodes): 0.00\n"
     ]
    },
    {
     "name": "stderr",
     "output_type": "stream",
     "text": [
      "  5%|▌         | 127/2500 [00:00<00:14, 165.12it/s]"
     ]
    },
    {
     "name": "stdout",
     "output_type": "stream",
     "text": [
      "Episode Number 100 Average Episodic Reward (over 100 episodes): 0.32\n"
     ]
    },
    {
     "name": "stderr",
     "output_type": "stream",
     "text": [
      "  9%|▉         | 225/2500 [00:01<00:12, 182.40it/s]"
     ]
    },
    {
     "name": "stdout",
     "output_type": "stream",
     "text": [
      "Episode Number 200 Average Episodic Reward (over 100 episodes): 0.56\n"
     ]
    },
    {
     "name": "stderr",
     "output_type": "stream",
     "text": [
      " 13%|█▎        | 325/2500 [00:01<00:11, 190.06it/s]"
     ]
    },
    {
     "name": "stdout",
     "output_type": "stream",
     "text": [
      "Episode Number 300 Average Episodic Reward (over 100 episodes): 0.78\n"
     ]
    },
    {
     "name": "stderr",
     "output_type": "stream",
     "text": [
      " 17%|█▋        | 435/2500 [00:02<00:10, 206.27it/s]"
     ]
    },
    {
     "name": "stdout",
     "output_type": "stream",
     "text": [
      "Episode Number 400 Average Episodic Reward (over 100 episodes): 0.83\n"
     ]
    },
    {
     "name": "stderr",
     "output_type": "stream",
     "text": [
      " 21%|██        | 523/2500 [00:02<00:09, 212.55it/s]"
     ]
    },
    {
     "name": "stdout",
     "output_type": "stream",
     "text": [
      "Episode Number 500 Average Episodic Reward (over 100 episodes): 0.89\n"
     ]
    },
    {
     "name": "stderr",
     "output_type": "stream",
     "text": [
      " 25%|██▌       | 637/2500 [00:03<00:08, 210.21it/s]"
     ]
    },
    {
     "name": "stdout",
     "output_type": "stream",
     "text": [
      "Episode Number 600 Average Episodic Reward (over 100 episodes): 0.97\n"
     ]
    },
    {
     "name": "stderr",
     "output_type": "stream",
     "text": [
      " 29%|██▉       | 721/2500 [00:03<00:09, 193.07it/s]"
     ]
    },
    {
     "name": "stdout",
     "output_type": "stream",
     "text": [
      "Episode Number 700 Average Episodic Reward (over 100 episodes): 0.94\n"
     ]
    },
    {
     "name": "stderr",
     "output_type": "stream",
     "text": [
      " 33%|███▎      | 828/2500 [00:04<00:08, 199.54it/s]"
     ]
    },
    {
     "name": "stdout",
     "output_type": "stream",
     "text": [
      "Episode Number 800 Average Episodic Reward (over 100 episodes): 0.99\n"
     ]
    },
    {
     "name": "stderr",
     "output_type": "stream",
     "text": [
      " 38%|███▊      | 941/2500 [00:04<00:07, 214.74it/s]"
     ]
    },
    {
     "name": "stdout",
     "output_type": "stream",
     "text": [
      "Episode Number 900 Average Episodic Reward (over 100 episodes): 0.98\n"
     ]
    },
    {
     "name": "stderr",
     "output_type": "stream",
     "text": [
      " 41%|████      | 1029/2500 [00:05<00:07, 206.19it/s]"
     ]
    },
    {
     "name": "stdout",
     "output_type": "stream",
     "text": [
      "Episode Number 1000 Average Episodic Reward (over 100 episodes): 0.96\n"
     ]
    },
    {
     "name": "stderr",
     "output_type": "stream",
     "text": [
      " 46%|████▌     | 1140/2500 [00:05<00:06, 215.47it/s]"
     ]
    },
    {
     "name": "stdout",
     "output_type": "stream",
     "text": [
      "Episode Number 1100 Average Episodic Reward (over 100 episodes): 0.98\n"
     ]
    },
    {
     "name": "stderr",
     "output_type": "stream",
     "text": [
      " 49%|████▉     | 1228/2500 [00:06<00:06, 198.76it/s]"
     ]
    },
    {
     "name": "stdout",
     "output_type": "stream",
     "text": [
      "Episode Number 1200 Average Episodic Reward (over 100 episodes): 0.98\n"
     ]
    },
    {
     "name": "stderr",
     "output_type": "stream",
     "text": [
      " 53%|█████▎    | 1334/2500 [00:06<00:05, 194.79it/s]"
     ]
    },
    {
     "name": "stdout",
     "output_type": "stream",
     "text": [
      "Episode Number 1300 Average Episodic Reward (over 100 episodes): 0.98\n"
     ]
    },
    {
     "name": "stderr",
     "output_type": "stream",
     "text": [
      " 58%|█████▊    | 1443/2500 [00:07<00:04, 212.90it/s]"
     ]
    },
    {
     "name": "stdout",
     "output_type": "stream",
     "text": [
      "Episode Number 1400 Average Episodic Reward (over 100 episodes): 0.99\n"
     ]
    },
    {
     "name": "stderr",
     "output_type": "stream",
     "text": [
      " 61%|██████▏   | 1533/2500 [00:07<00:04, 216.12it/s]"
     ]
    },
    {
     "name": "stdout",
     "output_type": "stream",
     "text": [
      "Episode Number 1500 Average Episodic Reward (over 100 episodes): 0.97\n"
     ]
    },
    {
     "name": "stderr",
     "output_type": "stream",
     "text": [
      " 66%|██████▌   | 1645/2500 [00:08<00:04, 206.27it/s]"
     ]
    },
    {
     "name": "stdout",
     "output_type": "stream",
     "text": [
      "Episode Number 1600 Average Episodic Reward (over 100 episodes): 0.97\n"
     ]
    },
    {
     "name": "stderr",
     "output_type": "stream",
     "text": [
      " 69%|██████▉   | 1735/2500 [00:08<00:03, 216.48it/s]"
     ]
    },
    {
     "name": "stdout",
     "output_type": "stream",
     "text": [
      "Episode Number 1700 Average Episodic Reward (over 100 episodes): 0.98\n"
     ]
    },
    {
     "name": "stderr",
     "output_type": "stream",
     "text": [
      " 73%|███████▎  | 1824/2500 [00:09<00:03, 208.64it/s]"
     ]
    },
    {
     "name": "stdout",
     "output_type": "stream",
     "text": [
      "Episode Number 1800 Average Episodic Reward (over 100 episodes): 0.99\n"
     ]
    },
    {
     "name": "stderr",
     "output_type": "stream",
     "text": [
      " 77%|███████▋  | 1928/2500 [00:09<00:03, 190.44it/s]"
     ]
    },
    {
     "name": "stdout",
     "output_type": "stream",
     "text": [
      "Episode Number 1900 Average Episodic Reward (over 100 episodes): 0.97\n"
     ]
    },
    {
     "name": "stderr",
     "output_type": "stream",
     "text": [
      " 82%|████████▏ | 2039/2500 [00:10<00:02, 215.90it/s]"
     ]
    },
    {
     "name": "stdout",
     "output_type": "stream",
     "text": [
      "Episode Number 2000 Average Episodic Reward (over 100 episodes): 1.00\n"
     ]
    },
    {
     "name": "stderr",
     "output_type": "stream",
     "text": [
      " 85%|████████▌ | 2127/2500 [00:10<00:01, 208.53it/s]"
     ]
    },
    {
     "name": "stdout",
     "output_type": "stream",
     "text": [
      "Episode Number 2100 Average Episodic Reward (over 100 episodes): 0.97\n"
     ]
    },
    {
     "name": "stderr",
     "output_type": "stream",
     "text": [
      " 89%|████████▉ | 2233/2500 [00:11<00:01, 206.27it/s]"
     ]
    },
    {
     "name": "stdout",
     "output_type": "stream",
     "text": [
      "Episode Number 2200 Average Episodic Reward (over 100 episodes): 0.99\n"
     ]
    },
    {
     "name": "stderr",
     "output_type": "stream",
     "text": [
      " 94%|█████████▎| 2338/2500 [00:11<00:00, 203.84it/s]"
     ]
    },
    {
     "name": "stdout",
     "output_type": "stream",
     "text": [
      "Episode Number 2300 Average Episodic Reward (over 100 episodes): 0.99\n"
     ]
    },
    {
     "name": "stderr",
     "output_type": "stream",
     "text": [
      " 97%|█████████▋| 2426/2500 [00:12<00:00, 212.62it/s]"
     ]
    },
    {
     "name": "stdout",
     "output_type": "stream",
     "text": [
      "Episode Number 2400 Average Episodic Reward (over 100 episodes): 1.00\n"
     ]
    },
    {
     "name": "stderr",
     "output_type": "stream",
     "text": [
      "100%|██████████| 2500/2500 [00:12<00:00, 200.97it/s]"
     ]
    },
    {
     "name": "stdout",
     "output_type": "stream",
     "text": [
      "Model saved at:  mdp/runs_frozen/updating_w2v_dqn_modified_medium_w2v_embed_dim_32_FrozenLake-v1_map_size_4_stochastic_False_seed_42_epochs_10.pt\n"
     ]
    },
    {
     "name": "stderr",
     "output_type": "stream",
     "text": [
      "\n"
     ]
    },
    {
     "ename": "TypeError",
     "evalue": "expected np.ndarray (got Tensor)",
     "output_type": "error",
     "traceback": [
      "\u001b[0;31m---------------------------------------------------------------------------\u001b[0m",
      "\u001b[0;31mTypeError\u001b[0m                                 Traceback (most recent call last)",
      "Cell \u001b[0;32mIn[90], line 52\u001b[0m\n\u001b[1;32m     49\u001b[0m torch\u001b[38;5;241m.\u001b[39msave(learner\u001b[38;5;241m.\u001b[39mQ\u001b[38;5;241m.\u001b[39mstate_dict(), model_saved_file)\n\u001b[1;32m     50\u001b[0m \u001b[38;5;28mprint\u001b[39m(\u001b[38;5;124m\"\u001b[39m\u001b[38;5;124mModel saved at: \u001b[39m\u001b[38;5;124m\"\u001b[39m, model_saved_file)\n\u001b[0;32m---> 52\u001b[0m final_policy \u001b[38;5;241m=\u001b[39m learner\u001b[38;5;241m.\u001b[39mget_optimal_policy(state_embeddings)\n\u001b[1;32m     53\u001b[0m \u001b[38;5;28mprint\u001b[39m(\u001b[38;5;124m\"\u001b[39m\u001b[38;5;124mFinal policy: \u001b[39m\u001b[38;5;124m\"\u001b[39m, final_policy)\n\u001b[1;32m     54\u001b[0m state \u001b[38;5;241m=\u001b[39m \u001b[38;5;241m0\u001b[39m\n",
      "Cell \u001b[0;32mIn[87], line 143\u001b[0m, in \u001b[0;36mw2v_DQNAgent.get_optimal_policy\u001b[0;34m(self, states)\u001b[0m\n\u001b[1;32m    141\u001b[0m policy \u001b[38;5;241m=\u001b[39m []\n\u001b[1;32m    142\u001b[0m \u001b[38;5;28;01mfor\u001b[39;00m state \u001b[38;5;129;01min\u001b[39;00m states:\n\u001b[0;32m--> 143\u001b[0m   state \u001b[38;5;241m=\u001b[39m torch\u001b[38;5;241m.\u001b[39mfrom_numpy(state)\u001b[38;5;241m.\u001b[39mto(\u001b[38;5;28mself\u001b[39m\u001b[38;5;241m.\u001b[39mdevice)\n\u001b[1;32m    144\u001b[0m   policy\u001b[38;5;241m.\u001b[39mappend(np\u001b[38;5;241m.\u001b[39margmax(\u001b[38;5;28mself\u001b[39m\u001b[38;5;241m.\u001b[39mQ(state)\u001b[38;5;241m.\u001b[39mcpu()\u001b[38;5;241m.\u001b[39mdetach()\u001b[38;5;241m.\u001b[39mnumpy()))\n\u001b[1;32m    145\u001b[0m \u001b[38;5;28;01mreturn\u001b[39;00m policy\n",
      "\u001b[0;31mTypeError\u001b[0m: expected np.ndarray (got Tensor)"
     ]
    }
   ],
   "source": [
    "one_hot_state = np.float32(np.eye(state_dim))\n",
    "print(\"One hot state defined. Now we train dqn\")\n",
    "\n",
    "temp_file = f\"{runs_folder_path}/updating_w2v_logger_{filename}.txt\"\n",
    "f = open(temp_file, 'w') # file to store the training log\n",
    "reward_curve = [] # this will store the moving avg of rewards\n",
    "moving_window = deque(maxlen=100)\n",
    "epsilon = args.epsilon_start\n",
    "count = 0\n",
    "for e in tqdm(range(args.n_episodes)):\n",
    "    state, _ = env.reset(seed=seed)\n",
    "    curr_reward = 0\n",
    "    for t in range(args.max_esp_len):\n",
    "        action = learner.select_action(one_hot_state[state],epsilon)\n",
    "        # n_state,reward,terminated,truncated,_ = env.step(action)\n",
    "        # done = terminated or truncated\n",
    "        n_state,reward,done,_,_ = env.step(action)\n",
    "        learner.step(one_hot_state[state],action,reward,one_hot_state[n_state],done)\n",
    "        state = n_state\n",
    "        curr_reward += reward\n",
    "        if done:\n",
    "            break\n",
    "    moving_window.append(curr_reward)\n",
    "    reward_curve.append(np.mean(moving_window))\n",
    "\n",
    "    \"\"\"\"\n",
    "    TODO: Write code for decaying the exploration rate using args.epsilon_decay\n",
    "    and args.epsilon_end. Note that epsilon has been initialized to args.epsilon_start\n",
    "    1. You are encouraged to try new methods\n",
    "    \"\"\"\n",
    "    ###### TYPE YOUR CODE HERE ######\n",
    "    epsilon *= args.epsilon_decay\n",
    "    epsilon = max(epsilon, args.epsilon_end)\n",
    "    # print('current epsilon = ', epsilon)\n",
    "    #################################\n",
    "\n",
    "    if e % 100 == 0:\n",
    "        print('Episode Number {} Average Episodic Reward (over 100 episodes): {:.2f}'.format(e, np.mean(moving_window)))\n",
    "\n",
    "    f.write('Episode Number {} Average Episodic Reward (over 100 episodes): {:.2f} \\n'.format(e, np.mean(moving_window)))\n",
    "    #################################\n",
    "\n",
    "f.close() # to close the file\n",
    "\n",
    "# Now we save the trained model\n",
    "rew_file = f\"{runs_folder_path}/rewards_updating_w2v_dqn_modified_{modified}_w2v_embed_dim_{embed_dim}_{filename}_epochs_{w2v_epochs}.npy\"\n",
    "np.save(rew_file, reward_curve)\n",
    "model_saved_file = f\"{runs_folder_path}/updating_w2v_dqn_modified_{modified}_w2v_embed_dim_{embed_dim}_{filename}_epochs_{w2v_epochs}.pt\"\n",
    "torch.save(learner.Q.state_dict(), model_saved_file)\n",
    "print(\"Model saved at: \", model_saved_file)\n",
    "\n",
    "final_policy = learner.get_optimal_policy(state_embeddings)\n",
    "print(\"Final policy: \", final_policy)\n",
    "state = 0\n",
    "# Define action map\n",
    "action_map = {\n",
    "0: \"Left\",\n",
    "1: \"Down\",\n",
    "2: \"Right\",\n",
    "3: \"Up\"\n",
    "}\n",
    "print(\"State: Type -    action taken\")\n",
    "lake_grid = env.unwrapped.desc  # Gets the grid representation\n",
    "for row in lake_grid:\n",
    "    for cell in row:\n",
    "        print(f\"     {state}:   {cell.decode('utf-8')} - {final_policy[state]}-->{action_map[final_policy[state]]}\")  # Convert byte to string\n",
    "        state += 1\n",
    "\n",
    "print('It was successful!')\n"
   ]
  },
  {
   "cell_type": "markdown",
   "metadata": {},
   "source": [
    "## Class of QNetwork with w2v\n",
    "Here, the w2v input is given to a 2 layer NN. We remove the 64x64 layer since word vectors are already learnt and thus we don't require that layer"
   ]
  },
  {
   "cell_type": "code",
   "execution_count": 42,
   "metadata": {},
   "outputs": [],
   "source": [
    "class w2v_QNetwork(nn.Module):\n",
    "  \"\"\"\n",
    "  Q Network: designed to take state as input and give out Q values of actions as output\n",
    "  \"\"\"\n",
    "\n",
    "  def __init__(self, state_dim, action_dim):\n",
    "    \"\"\"\n",
    "      state_dim (int): state dimenssion\n",
    "      action_dim (int): action dimenssion\n",
    "    \"\"\"\n",
    "    super(w2v_QNetwork, self).__init__()\n",
    "    self.l1 = nn.Linear(state_dim, 64)\n",
    "    # self.l2 = nn.Linear(64, 64)\n",
    "    self.l3 = nn.Linear(64, action_dim)\n",
    "\n",
    "  def forward(self, state):\n",
    "    q = F.relu(self.l1(state))\n",
    "    # q = F.relu(self.l2(q))\n",
    "    return self.l3(q)\n"
   ]
  },
  {
   "cell_type": "markdown",
   "metadata": {},
   "source": [
    "### DQNAgent class"
   ]
  },
  {
   "cell_type": "code",
   "execution_count": 43,
   "metadata": {},
   "outputs": [],
   "source": [
    "class w2v_DQNAgent():\n",
    "  def __init__(self,\n",
    "   embed_dim,\n",
    "   action_dim,\n",
    "   discount=0.99,\n",
    "   tau=1e-3,\n",
    "   lr=5e-4,\n",
    "   update_freq=4,\n",
    "   max_size=int(1e5),\n",
    "   batch_size=64,\n",
    "   gpu_index=0\n",
    "   ):\n",
    "    \"\"\"\n",
    "      state_size (int): dimension of each state\n",
    "      action_size (int): dimension of each action\n",
    "      discount (float): discount factor\n",
    "      tau (float): used to update q-target\n",
    "      lr (float): learning rate\n",
    "      update_freq (int): update frequency of target network\n",
    "      max_size (int): experience replay buffer size\n",
    "      batch_size (int): training batch size\n",
    "      gpu_index (int): GPU used for training\n",
    "    \"\"\"\n",
    "    self.embed_dim = embed_dim\n",
    "    self.action_dim = action_dim\n",
    "    self.discount = discount\n",
    "    self.tau = tau\n",
    "    self.lr = lr\n",
    "    self.update_freq = update_freq\n",
    "    self.batch_size = batch_size\n",
    "    self.device = torch.device('cuda', index=gpu_index) if torch.cuda.is_available() else torch.device('cpu')\n",
    "\n",
    "\n",
    "    # Setting up the NNs\n",
    "    self.Q = w2v_QNetwork(embed_dim, action_dim).to(self.device)\n",
    "    self.Q_target = w2v_QNetwork(embed_dim, action_dim).to(self.device)\n",
    "    self.optimizer = optim.Adam(self.Q.parameters(), lr=self.lr)\n",
    "\n",
    "    # Experience Replay Buffer\n",
    "    self.memory = ExperienceReplay(embed_dim,1,max_size,self.batch_size,gpu_index)\n",
    "\n",
    "    self.t_train = 0\n",
    "\n",
    "  def step(self, state, action, reward, next_state, done):\n",
    "    \"\"\"\n",
    "    1. Adds (s,a,r,s') to the experience replay buffer, and updates the networks\n",
    "    2. Learns when the experience replay buffer has enough samples\n",
    "    3. Updates target netowork\n",
    "    \"\"\"\n",
    "    self.memory.add(state, action, reward, next_state, done)\n",
    "    self.t_train += 1\n",
    "\n",
    "    if self.memory.size > self.batch_size:\n",
    "      experiences = self.memory.sample()\n",
    "      self.learn(experiences, self.discount) #To be implemented\n",
    "\n",
    "    if (self.t_train % self.update_freq) == 0:\n",
    "      self.target_update(self.Q, self.Q_target, self.tau) #To be implemented\n",
    "\n",
    "  def select_action(self, state, epsilon):\n",
    "    \"\"\"\n",
    "    TODO: Complete this block to select action using epsilon greedy exploration\n",
    "    strategy\n",
    "    Input: state, epsilon\n",
    "    Return: Action\n",
    "    Return Type: int\n",
    "    \"\"\"\n",
    "    ###### TYPE YOUR CODE HERE ######\n",
    "    # We generate a random number between 0 and 1\n",
    "    rand_num = np.random.random()\n",
    "    state = torch.from_numpy(state).to(self.device)\n",
    "    a_opt = np.argmax(self.Q(state).cpu().detach().numpy())\n",
    "    if rand_num<epsilon:\n",
    "      a_list = [y for y in range(self.action_dim)]\n",
    "      # print('a_list = ', a_list)\n",
    "      a_list.remove(a_opt)\n",
    "      # print('a_list = ', a_list)\n",
    "      at = np.random.choice(np.array(a_list))\n",
    "      return (at)\n",
    "    else:\n",
    "      return(a_opt)\n",
    "    #################################\n",
    "\n",
    "  def learn(self, experiences, discount):\n",
    "    \"\"\"\n",
    "    TODO: Complete this block to update the Q-Network using the target network\n",
    "    1. Compute target using  self.Q_target ( target = r + discount * max_b [Q_target(s,b)] )\n",
    "    2. Compute Q(s,a) using self.Q\n",
    "    3. Compute MSE loss between step 1 and step 2\n",
    "    4. Update your network\n",
    "    Input: experiences consisting of states,actions,rewards,next_states and discount factor\n",
    "    Return: None\n",
    "    \"\"\"\n",
    "    states, actions, rewards, next_states, dones = experiences\n",
    "    ###### TYPE YOUR CODE HERE ######\n",
    "    # Step 1:\n",
    "    target = rewards + discount * torch.max(self.Q_target(next_states), axis = 1, keepdim = True).values * (1 - dones)# change Q_target to Q\n",
    "    # Step 2:\n",
    "    Q_sa = torch.take_along_dim(self.Q(states), actions, dim = 1)\n",
    "    # Step 3:\n",
    "    loss = nn.MSELoss()\n",
    "    mse_loss = loss(target, Q_sa)\n",
    "    # Step 4:\n",
    "    self.optimizer.zero_grad()\n",
    "    mse_loss.backward()\n",
    "    self.optimizer.step()\n",
    "    #################################\n",
    "\n",
    "  def target_update(self, Q, Q_target, tau):\n",
    "    \"\"\"\n",
    "    TODO: Update the target network parameters (param_target) using current Q parameters (param_Q)\n",
    "    Perform the update using tau, this ensures that we do not change the target network drastically\n",
    "    1. param_target = tau * param_Q + (1 - tau) * param_target\n",
    "    Input: Q,Q_target,tau\n",
    "    Return: None\n",
    "    \"\"\"\n",
    "    ###### TYPE YOUR CODE HERE ######\n",
    "    for target_param, param in zip(Q_target.parameters(), Q.parameters()):\n",
    "        target_param.data.copy_(tau * param.data + (1 - tau) * target_param.data)\n",
    "    #################################\n",
    "\n",
    "  def get_optimal_policy(self, states):\n",
    "    \"\"\"Extracts the optimal policy after training.\"\"\"\n",
    "    policy = []\n",
    "    for state in states:\n",
    "      state = torch.from_numpy(state).to(self.device)\n",
    "      policy.append(np.argmax(self.Q(state).cpu().detach().numpy()))\n",
    "    return policy\n"
   ]
  },
  {
   "cell_type": "markdown",
   "metadata": {},
   "source": [
    "### Running the training"
   ]
  },
  {
   "cell_type": "code",
   "execution_count": 52,
   "metadata": {},
   "outputs": [
    {
     "name": "stdout",
     "output_type": "stream",
     "text": [
      "Word embeddings loaded from:  mdp/runs_frozen/modified_medium_w2v_embed_dim_32_FrozenLake-v1_map_size_4_stochastic_False_seed_42_epochs_60.npy\n"
     ]
    }
   ],
   "source": [
    "torch.manual_seed(seed)\n",
    "np.random.seed(seed)\n",
    "random.seed(seed)\n",
    "\n",
    "w2v_epochs = 60 # change this to get the different results and then delete this line to ensure no overwriting\n",
    "word_embeddings = np.load(f\"{runs_folder_path}/modified_{modified}_w2v_embed_dim_{embed_dim}_{filename}_epochs_{w2v_epochs}.npy\", allow_pickle=True).item()\n",
    "print(\"Word embeddings loaded from: \", f\"{runs_folder_path}/modified_{modified}_w2v_embed_dim_{embed_dim}_{filename}_epochs_{w2v_epochs}.npy\")\n",
    "\n",
    "state_embeddings = []\n",
    "states = []\n",
    "words = list(word_embeddings.keys())\n",
    "#   print(word_embeddings['s_0'])\n",
    "for i in range(state_dim):\n",
    "  #  states.append(i)\n",
    "  if 's_'+str(i) in words:\n",
    "      state_embeddings.append(word_embeddings['s_'+str(i)])\n",
    "      # print(f\"s_{i}: {word_embeddings['s_'+str(i)]}\")\n",
    "  else:\n",
    "      temp = np.random.randn(embed_dim).astype(np.float32)\n",
    "      temp /= np.abs(np.max(temp))\n",
    "      state_embeddings.append(temp)\n",
    "      print(f\"s_{i} not present in the w2v model, hence random vector initialized\")\n",
    "      # print(f\"s_{i}: {temp}\")\n",
    "\n",
    "kwargs = {\n",
    "    \"embed_dim\":embed_dim,\n",
    "    \"action_dim\":action_dim,\n",
    "    \"discount\":gamma,\n",
    "    \"tau\":args.tau,\n",
    "    \"lr\":args.lr,\n",
    "    \"update_freq\":args.update_freq,\n",
    "    \"max_size\":args.max_size,\n",
    "    \"batch_size\":args.batch_size,\n",
    "    \"gpu_index\":args.gpu_index\n",
    "  }\n",
    "learner = w2v_DQNAgent(**kwargs)"
   ]
  },
  {
   "cell_type": "code",
   "execution_count": 53,
   "metadata": {},
   "outputs": [
    {
     "name": "stdout",
     "output_type": "stream",
     "text": [
      "Embeddings are loaded. Now we train dqn\n"
     ]
    },
    {
     "name": "stderr",
     "output_type": "stream",
     "text": [
      "  1%|          | 25/2500 [00:00<00:09, 248.98it/s]"
     ]
    },
    {
     "name": "stdout",
     "output_type": "stream",
     "text": [
      "Episode Number 0 Average Episodic Reward (over 100 episodes): 0.00\n"
     ]
    },
    {
     "name": "stderr",
     "output_type": "stream",
     "text": [
      "  5%|▌         | 125/2500 [00:00<00:10, 225.64it/s]"
     ]
    },
    {
     "name": "stdout",
     "output_type": "stream",
     "text": [
      "Episode Number 100 Average Episodic Reward (over 100 episodes): 0.01\n"
     ]
    },
    {
     "name": "stderr",
     "output_type": "stream",
     "text": [
      "  9%|▉         | 223/2500 [00:01<00:10, 210.45it/s]"
     ]
    },
    {
     "name": "stdout",
     "output_type": "stream",
     "text": [
      "Episode Number 200 Average Episodic Reward (over 100 episodes): 0.00\n"
     ]
    },
    {
     "name": "stderr",
     "output_type": "stream",
     "text": [
      " 12%|█▏        | 304/2500 [00:01<00:21, 101.55it/s]"
     ]
    },
    {
     "name": "stdout",
     "output_type": "stream",
     "text": [
      "Episode Number 300 Average Episodic Reward (over 100 episodes): 0.00\n"
     ]
    },
    {
     "name": "stderr",
     "output_type": "stream",
     "text": [
      " 16%|█▌        | 404/2500 [00:04<00:54, 38.36it/s] "
     ]
    },
    {
     "name": "stdout",
     "output_type": "stream",
     "text": [
      "Episode Number 400 Average Episodic Reward (over 100 episodes): 0.04\n"
     ]
    },
    {
     "name": "stderr",
     "output_type": "stream",
     "text": [
      " 21%|██▏       | 535/2500 [00:05<00:12, 158.70it/s]"
     ]
    },
    {
     "name": "stdout",
     "output_type": "stream",
     "text": [
      "Episode Number 500 Average Episodic Reward (over 100 episodes): 0.46\n"
     ]
    },
    {
     "name": "stderr",
     "output_type": "stream",
     "text": [
      " 25%|██▌       | 625/2500 [00:05<00:09, 204.32it/s]"
     ]
    },
    {
     "name": "stdout",
     "output_type": "stream",
     "text": [
      "Episode Number 600 Average Episodic Reward (over 100 episodes): 0.88\n"
     ]
    },
    {
     "name": "stderr",
     "output_type": "stream",
     "text": [
      " 30%|██▉       | 744/2500 [00:06<00:07, 230.44it/s]"
     ]
    },
    {
     "name": "stdout",
     "output_type": "stream",
     "text": [
      "Episode Number 700 Average Episodic Reward (over 100 episodes): 0.90\n"
     ]
    },
    {
     "name": "stderr",
     "output_type": "stream",
     "text": [
      " 34%|███▎      | 842/2500 [00:06<00:07, 234.20it/s]"
     ]
    },
    {
     "name": "stdout",
     "output_type": "stream",
     "text": [
      "Episode Number 800 Average Episodic Reward (over 100 episodes): 0.97\n"
     ]
    },
    {
     "name": "stderr",
     "output_type": "stream",
     "text": [
      " 38%|███▊      | 944/2500 [00:07<00:06, 241.45it/s]"
     ]
    },
    {
     "name": "stdout",
     "output_type": "stream",
     "text": [
      "Episode Number 900 Average Episodic Reward (over 100 episodes): 0.98\n"
     ]
    },
    {
     "name": "stderr",
     "output_type": "stream",
     "text": [
      " 42%|████▏     | 1048/2500 [00:07<00:05, 250.13it/s]"
     ]
    },
    {
     "name": "stdout",
     "output_type": "stream",
     "text": [
      "Episode Number 1000 Average Episodic Reward (over 100 episodes): 0.97\n"
     ]
    },
    {
     "name": "stderr",
     "output_type": "stream",
     "text": [
      " 45%|████▌     | 1125/2500 [00:08<00:05, 247.82it/s]"
     ]
    },
    {
     "name": "stdout",
     "output_type": "stream",
     "text": [
      "Episode Number 1100 Average Episodic Reward (over 100 episodes): 0.96\n"
     ]
    },
    {
     "name": "stderr",
     "output_type": "stream",
     "text": [
      " 49%|████▉     | 1226/2500 [00:08<00:05, 233.34it/s]"
     ]
    },
    {
     "name": "stdout",
     "output_type": "stream",
     "text": [
      "Episode Number 1200 Average Episodic Reward (over 100 episodes): 0.96\n"
     ]
    },
    {
     "name": "stderr",
     "output_type": "stream",
     "text": [
      " 53%|█████▎    | 1331/2500 [00:08<00:04, 249.01it/s]"
     ]
    },
    {
     "name": "stdout",
     "output_type": "stream",
     "text": [
      "Episode Number 1300 Average Episodic Reward (over 100 episodes): 0.98\n"
     ]
    },
    {
     "name": "stderr",
     "output_type": "stream",
     "text": [
      " 57%|█████▋    | 1432/2500 [00:09<00:04, 245.76it/s]"
     ]
    },
    {
     "name": "stdout",
     "output_type": "stream",
     "text": [
      "Episode Number 1400 Average Episodic Reward (over 100 episodes): 0.98\n"
     ]
    },
    {
     "name": "stderr",
     "output_type": "stream",
     "text": [
      " 61%|██████▏   | 1536/2500 [00:09<00:03, 252.90it/s]"
     ]
    },
    {
     "name": "stdout",
     "output_type": "stream",
     "text": [
      "Episode Number 1500 Average Episodic Reward (over 100 episodes): 0.98\n"
     ]
    },
    {
     "name": "stderr",
     "output_type": "stream",
     "text": [
      " 66%|██████▌   | 1638/2500 [00:10<00:03, 245.80it/s]"
     ]
    },
    {
     "name": "stdout",
     "output_type": "stream",
     "text": [
      "Episode Number 1600 Average Episodic Reward (over 100 episodes): 0.99\n"
     ]
    },
    {
     "name": "stderr",
     "output_type": "stream",
     "text": [
      " 70%|██████▉   | 1740/2500 [00:10<00:03, 247.04it/s]"
     ]
    },
    {
     "name": "stdout",
     "output_type": "stream",
     "text": [
      "Episode Number 1700 Average Episodic Reward (over 100 episodes): 0.98\n"
     ]
    },
    {
     "name": "stderr",
     "output_type": "stream",
     "text": [
      " 74%|███████▎  | 1839/2500 [00:10<00:02, 224.51it/s]"
     ]
    },
    {
     "name": "stdout",
     "output_type": "stream",
     "text": [
      "Episode Number 1800 Average Episodic Reward (over 100 episodes): 0.99\n"
     ]
    },
    {
     "name": "stderr",
     "output_type": "stream",
     "text": [
      " 77%|███████▋  | 1935/2500 [00:11<00:02, 236.38it/s]"
     ]
    },
    {
     "name": "stdout",
     "output_type": "stream",
     "text": [
      "Episode Number 1900 Average Episodic Reward (over 100 episodes): 0.98\n"
     ]
    },
    {
     "name": "stderr",
     "output_type": "stream",
     "text": [
      " 82%|████████▏ | 2038/2500 [00:11<00:01, 249.23it/s]"
     ]
    },
    {
     "name": "stdout",
     "output_type": "stream",
     "text": [
      "Episode Number 2000 Average Episodic Reward (over 100 episodes): 0.97\n"
     ]
    },
    {
     "name": "stderr",
     "output_type": "stream",
     "text": [
      " 86%|████████▌ | 2143/2500 [00:12<00:01, 249.79it/s]"
     ]
    },
    {
     "name": "stdout",
     "output_type": "stream",
     "text": [
      "Episode Number 2100 Average Episodic Reward (over 100 episodes): 0.95\n"
     ]
    },
    {
     "name": "stderr",
     "output_type": "stream",
     "text": [
      " 90%|████████▉ | 2245/2500 [00:12<00:01, 231.25it/s]"
     ]
    },
    {
     "name": "stdout",
     "output_type": "stream",
     "text": [
      "Episode Number 2200 Average Episodic Reward (over 100 episodes): 1.00\n"
     ]
    },
    {
     "name": "stderr",
     "output_type": "stream",
     "text": [
      " 94%|█████████▍| 2347/2500 [00:13<00:00, 243.59it/s]"
     ]
    },
    {
     "name": "stdout",
     "output_type": "stream",
     "text": [
      "Episode Number 2300 Average Episodic Reward (over 100 episodes): 0.97\n"
     ]
    },
    {
     "name": "stderr",
     "output_type": "stream",
     "text": [
      " 98%|█████████▊| 2450/2500 [00:13<00:00, 252.45it/s]"
     ]
    },
    {
     "name": "stdout",
     "output_type": "stream",
     "text": [
      "Episode Number 2400 Average Episodic Reward (over 100 episodes): 0.97\n"
     ]
    },
    {
     "name": "stderr",
     "output_type": "stream",
     "text": [
      "100%|██████████| 2500/2500 [00:13<00:00, 182.27it/s]"
     ]
    },
    {
     "name": "stdout",
     "output_type": "stream",
     "text": [
      "Model saved at:  mdp/runs_frozen/w2v_dqn_modified_medium_w2v_embed_dim_32_FrozenLake-v1_map_size_4_stochastic_False_seed_42_epochs_60.pt\n",
      "Final policy:  [1, 0, 2, 1, 1, 0, 1, 1, 2, 2, 1, 1, 3, 0, 2, 0]\n",
      "State: Type -    action taken\n",
      "     0:   S - 1-->Down\n",
      "     1:   F - 0-->Left\n",
      "     2:   H - 2-->Right\n",
      "     3:   F - 1-->Down\n",
      "     4:   F - 1-->Down\n",
      "     5:   H - 0-->Left\n",
      "     6:   F - 1-->Down\n",
      "     7:   F - 1-->Down\n",
      "     8:   F - 2-->Right\n",
      "     9:   F - 2-->Right\n",
      "     10:   F - 1-->Down\n",
      "     11:   H - 1-->Down\n",
      "     12:   F - 3-->Up\n",
      "     13:   H - 0-->Left\n",
      "     14:   F - 2-->Right\n",
      "     15:   G - 0-->Left\n",
      "It was successful!\n"
     ]
    },
    {
     "name": "stderr",
     "output_type": "stream",
     "text": [
      "\n"
     ]
    }
   ],
   "source": [
    "# one_hot_state = state_embeddings\n",
    "print(\"Embeddings are loaded. Now we train dqn\")\n",
    "# print(one_hot_state)\n",
    "\n",
    "# f = open('dqn_mountaincar.txt', 'w') # file to store the training log\n",
    "temp_file = f\"{runs_folder_path}/w2v_logger_{filename}.txt\"\n",
    "f = open(temp_file, 'w') # file to store the training log\n",
    "reward_curve = [] # this will store the moving avg of rewards\n",
    "moving_window = deque(maxlen=100)\n",
    "epsilon = args.epsilon_start\n",
    "count = 0\n",
    "for e in tqdm(range(args.n_episodes)):\n",
    "    state, _ = env.reset(seed=seed)\n",
    "    curr_reward = 0\n",
    "    for t in range(args.max_esp_len):\n",
    "        action = learner.select_action(state_embeddings[state],epsilon)\n",
    "        # n_state,reward,terminated,truncated,_ = env.step(action)\n",
    "        # done = terminated or truncated\n",
    "        n_state,reward,done,_,_ = env.step(action)\n",
    "        learner.step(state_embeddings[state],action,reward,state_embeddings[n_state],done)\n",
    "        state = n_state\n",
    "        curr_reward += reward\n",
    "        if done:\n",
    "            break\n",
    "    moving_window.append(curr_reward)\n",
    "    reward_curve.append(np.mean(moving_window))\n",
    "\n",
    "    \"\"\"\"\n",
    "    TODO: Write code for decaying the exploration rate using args.epsilon_decay\n",
    "    and args.epsilon_end. Note that epsilon has been initialized to args.epsilon_start\n",
    "    1. You are encouraged to try new methods\n",
    "    \"\"\"\n",
    "    ###### TYPE YOUR CODE HERE ######\n",
    "    epsilon *= args.epsilon_decay\n",
    "    epsilon = max(epsilon, args.epsilon_end)\n",
    "    # print('current epsilon = ', epsilon)\n",
    "    #################################\n",
    "\n",
    "    if e % 100 == 0:\n",
    "        print('Episode Number {} Average Episodic Reward (over 100 episodes): {:.2f}'.format(e, np.mean(moving_window)))\n",
    "\n",
    "    f.write('Episode Number {} Average Episodic Reward (over 100 episodes): {:.2f} \\n'.format(e, np.mean(moving_window)))\n",
    "    #################################\n",
    "\n",
    "f.close() # to close the file\n",
    "\n",
    "# Now we save the trained model\n",
    "rew_file = f\"{runs_folder_path}/rewards_w2v_dqn_modified_{modified}_w2v_embed_dim_{embed_dim}_{filename}_epochs_{w2v_epochs}.npy\"\n",
    "np.save(rew_file, reward_curve)\n",
    "model_saved_file = f\"{runs_folder_path}/w2v_dqn_modified_{modified}_w2v_embed_dim_{embed_dim}_{filename}_epochs_{w2v_epochs}.pt\"\n",
    "torch.save(learner.Q.state_dict(), model_saved_file)\n",
    "print(\"Model saved at: \", model_saved_file)\n",
    "\n",
    "final_policy = learner.get_optimal_policy(state_embeddings)\n",
    "print(\"Final policy: \", final_policy)\n",
    "state = 0\n",
    "# Define action map\n",
    "action_map = {\n",
    "0: \"Left\",\n",
    "1: \"Down\",\n",
    "2: \"Right\",\n",
    "3: \"Up\"\n",
    "}\n",
    "print(\"State: Type -    action taken\")\n",
    "lake_grid = env.unwrapped.desc  # Gets the grid representation\n",
    "for row in lake_grid:\n",
    "    for cell in row:\n",
    "        print(f\"     {state}:   {cell.decode('utf-8')} - {final_policy[state]}-->{action_map[final_policy[state]]}\")  # Convert byte to string\n",
    "        state += 1\n",
    "\n",
    "print('It was successful!')\n"
   ]
  },
  {
   "cell_type": "code",
   "execution_count": 44,
   "metadata": {},
   "outputs": [
    {
     "name": "stdout",
     "output_type": "stream",
     "text": [
      "Frozen Lake Grid Layout:\n",
      "S H F F\n",
      "F F F F\n",
      "F H H F\n",
      "F F F G\n",
      "Goal State: 15\n"
     ]
    }
   ],
   "source": [
    "if check_env_details:\n",
    "    # Extract the environment description (grid layout)\n",
    "    lake_grid = env.unwrapped.desc  # Gets the grid representation\n",
    "\n",
    "    # Print state-to-symbol mapping\n",
    "    print(\"Frozen Lake Grid Layout:\")\n",
    "    for row in lake_grid:\n",
    "        print(\" \".join(row.astype(str)))\n",
    "\n",
    "    goal_state = None\n",
    "    rows, cols = lake_grid.shape\n",
    "    for i in range(rows):\n",
    "        for j in range(cols):\n",
    "            if lake_grid[i, j] == b'G':  # 'G' is stored as a byte-string\n",
    "                goal_state = i * cols + j  # Convert (row, col) to state number\n",
    "                break\n",
    "        # end for j\n",
    "    # end for i\n",
    "    print(f\"Goal State: {goal_state}\")"
   ]
  },
  {
   "cell_type": "markdown",
   "metadata": {},
   "source": [
    "## Vanilla DQN (without w2v)"
   ]
  },
  {
   "cell_type": "code",
   "execution_count": 45,
   "metadata": {},
   "outputs": [],
   "source": [
    "class QNetwork(nn.Module):\n",
    "  \"\"\"\n",
    "  Q Network: designed to take state as input and give out Q values of actions as output\n",
    "  \"\"\"\n",
    "\n",
    "  def __init__(self, state_dim, action_dim):\n",
    "    \"\"\"\n",
    "      state_dim (int): state dimenssion\n",
    "      action_dim (int): action dimenssion\n",
    "    \"\"\"\n",
    "    super(QNetwork, self).__init__()\n",
    "    self.l1 = nn.Linear(state_dim, 64)\n",
    "    self.l2 = nn.Linear(64, 64)\n",
    "    self.l3 = nn.Linear(64, action_dim)\n",
    "\n",
    "  def forward(self, state):\n",
    "    q = F.relu(self.l1(state))\n",
    "    q = F.relu(self.l2(q))\n",
    "    return self.l3(q)\n"
   ]
  },
  {
   "cell_type": "code",
   "execution_count": 46,
   "metadata": {},
   "outputs": [],
   "source": [
    "\n",
    "class DQNAgent():\n",
    "\n",
    "  def __init__(self,\n",
    "   state_dim,\n",
    "   action_dim,\n",
    "   discount=0.99,\n",
    "   tau=1e-3,\n",
    "   lr=5e-4,\n",
    "   update_freq=4,\n",
    "   max_size=int(1e5),\n",
    "   batch_size=64,\n",
    "   gpu_index=0\n",
    "   ):\n",
    "    \"\"\"\n",
    "      state_size (int): dimension of each state\n",
    "      action_size (int): dimension of each action\n",
    "      discount (float): discount factor\n",
    "      tau (float): used to update q-target\n",
    "      lr (float): learning rate\n",
    "      update_freq (int): update frequency of target network\n",
    "      max_size (int): experience replay buffer size\n",
    "      batch_size (int): training batch size\n",
    "      gpu_index (int): GPU used for training\n",
    "    \"\"\"\n",
    "    self.state_dim = state_dim\n",
    "    self.action_dim = action_dim\n",
    "    self.discount = discount\n",
    "    self.tau = tau\n",
    "    self.lr = lr\n",
    "    self.update_freq = update_freq\n",
    "    self.batch_size = batch_size\n",
    "    self.device = torch.device('cuda', index=gpu_index) if torch.cuda.is_available() else torch.device('cpu')\n",
    "\n",
    "\n",
    "    # Setting up the NNs\n",
    "    self.Q = QNetwork(state_dim, action_dim).to(self.device)\n",
    "    self.Q_target = QNetwork(state_dim, action_dim).to(self.device)\n",
    "    self.optimizer = optim.Adam(self.Q.parameters(), lr=self.lr)\n",
    "\n",
    "    # Experience Replay Buffer\n",
    "    self.memory = ExperienceReplay(state_dim,1,max_size,self.batch_size,gpu_index)\n",
    "\n",
    "    self.t_train = 0\n",
    "\n",
    "  def step(self, state, action, reward, next_state, done):\n",
    "    \"\"\"\n",
    "    1. Adds (s,a,r,s') to the experience replay buffer, and updates the networks\n",
    "    2. Learns when the experience replay buffer has enough samples\n",
    "    3. Updates target netowork\n",
    "    \"\"\"\n",
    "    self.memory.add(state, action, reward, next_state, done)\n",
    "    self.t_train += 1\n",
    "\n",
    "    if self.memory.size > self.batch_size:\n",
    "      experiences = self.memory.sample()\n",
    "      self.learn(experiences, self.discount) #To be implemented\n",
    "\n",
    "    if (self.t_train % self.update_freq) == 0:\n",
    "      self.target_update(self.Q, self.Q_target, self.tau) #To be implemented\n",
    "\n",
    "  def select_action(self, state, epsilon):\n",
    "    \"\"\"\n",
    "    TODO: Complete this block to select action using epsilon greedy exploration\n",
    "    strategy\n",
    "    Input: state, epsilon\n",
    "    Return: Action\n",
    "    Return Type: int\n",
    "    \"\"\"\n",
    "    ###### TYPE YOUR CODE HERE ######\n",
    "    # We generate a random number between 0 and 1\n",
    "    rand_num = np.random.random()\n",
    "    state = torch.from_numpy(state).to(self.device)\n",
    "    a_opt = np.argmax(self.Q(state).cpu().detach().numpy())\n",
    "    if rand_num<epsilon:\n",
    "      a_list = [y for y in range(self.action_dim)]\n",
    "      # print('a_list = ', a_list)\n",
    "      a_list.remove(a_opt)\n",
    "      # print('a_list = ', a_list)\n",
    "      at = np.random.choice(np.array(a_list))\n",
    "      return (at)\n",
    "    else:\n",
    "      return(a_opt)\n",
    "    #################################\n",
    "\n",
    "  def learn(self, experiences, discount):\n",
    "    \"\"\"\n",
    "    TODO: Complete this block to update the Q-Network using the target network\n",
    "    1. Compute target using  self.Q_target ( target = r + discount * max_b [Q_target(s,b)] )\n",
    "    2. Compute Q(s,a) using self.Q\n",
    "    3. Compute MSE loss between step 1 and step 2\n",
    "    4. Update your network\n",
    "    Input: experiences consisting of states,actions,rewards,next_states and discount factor\n",
    "    Return: None\n",
    "    \"\"\"\n",
    "    states, actions, rewards, next_states, dones = experiences\n",
    "    ###### TYPE YOUR CODE HERE ######\n",
    "    # Step 1:\n",
    "    target = rewards + discount * torch.max(self.Q_target(next_states), axis = 1, keepdim = True).values * (1 - dones)# change Q_target to Q\n",
    "    # Step 2:\n",
    "    Q_sa = torch.take_along_dim(self.Q(states), actions, dim = 1)\n",
    "    # Step 3:\n",
    "    loss = nn.MSELoss()\n",
    "    mse_loss = loss(target, Q_sa)\n",
    "    # Step 4:\n",
    "    self.optimizer.zero_grad()\n",
    "    mse_loss.backward()\n",
    "    self.optimizer.step()\n",
    "    #################################\n",
    "\n",
    "  def target_update(self, Q, Q_target, tau):\n",
    "    \"\"\"\n",
    "    TODO: Update the target network parameters (param_target) using current Q parameters (param_Q)\n",
    "    Perform the update using tau, this ensures that we do not change the target network drastically\n",
    "    1. param_target = tau * param_Q + (1 - tau) * param_target\n",
    "    Input: Q,Q_target,tau\n",
    "    Return: None\n",
    "    \"\"\"\n",
    "    ###### TYPE YOUR CODE HERE ######\n",
    "    for target_param, param in zip(Q_target.parameters(), Q.parameters()):\n",
    "        target_param.data.copy_(tau * param.data + (1 - tau) * target_param.data)\n",
    "    #################################\n",
    "\n",
    "  def get_optimal_policy(self, states):\n",
    "    \"\"\"Extracts the optimal policy after training.\"\"\"\n",
    "    policy = []\n",
    "    for state in states:\n",
    "      state = torch.from_numpy(state).to(self.device)\n",
    "      policy.append(np.argmax(self.Q(state).cpu().detach().numpy()))\n",
    "    return policy"
   ]
  },
  {
   "cell_type": "markdown",
   "metadata": {},
   "source": [
    "### To run the DQN code"
   ]
  },
  {
   "cell_type": "code",
   "execution_count": 47,
   "metadata": {},
   "outputs": [],
   "source": [
    "torch.manual_seed(seed)\n",
    "np.random.seed(seed)\n",
    "random.seed(seed)\n",
    "\n",
    "kwargs = {\n",
    "    \"state_dim\":state_dim,\n",
    "    \"action_dim\":action_dim,\n",
    "    \"discount\":gamma,\n",
    "    \"tau\":args.tau,\n",
    "    \"lr\":args.lr,\n",
    "    \"update_freq\":args.update_freq,\n",
    "    \"max_size\":args.max_size,\n",
    "    \"batch_size\":args.batch_size,\n",
    "    \"gpu_index\":args.gpu_index\n",
    "  }\n",
    "learner = DQNAgent(**kwargs)"
   ]
  },
  {
   "cell_type": "code",
   "execution_count": 48,
   "metadata": {},
   "outputs": [
    {
     "name": "stdout",
     "output_type": "stream",
     "text": [
      "One hot state defined. Now we train dqn\n"
     ]
    },
    {
     "name": "stderr",
     "output_type": "stream",
     "text": [
      "  0%|          | 10/2500 [00:00<00:25, 98.84it/s]"
     ]
    },
    {
     "name": "stdout",
     "output_type": "stream",
     "text": [
      "Episode Number 0 Average Episodic Reward (over 100 episodes): 0.00\n"
     ]
    },
    {
     "name": "stderr",
     "output_type": "stream",
     "text": [
      "  5%|▌         | 126/2500 [00:00<00:10, 237.27it/s]"
     ]
    },
    {
     "name": "stdout",
     "output_type": "stream",
     "text": [
      "Episode Number 100 Average Episodic Reward (over 100 episodes): 0.04\n"
     ]
    },
    {
     "name": "stderr",
     "output_type": "stream",
     "text": [
      "  9%|▉         | 219/2500 [00:01<00:12, 177.26it/s]"
     ]
    },
    {
     "name": "stdout",
     "output_type": "stream",
     "text": [
      "Episode Number 200 Average Episodic Reward (over 100 episodes): 0.02\n"
     ]
    },
    {
     "name": "stderr",
     "output_type": "stream",
     "text": [
      " 12%|█▏        | 307/2500 [00:02<00:38, 56.65it/s] "
     ]
    },
    {
     "name": "stdout",
     "output_type": "stream",
     "text": [
      "Episode Number 300 Average Episodic Reward (over 100 episodes): 0.17\n"
     ]
    },
    {
     "name": "stderr",
     "output_type": "stream",
     "text": [
      " 17%|█▋        | 418/2500 [00:03<00:21, 96.74it/s] "
     ]
    },
    {
     "name": "stdout",
     "output_type": "stream",
     "text": [
      "Episode Number 400 Average Episodic Reward (over 100 episodes): 0.25\n"
     ]
    },
    {
     "name": "stderr",
     "output_type": "stream",
     "text": [
      " 21%|██        | 523/2500 [00:04<00:11, 165.37it/s]"
     ]
    },
    {
     "name": "stdout",
     "output_type": "stream",
     "text": [
      "Episode Number 500 Average Episodic Reward (over 100 episodes): 0.74\n"
     ]
    },
    {
     "name": "stderr",
     "output_type": "stream",
     "text": [
      " 26%|██▌       | 640/2500 [00:05<00:08, 215.38it/s]"
     ]
    },
    {
     "name": "stdout",
     "output_type": "stream",
     "text": [
      "Episode Number 600 Average Episodic Reward (over 100 episodes): 0.92\n"
     ]
    },
    {
     "name": "stderr",
     "output_type": "stream",
     "text": [
      " 29%|██▉       | 735/2500 [00:05<00:07, 228.75it/s]"
     ]
    },
    {
     "name": "stdout",
     "output_type": "stream",
     "text": [
      "Episode Number 700 Average Episodic Reward (over 100 episodes): 0.93\n"
     ]
    },
    {
     "name": "stderr",
     "output_type": "stream",
     "text": [
      " 33%|███▎      | 829/2500 [00:06<00:07, 231.45it/s]"
     ]
    },
    {
     "name": "stdout",
     "output_type": "stream",
     "text": [
      "Episode Number 800 Average Episodic Reward (over 100 episodes): 0.97\n"
     ]
    },
    {
     "name": "stderr",
     "output_type": "stream",
     "text": [
      " 37%|███▋      | 925/2500 [00:06<00:06, 233.91it/s]"
     ]
    },
    {
     "name": "stdout",
     "output_type": "stream",
     "text": [
      "Episode Number 900 Average Episodic Reward (over 100 episodes): 0.99\n"
     ]
    },
    {
     "name": "stderr",
     "output_type": "stream",
     "text": [
      " 42%|████▏     | 1045/2500 [00:06<00:06, 231.76it/s]"
     ]
    },
    {
     "name": "stdout",
     "output_type": "stream",
     "text": [
      "Episode Number 1000 Average Episodic Reward (over 100 episodes): 0.98\n"
     ]
    },
    {
     "name": "stderr",
     "output_type": "stream",
     "text": [
      " 46%|████▌     | 1140/2500 [00:07<00:05, 227.40it/s]"
     ]
    },
    {
     "name": "stdout",
     "output_type": "stream",
     "text": [
      "Episode Number 1100 Average Episodic Reward (over 100 episodes): 0.98\n"
     ]
    },
    {
     "name": "stderr",
     "output_type": "stream",
     "text": [
      " 49%|████▉     | 1232/2500 [00:07<00:05, 223.45it/s]"
     ]
    },
    {
     "name": "stdout",
     "output_type": "stream",
     "text": [
      "Episode Number 1200 Average Episodic Reward (over 100 episodes): 1.00\n"
     ]
    },
    {
     "name": "stderr",
     "output_type": "stream",
     "text": [
      " 53%|█████▎    | 1327/2500 [00:08<00:05, 231.23it/s]"
     ]
    },
    {
     "name": "stdout",
     "output_type": "stream",
     "text": [
      "Episode Number 1300 Average Episodic Reward (over 100 episodes): 0.98\n"
     ]
    },
    {
     "name": "stderr",
     "output_type": "stream",
     "text": [
      " 58%|█████▊    | 1448/2500 [00:08<00:04, 237.19it/s]"
     ]
    },
    {
     "name": "stdout",
     "output_type": "stream",
     "text": [
      "Episode Number 1400 Average Episodic Reward (over 100 episodes): 0.98\n"
     ]
    },
    {
     "name": "stderr",
     "output_type": "stream",
     "text": [
      " 62%|██████▏   | 1544/2500 [00:09<00:04, 235.65it/s]"
     ]
    },
    {
     "name": "stdout",
     "output_type": "stream",
     "text": [
      "Episode Number 1500 Average Episodic Reward (over 100 episodes): 0.97\n"
     ]
    },
    {
     "name": "stderr",
     "output_type": "stream",
     "text": [
      " 66%|██████▌   | 1641/2500 [00:09<00:03, 236.20it/s]"
     ]
    },
    {
     "name": "stdout",
     "output_type": "stream",
     "text": [
      "Episode Number 1600 Average Episodic Reward (over 100 episodes): 0.98\n"
     ]
    },
    {
     "name": "stderr",
     "output_type": "stream",
     "text": [
      " 69%|██████▉   | 1737/2500 [00:09<00:03, 233.40it/s]"
     ]
    },
    {
     "name": "stdout",
     "output_type": "stream",
     "text": [
      "Episode Number 1700 Average Episodic Reward (over 100 episodes): 0.97\n"
     ]
    },
    {
     "name": "stderr",
     "output_type": "stream",
     "text": [
      " 73%|███████▎  | 1834/2500 [00:10<00:02, 237.75it/s]"
     ]
    },
    {
     "name": "stdout",
     "output_type": "stream",
     "text": [
      "Episode Number 1800 Average Episodic Reward (over 100 episodes): 0.99\n"
     ]
    },
    {
     "name": "stderr",
     "output_type": "stream",
     "text": [
      " 77%|███████▋  | 1931/2500 [00:10<00:02, 238.44it/s]"
     ]
    },
    {
     "name": "stdout",
     "output_type": "stream",
     "text": [
      "Episode Number 1900 Average Episodic Reward (over 100 episodes): 0.97\n"
     ]
    },
    {
     "name": "stderr",
     "output_type": "stream",
     "text": [
      " 81%|████████  | 2027/2500 [00:11<00:02, 235.15it/s]"
     ]
    },
    {
     "name": "stdout",
     "output_type": "stream",
     "text": [
      "Episode Number 2000 Average Episodic Reward (over 100 episodes): 0.98\n"
     ]
    },
    {
     "name": "stderr",
     "output_type": "stream",
     "text": [
      " 86%|████████▌ | 2146/2500 [00:11<00:01, 229.48it/s]"
     ]
    },
    {
     "name": "stdout",
     "output_type": "stream",
     "text": [
      "Episode Number 2100 Average Episodic Reward (over 100 episodes): 1.00\n"
     ]
    },
    {
     "name": "stderr",
     "output_type": "stream",
     "text": [
      " 90%|████████▉ | 2241/2500 [00:12<00:01, 227.55it/s]"
     ]
    },
    {
     "name": "stdout",
     "output_type": "stream",
     "text": [
      "Episode Number 2200 Average Episodic Reward (over 100 episodes): 1.00\n"
     ]
    },
    {
     "name": "stderr",
     "output_type": "stream",
     "text": [
      " 93%|█████████▎| 2334/2500 [00:12<00:00, 221.29it/s]"
     ]
    },
    {
     "name": "stdout",
     "output_type": "stream",
     "text": [
      "Episode Number 2300 Average Episodic Reward (over 100 episodes): 0.98\n"
     ]
    },
    {
     "name": "stderr",
     "output_type": "stream",
     "text": [
      " 97%|█████████▋| 2423/2500 [00:12<00:00, 214.96it/s]"
     ]
    },
    {
     "name": "stdout",
     "output_type": "stream",
     "text": [
      "Episode Number 2400 Average Episodic Reward (over 100 episodes): 1.00\n"
     ]
    },
    {
     "name": "stderr",
     "output_type": "stream",
     "text": [
      "100%|██████████| 2500/2500 [00:13<00:00, 187.27it/s]"
     ]
    },
    {
     "name": "stdout",
     "output_type": "stream",
     "text": [
      "Model saved at:  mdp/runs_frozen/dqn_FrozenLake-v1_map_size_4_stochastic_False_seed_19.pt\n",
      "Final policy:  [1, 2, 2, 1, 2, 2, 2, 1, 1, 2, 2, 1, 2, 2, 2, 2]\n",
      "State: Type -    action taken\n",
      "     0:   S - 1-->Down\n",
      "     1:   H - 2-->Right\n",
      "     2:   F - 2-->Right\n",
      "     3:   F - 1-->Down\n",
      "     4:   F - 2-->Right\n",
      "     5:   F - 2-->Right\n",
      "     6:   F - 2-->Right\n",
      "     7:   F - 1-->Down\n",
      "     8:   F - 1-->Down\n",
      "     9:   H - 2-->Right\n",
      "     10:   H - 2-->Right\n",
      "     11:   F - 1-->Down\n",
      "     12:   F - 2-->Right\n",
      "     13:   F - 2-->Right\n",
      "     14:   F - 2-->Right\n",
      "     15:   G - 2-->Right\n",
      "It was successful!\n"
     ]
    },
    {
     "name": "stderr",
     "output_type": "stream",
     "text": [
      "\n"
     ]
    }
   ],
   "source": [
    "one_hot_state = np.float32(np.eye(state_dim))\n",
    "print(\"One hot state defined. Now we train dqn\")\n",
    "\n",
    "temp_file = f\"{runs_folder_path}/dqn_logger_{filename}.txt\"\n",
    "f = open(temp_file, 'w') # file to store the training log\n",
    "reward_curve = [] # this will store the moving avg of rewards\n",
    "moving_window = deque(maxlen=100)\n",
    "epsilon = args.epsilon_start\n",
    "count = 0\n",
    "for e in tqdm(range(args.n_episodes)):\n",
    "    state, _ = env.reset(seed=seed)\n",
    "    curr_reward = 0\n",
    "    for t in range(args.max_esp_len):\n",
    "        action = learner.select_action(one_hot_state[state],epsilon)\n",
    "        # n_state,reward,terminated,truncated,_ = env.step(action)\n",
    "        # done = terminated or truncated\n",
    "        n_state,reward,done,_,_ = env.step(action)\n",
    "        learner.step(one_hot_state[state],action,reward,one_hot_state[n_state],done)\n",
    "        state = n_state\n",
    "        curr_reward += reward\n",
    "        if done:\n",
    "            break\n",
    "    moving_window.append(curr_reward)\n",
    "    reward_curve.append(np.mean(moving_window))\n",
    "    \n",
    "    epsilon *= args.epsilon_decay\n",
    "    epsilon = max(epsilon, args.epsilon_end)\n",
    "\n",
    "    if e % 100 == 0:\n",
    "        print('Episode Number {} Average Episodic Reward (over 100 episodes): {:.2f}'.format(e, np.mean(moving_window)))\n",
    "\n",
    "    f.write('Episode Number {} Average Episodic Reward (over 100 episodes): {:.2f} \\n'.format(e, np.mean(moving_window)))\n",
    "    #################################\n",
    "\n",
    "f.close() # to close the file\n",
    "\n",
    "# Now we save the trained model\n",
    "rew_file = f\"{runs_folder_path}/rewards_dqn_{filename}.npy\"\n",
    "np.save(rew_file, reward_curve)\n",
    "model_saved_file = f\"{runs_folder_path}/dqn_{filename}.pt\"\n",
    "torch.save(learner.Q.state_dict(), model_saved_file)\n",
    "print(\"Model saved at: \", model_saved_file)\n",
    "\n",
    "final_policy = learner.get_optimal_policy(one_hot_state)\n",
    "print(\"Final policy: \", final_policy)\n",
    "state = 0\n",
    "# Define action map\n",
    "action_map = {\n",
    "0: \"Left\",\n",
    "1: \"Down\",\n",
    "2: \"Right\",\n",
    "3: \"Up\"\n",
    "}\n",
    "print(\"State: Type -    action taken\")\n",
    "lake_grid = env.unwrapped.desc  # Gets the grid representation\n",
    "for row in lake_grid:\n",
    "    for cell in row:\n",
    "        print(f\"     {state}:   {cell.decode('utf-8')} - {final_policy[state]}-->{action_map[final_policy[state]]}\")  # Convert byte to string\n",
    "        state += 1\n",
    "\n",
    "print('It was successful!')\n"
   ]
  },
  {
   "cell_type": "code",
   "execution_count": 49,
   "metadata": {},
   "outputs": [
    {
     "name": "stdout",
     "output_type": "stream",
     "text": [
      "Frozen Lake Grid Layout:\n",
      "S H F F\n",
      "F F F F\n",
      "F H H F\n",
      "F F F G\n",
      "Goal State: 15\n"
     ]
    }
   ],
   "source": [
    "if check_env_details:\n",
    "    # Extract the environment description (grid layout)\n",
    "    lake_grid = env.unwrapped.desc  # Gets the grid representation\n",
    "\n",
    "    # Print state-to-symbol mapping\n",
    "    print(\"Frozen Lake Grid Layout:\")\n",
    "    for row in lake_grid:\n",
    "        print(\" \".join(row.astype(str)))\n",
    "\n",
    "    goal_state = None\n",
    "    rows, cols = lake_grid.shape\n",
    "    for i in range(rows):\n",
    "        for j in range(cols):\n",
    "            if lake_grid[i, j] == b'G':  # 'G' is stored as a byte-string\n",
    "                goal_state = i * cols + j  # Convert (row, col) to state number\n",
    "                break\n",
    "        # end for j\n",
    "    # end for i\n",
    "    print(f\"Goal State: {goal_state}\")"
   ]
  },
  {
   "cell_type": "markdown",
   "metadata": {},
   "source": [
    "# Plot generation\n",
    "We generate the plots containing the reward curves obtained for dqn vs w2v+dqn for different cases.\\\n",
    "Additionally, in later cases, we will also compare the reward curves for dqn_w2v method with different embedding dimensions and for different epoch trainings"
   ]
  },
  {
   "cell_type": "markdown",
   "metadata": {},
   "source": [
    "## Case 1: Stochastic = True\n",
    "Here, seed = 19: We compare DQN vs w2v_dqn under different modifications"
   ]
  },
  {
   "cell_type": "code",
   "execution_count": 5,
   "metadata": {},
   "outputs": [
    {
     "data": {
      "image/png": "[encoded data removed]",
      "text/plain": [
       "<Figure size 640x480 with 1 Axes>"
      ]
     },
     "metadata": {},
     "output_type": "display_data"
    }
   ],
   "source": [
    "curve1 = np.load(f\"{runs_folder_path}/rewards_dqn_{env_name}_map_size_{env_dim}_stochastic_{True}_seed_{19}.npy\")\n",
    "# curve_perfect = np.load(f\"{runs_folder_path}/rewards_w2v_dqn_modified_perfect_w2v_embed_dim_{embed_dim}_{env_name}_map_size_{env_dim}_stochastic_{True}_seed_{19}_epochs_{60}.npy\")\n",
    "curve_medium = np.load(f\"{runs_folder_path}/rewards_w2v_dqn_modified_medium_w2v_embed_dim_{embed_dim}_{env_name}_map_size_{env_dim}_stochastic_{True}_seed_{19}_epochs_{60}.npy\")\n",
    "# curve_random = np.load(f\"{runs_folder_path}/rewards_w2v_dqn_modified_random_w2v_embed_dim_{embed_dim}_{env_name}_map_size_{env_dim}_stochastic_{True}_seed_{19}_epochs_{60}.npy\")\n",
    "\n",
    "plt.figure(1)\n",
    "plt.plot(range(args.n_episodes), curve1, label = 'vanilla dqn', linestyle='-', marker='o', color='k')\n",
    "plt.plot(range(args.n_episodes), curve_medium, label = 'dqn_w2v_medium', linestyle='-', marker='d', color='b')\n",
    "plt.title(f\"{env_name}_slippery: Avg Reward Comparison between DQN_w2v and Vanilla DQN\")\n",
    "plt.xlabel(\"# episodes\")\n",
    "plt.ylabel(\"Avg Reward across 100 episodes\")\n",
    "plt.legend()\n",
    "plt.axis([0, 2600, 0, 1.1])\n",
    "plt.grid(True)\n",
    "# plt.show()\n",
    "plt.savefig(f\"{runs_folder_path}/comparison_w2v_dqn_modified_medium_w2v_embed_dim_{embed_dim}_{env_name}_map_size_{env_dim}_stochastic_{True}_seed_{19}_epochs_{60}.jpg\")"
   ]
  },
  {
   "cell_type": "markdown",
   "metadata": {},
   "source": [
    "## Case 2: Stochastic = False, variation across seeds = {6, 19, 42}\n"
   ]
  },
  {
   "cell_type": "code",
   "execution_count": 6,
   "metadata": {},
   "outputs": [],
   "source": [
    "seeds = [6, 19, 42]\n",
    "matrix_dqn = np.zeros((len(seeds), args.n_episodes)) # creates a matrix of size = # seeds x 2500\n",
    "matrix_w2v_medium = np.zeros((len(seeds), args.n_episodes))\n",
    "# matrix_w2v_random = np.zeros((len(seeds), args.n_episodes))\n",
    "# matrix_w2v_perfect = np.zeros((len(seeds), args.n_episodes))\n",
    "\n",
    "for idx, seedno in enumerate(seeds):\n",
    "    matrix_dqn[idx,:] = np.load(f\"{runs_folder_path}/rewards_dqn_{env_name}_map_size_{env_dim}_stochastic_{False}_seed_{seedno}.npy\")\n",
    "    matrix_w2v_medium[idx,:] = np.load(f\"{runs_folder_path}/rewards_w2v_dqn_modified_medium_w2v_embed_dim_{embed_dim}_{env_name}_map_size_{env_dim}_stochastic_{False}_seed_{seedno}_epochs_{60}.npy\")\n",
    "    # matrix_w2v_perfect[idx,:] = np.load(f\"{runs_folder_path}/rewards_w2v_dqn_modified_perfect_w2v_embed_dim_{embed_dim}_{env_name}_map_size_{env_dim}_stochastic_{False}_seed_{seedno}_epochs_{60}.npy\")\n",
    "    # matrix_w2v_random[idx,:] = np.load(f\"{runs_folder_path}/rewards_w2v_dqn_modified_random_w2v_embed_dim_{embed_dim}_{env_name}_map_size_{env_dim}_stochastic_{False}_seed_{seedno}_epochs_{60}.npy\")\n",
    "# end for loading the files\n",
    "\n",
    "curve1 = np.mean(matrix_dqn, axis=0)\n",
    "curve_medium = np.mean(matrix_w2v_medium, axis=0)"
   ]
  },
  {
   "cell_type": "code",
   "execution_count": 8,
   "metadata": {},
   "outputs": [
    {
     "data": {
      "image/png": "[encoded data removed]",
      "text/plain": [
       "<Figure size 640x480 with 1 Axes>"
      ]
     },
     "metadata": {},
     "output_type": "display_data"
    }
   ],
   "source": [
    "plt.figure(2)\n",
    "plt.plot(range(args.n_episodes), curve1, label = 'vanilla dqn', linestyle='-', marker='o', color='k')\n",
    "plt.plot(range(args.n_episodes), curve_medium, label = 'dqn_w2v_medium', linestyle='-', marker='d', color='b')\n",
    "plt.title(f\"{env_name}_deterministic: Avg Reward Comparison between DQN_w2v and Vanilla DQN\")\n",
    "plt.xlabel(\"# episodes\")\n",
    "plt.ylabel(\"Avg Reward across 100 episodes\")\n",
    "plt.legend()\n",
    "plt.axis([0, 2600, 0, 1.1])\n",
    "plt.grid(True)\n",
    "# plt.show()\n",
    "plt.savefig(f\"{runs_folder_path}/comparison_w2v_dqn_modified_medium_w2v_embed_dim_{embed_dim}_{env_name}_map_size_{env_dim}_stochastic_{False}_multiple_seeds_epochs_{60}.jpg\")\n"
   ]
  },
  {
   "cell_type": "markdown",
   "metadata": {},
   "source": [
    "## Case 3: S = False, seed = 42, variation across all 3 types of w2v"
   ]
  },
  {
   "cell_type": "code",
   "execution_count": 55,
   "metadata": {},
   "outputs": [
    {
     "data": {
      "image/png": "[encoded data removed]",
      "text/plain": [
       "<Figure size 640x480 with 1 Axes>"
      ]
     },
     "metadata": {},
     "output_type": "display_data"
    }
   ],
   "source": [
    "curve1 = np.load(f\"{runs_folder_path}/rewards_dqn_{env_name}_map_size_{env_dim}_stochastic_{False}_seed_{42}.npy\")\n",
    "curve_perfect = np.load(f\"{runs_folder_path}/rewards_w2v_dqn_modified_perfect_w2v_embed_dim_{embed_dim}_{env_name}_map_size_{env_dim}_stochastic_{False}_seed_{42}_epochs_{50}.npy\")\n",
    "curve_medium = np.load(f\"{runs_folder_path}/rewards_w2v_dqn_modified_medium_w2v_embed_dim_{embed_dim}_{env_name}_map_size_{env_dim}_stochastic_{False}_seed_{42}_epochs_{60}.npy\")\n",
    "curve_random = np.load(f\"{runs_folder_path}/rewards_w2v_dqn_modified_random_w2v_embed_dim_{embed_dim}_{env_name}_map_size_{env_dim}_stochastic_{False}_seed_{42}_epochs_{60}.npy\")\n",
    "\n",
    "plt.figure(3)\n",
    "plt.plot(range(args.n_episodes), curve1, label = 'vanilla dqn', linestyle='-', marker='o', color='k')\n",
    "plt.plot(range(args.n_episodes), curve_medium, label = 'dqn_w2v_medium', linestyle='--', marker='d', color='b')\n",
    "plt.plot(range(args.n_episodes), curve_perfect, label = 'dqn_w2v_perfect', linestyle='--', marker='s', color='g')\n",
    "plt.plot(range(args.n_episodes), curve_random, label = 'dqn_w2v_random', linestyle='--', marker='+', color='r')\n",
    "plt.title(f\"{env_name}_deterministic: Avg Reward Comparison between all types of DQN_w2v and Vanilla DQN\")\n",
    "plt.xlabel(\"# episodes\")\n",
    "plt.ylabel(\"Avg Reward across 100 episodes\")\n",
    "plt.legend()\n",
    "plt.axis([0, 2600, 0, 1.1])\n",
    "plt.grid(True)\n",
    "# plt.show()\n",
    "plt.savefig(f\"{runs_folder_path}/comparison_w2v_dqn_all_modified_w2v_embed_dim_{embed_dim}_{env_name}_map_size_{env_dim}_stochastic_{False}_seed_{42}_epochs_{60}.jpg\")"
   ]
  },
  {
   "cell_type": "markdown",
   "metadata": {},
   "source": [
    "## Comparison of effect of w2v_epochs on w2v performance\n",
    "We vary the number of epochs for which w2v is trained while keeping the embedding dimension fixed "
   ]
  },
  {
   "cell_type": "code",
   "execution_count": 54,
   "metadata": {},
   "outputs": [
    {
     "data": {
      "image/png": "[encoded data removed]",
      "text/plain": [
       "<Figure size 640x480 with 1 Axes>"
      ]
     },
     "metadata": {},
     "output_type": "display_data"
    }
   ],
   "source": [
    "curve6 = np.load(f\"{runs_folder_path}/rewards_w2v_dqn_modified_medium_w2v_embed_dim_{embed_dim}_{env_name}_map_size_{env_dim}_stochastic_{False}_seed_{42}_epochs_{6}.npy\")\n",
    "curve10 = np.load(f\"{runs_folder_path}/rewards_w2v_dqn_modified_medium_w2v_embed_dim_{embed_dim}_{env_name}_map_size_{env_dim}_stochastic_{False}_seed_{42}_epochs_{10}.npy\")\n",
    "curve30 = np.load(f\"{runs_folder_path}/rewards_w2v_dqn_modified_medium_w2v_embed_dim_{embed_dim}_{env_name}_map_size_{env_dim}_stochastic_{False}_seed_{42}_epochs_{30}.npy\")\n",
    "curve50 = np.load(f\"{runs_folder_path}/rewards_w2v_dqn_modified_medium_w2v_embed_dim_{embed_dim}_{env_name}_map_size_{env_dim}_stochastic_{False}_seed_{42}_epochs_{50}.npy\")\n",
    "curve60 = np.load(f\"{runs_folder_path}/rewards_w2v_dqn_modified_medium_w2v_embed_dim_{embed_dim}_{env_name}_map_size_{env_dim}_stochastic_{False}_seed_{42}_epochs_{60}.npy\")\n",
    "\n",
    "plt.figure(3)\n",
    "plt.plot(range(args.n_episodes), curve6, label = 'epoch = 6', linestyle='-', marker='o', color='k')\n",
    "plt.plot(range(args.n_episodes), curve10, label = 'epoch = 10', linestyle='--', marker='d', color='b')\n",
    "plt.plot(range(args.n_episodes), curve30, label = 'epoch = 30', linestyle='--', marker='s', color='g')\n",
    "plt.plot(range(args.n_episodes), curve50, label = 'epoch = 50', linestyle='--', marker='+', color='r')\n",
    "plt.plot(range(args.n_episodes), curve60, label = 'epoch = 60', linestyle='--', marker='>', color='y')\n",
    "plt.title(f\"{env_name}_deterministic: Avg reward comparison for different epoch traAvg Reward Comparison between all types of DQN_w2v and Vanilla DQN\")\n",
    "# plt.show()\n",
    "plt.savefig(f\"{runs_folder_path}/comparison_w2v_dqn_modified_medium_w2v_embed_dim_{embed_dim}_{env_name}_map_size_{env_dim}_stochastic_{False}_seed_{42}_epochs_variable.jpg\")"
   ]
  },
  {
   "cell_type": "code",
   "execution_count": null,
   "metadata": {},
   "outputs": [],
   "source": []
  }
 ],
 "metadata": {
  "kernelspec": {
   "display_name": "replrn",
   "language": "python",
   "name": "python3"
  },
  "language_info": {
   "codemirror_mode": {
    "name": "ipython",
    "version": 3
   },
   "file_extension": ".py",
   "mimetype": "text/x-python",
   "name": "python",
   "nbconvert_exporter": "python",
   "pygments_lexer": "ipython3",
   "version": "3.11.7"
  }
 },
 "nbformat": 4,
 "nbformat_minor": 2
}
