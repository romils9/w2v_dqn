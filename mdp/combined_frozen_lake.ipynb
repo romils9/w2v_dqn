{
 "cells": [
  {
   "cell_type": "markdown",
   "metadata": {},
   "source": [
    "# All imports"
   ]
  },
  {
   "cell_type": "code",
   "execution_count": 1,
   "metadata": {},
   "outputs": [],
   "source": [
    "import os\n",
    "import numpy as np\n",
    "import random\n",
    "from tqdm import tqdm\n",
    "import gymnasium as gym\n",
    "from collections import deque, namedtuple\n",
    "from collections import defaultdict\n",
    "import torch\n",
    "import torch.nn as nn\n",
    "import torch.nn.functional as F\n",
    "import torch.optim as optim\n",
    "import matplotlib.pyplot as plt\n",
    "from gymnasium.envs.toy_text.frozen_lake import generate_random_map\n",
    "\n",
    "# w2v required\n",
    "from collections import Counter\n",
    "from torch.utils.data import Dataset, DataLoader\n",
    "from sklearn.metrics.pairwise import cosine_similarity\n",
    "\n",
    "# DQN required\n",
    "import argparse\n",
    "import numpy as np\n",
    "# import logging\n",
    "# from matplotlib import animation # will be needed for rendering"
   ]
  },
  {
   "cell_type": "markdown",
   "metadata": {},
   "source": [
    "# All global variables needed\n",
    "Since some or all of these variables are needed for each cell below, it's difficult to put these inside the main function.\\\n",
    "Perhaps, using some args method might work?"
   ]
  },
  {
   "cell_type": "markdown",
   "metadata": {},
   "source": [
    "## Common Functions needed"
   ]
  },
  {
   "cell_type": "markdown",
   "metadata": {},
   "source": [
    "### Function to generate custom map"
   ]
  },
  {
   "cell_type": "code",
   "execution_count": 2,
   "metadata": {},
   "outputs": [],
   "source": [
    "# ============================================================================================\n",
    "# Function to generate custom map\n",
    "# ============================================================================================\n",
    "def make_env(env_name, env_dim = 4, seed = 42, stochastic = False):\n",
    "    env = gym.make(env_name, desc=generate_random_map(size=env_dim, seed=seed), \n",
    "                   is_slippery = stochastic, render_mode = 'rgb_array')\n",
    "    return env"
   ]
  },
  {
   "cell_type": "markdown",
   "metadata": {},
   "source": [
    "## Global Variables"
   ]
  },
  {
   "cell_type": "code",
   "execution_count": 16,
   "metadata": {},
   "outputs": [
    {
     "name": "stdout",
     "output_type": "stream",
     "text": [
      "State space:  16\n",
      "Action space:  4\n",
      "Folder 'mdp/runs_frozen' already exists.\n"
     ]
    }
   ],
   "source": [
    "'''\n",
    "env_name: str\n",
    "env_dim: int --> Dimension of the game: 4x4 or 8x8\n",
    "seed\n",
    "stochastic = boolean --> Whether we use is_slippery = True or False\n",
    " '''\n",
    "env_name = \"FrozenLake-v1\"\n",
    "env_dim = 4\n",
    "stochastic = False\n",
    "seed = 42\n",
    "gamma = 0.99 # discount factor in Q computation\n",
    "alpha = 0.1 # learning rate in the table\n",
    "num_episodes_q_table = 100_000\n",
    "convergence_threshold = 1e-4\n",
    "epsilon_start = 1\n",
    "epsilon_decay_q_table = 0.99995\n",
    "epsilon_end = 0.01\n",
    "check_env_details = True\n",
    "\n",
    "# Creating the environment\n",
    "env = make_env(env_name=env_name, env_dim=env_dim, seed = seed, stochastic=stochastic)\n",
    "state_dim = env.observation_space.n\n",
    "action_dim = env.action_space.n\n",
    "print(\"State space: \", env.observation_space.n)\n",
    "print(\"Action space: \", env.action_space.n)\n",
    "\n",
    "# state and trajectories related variables\n",
    "num_episodes_trajectories = 10_000\n",
    "num_states = state_dim\n",
    "num_actions = action_dim\n",
    "max_eps_len = 100\n",
    "modified = \"perfect\" # perfect - for perfect trajectories, random - for purely random trajectories or \"medium\" for the combined trajs\n",
    "\n",
    "# w2v related variables\n",
    "''' Potential values for embedding dimensions = {4, 8, 12, 16, 20, 32, 64} '''\n",
    "# w2v hyperparameters\n",
    "embed_dim = 32\n",
    "window_size = 2\n",
    "batch_size = 16\n",
    "w2v_epochs = 50\n",
    "w2v_lr = 0.01\n",
    "device = torch.device(\"cuda\" if torch.cuda.is_available() else \"cpu\")\n",
    "\n",
    "# DQN variables\n",
    "parser = argparse.ArgumentParser()\n",
    "parser.add_argument(\"--env\", default=\"FrozenLake-v1\")          # Gymnasium environment name # Default = MountainCar-v0\n",
    "parser.add_argument(\"--seed\", default=42, type=int)              # sets Gym, PyTorch and Numpy seeds\n",
    "parser.add_argument(\"--n-episodes\", default=2500, type=int)     # maximum number of training episodes\n",
    "parser.add_argument(\"--batch-size\", default=64, type=int)       # training batch size\n",
    "parser.add_argument(\"--discount\", default=0.99)                 # discount factor\n",
    "parser.add_argument(\"--lr\", default=5e-4)                       # learning rate\n",
    "parser.add_argument(\"--tau\", default=0.001)                     # soft update of target network\n",
    "parser.add_argument(\"--max-size\", default=int(1e5),type=int)    # experience replay buffer length\n",
    "parser.add_argument(\"--update-freq\", default=4, type=int)       # update frequency of target network\n",
    "parser.add_argument(\"--gpu-index\", default=0,type=int)\t\t      # GPU index\n",
    "parser.add_argument(\"--max-esp-len\", default=100, type=int)    # maximum time of an episode\n",
    "#exploration strategy\n",
    "parser.add_argument(\"--epsilon-start\", default=1)               # start value of epsilon\n",
    "parser.add_argument(\"--epsilon-end\", default=0.01)              # end value of epsilon\n",
    "parser.add_argument(\"--epsilon-decay\", default=0.995)           # decay value of epsilon\n",
    "parser.add_argument(\"--save-filename\", default = \"dqn_w2v_FrozenLake-v1\" )\n",
    "args, unknown = parser.parse_known_args()\n",
    "\n",
    "# Filename for saving purposes - common part for all files\n",
    "filename = f\"{env_name}_map_size_{env_dim}_stochastic_{stochastic}_seed_{seed}\"\n",
    "\n",
    "# This folder path will be used to store all the saved models and the associated data\n",
    "runs_folder_path = \"mdp/runs_frozen\"\n",
    "\n",
    "# Check if the folder exists\n",
    "if not os.path.exists(runs_folder_path):\n",
    "    # Create the folder\n",
    "    os.makedirs(runs_folder_path)\n",
    "    print(f\"Folder '{runs_folder_path}' created successfully.\")\n",
    "else:\n",
    "    print(f\"Folder '{runs_folder_path}' already exists.\")\n"
   ]
  },
  {
   "cell_type": "markdown",
   "metadata": {},
   "source": [
    "# Tabular Q learning"
   ]
  },
  {
   "cell_type": "markdown",
   "metadata": {},
   "source": [
    "### Q-Learning Agent class"
   ]
  },
  {
   "cell_type": "code",
   "execution_count": 28,
   "metadata": {},
   "outputs": [],
   "source": [
    "# ============================================================================================\n",
    "# Q-Learning Agent class\n",
    "# ============================================================================================\n",
    "class QLearningAgent:\n",
    "    \"\"\"Q-learning agent.\"\"\"\n",
    "    def __init__(self, num_states, num_actions, gamma=0.99, epsilon=0.1, alpha=0.1):\n",
    "        self.num_states = num_states\n",
    "        self.num_actions = num_actions\n",
    "        self.alpha = alpha  # Learning rate\n",
    "        self.gamma = gamma  # Discount factor\n",
    "        self.epsilon = epsilon  # Exploration rate\n",
    "        self.q_table = np.zeros((num_states, num_actions))  # Initialize Q-table\n",
    "\n",
    "    def choose_action(self, state, epsilon):\n",
    "        \"\"\"Epsilon-greedy action selection.\"\"\"\n",
    "        if random.uniform(0, 1) < epsilon:\n",
    "            return random.randint(0, self.num_actions - 1)  # Explore\n",
    "        else:\n",
    "            return np.argmax(self.q_table[state, :])  # Exploit\n",
    "\n",
    "    def update_q_value(self, state, action, reward, next_state):\n",
    "        \"\"\"Q-learning update rule.\"\"\"\n",
    "        best_next_action = np.argmax(self.q_table[next_state, :])  # Greedy action for next state\n",
    "        td_target = reward + self.gamma * self.q_table[next_state, best_next_action]\n",
    "        td_error = td_target - self.q_table[state, action]\n",
    "        self.q_table[state, action] += self.alpha * td_error  # Update Q-table\n",
    "\n",
    "    def get_optimal_policy(self):\n",
    "        \"\"\"Extracts the optimal policy after training.\"\"\"\n",
    "        return np.argmax(self.q_table, axis=1)"
   ]
  },
  {
   "cell_type": "markdown",
   "metadata": {},
   "source": [
    "### Function to train the model using Q-learning for Frozen Lake"
   ]
  },
  {
   "cell_type": "code",
   "execution_count": 29,
   "metadata": {},
   "outputs": [],
   "source": [
    "# ============================================================================================\n",
    "# Function to train the model using Q-learning for Frozen Lake\n",
    "# ============================================================================================\n",
    "def run_tabular_q_frozen(env, agent, num_episodes=10, max_eps_len = 100, convergence_threshold=1e-4,\n",
    "                         epsilon_start = 1, epsilon_decay = 0.995, epsilon_end = 0.01, seed=42):\n",
    "    reward_curve = [] # this will store the moving avg of rewards\n",
    "    moving_window = deque(maxlen=100)\n",
    "    epsilon = epsilon_start\n",
    "    prev_q_table = np.copy(agent.q_table)  # Store old Q-table\n",
    "\n",
    "    for episode in tqdm(range(num_episodes)):\n",
    "        state,_ = env.reset(seed=seed)\n",
    "        # print(f\"\\nIn episode {episode}, After reset initial state = {state} and epsilon = {epsilon}\")\n",
    "        curr_reward = 0\n",
    "        flag = False\n",
    "\n",
    "        for _ in range(max_eps_len):\n",
    "            action = agent.choose_action(state, epsilon)\n",
    "            next_state, reward, done, _, _ = env.step(action)\n",
    "            agent.update_q_value(state, action, reward, next_state)\n",
    "            state = next_state\n",
    "            curr_reward += reward\n",
    "\n",
    "            # # Compute max Q-value change\n",
    "            # q_change = np.max(np.abs(agent.q_table - prev_q_table))\n",
    "            # prev_q_table = np.copy(agent.q_table)\n",
    "\n",
    "            # # Check Q-value convergence\n",
    "            # if q_change < convergence_threshold:\n",
    "            #     print(f\"Q-values converged at Episode {episode+1} with max Q-change: {q_change}\")\n",
    "            #     flag = True\n",
    "            #     break\n",
    "\n",
    "            if done:\n",
    "                break\n",
    "        # end while inside an episode\n",
    "        \n",
    "        # Epsilon decay performed at the end of each episode\n",
    "        epsilon *= epsilon_decay\n",
    "        epsilon = max(epsilon, epsilon_end)\n",
    "\n",
    "        # Appending the smoothened reward\n",
    "        moving_window.append(curr_reward)\n",
    "        reward_curve.append(np.mean(moving_window))\n",
    "\n",
    "        if episode % 1000 == 0:\n",
    "            print(f\"Tabular Q: Episode {episode}: epsilon = {epsilon}, avg reward = {np.mean(moving_window)}\")\n",
    "        # end if\n",
    "\n",
    "        # if flag:\n",
    "        #     break\n",
    "    # end for num_episode\n",
    "\n",
    "    return agent.q_table, agent.get_optimal_policy(), reward_curve"
   ]
  },
  {
   "cell_type": "markdown",
   "metadata": {},
   "source": [
    "### Running the Tabular Q learning"
   ]
  },
  {
   "cell_type": "code",
   "execution_count": 30,
   "metadata": {},
   "outputs": [
    {
     "name": "stdout",
     "output_type": "stream",
     "text": [
      "Frozen Lake Grid Layout:\n",
      "S H F F\n",
      "F F F F\n",
      "F H H F\n",
      "F F F G\n",
      "Goal State: 15\n",
      "State space:  16\n",
      "Action space:  4\n"
     ]
    },
    {
     "name": "stderr",
     "output_type": "stream",
     "text": [
      "  2%|▏         | 1822/100000 [00:00<00:05, 18193.17it/s]"
     ]
    },
    {
     "name": "stdout",
     "output_type": "stream",
     "text": [
      "Tabular Q: Episode 0: epsilon = 0.99995, avg reward = 0.0\n",
      "Tabular Q: Episode 1000: epsilon = 0.9511806740132733, avg reward = 0.02\n",
      "Tabular Q: Episode 2000: epsilon = 0.904789914112052, avg reward = 0.03\n",
      "Tabular Q: Episode 3000: epsilon = 0.8606617134311852, avg reward = 0.01\n"
     ]
    },
    {
     "name": "stderr",
     "output_type": "stream",
     "text": [
      "  7%|▋         | 7316/100000 [00:00<00:05, 17792.42it/s]"
     ]
    },
    {
     "name": "stdout",
     "output_type": "stream",
     "text": [
      "Tabular Q: Episode 4000: epsilon = 0.8186857229650423, avg reward = 0.08\n",
      "Tabular Q: Episode 5000: epsilon = 0.7787569756237134, avg reward = 0.12\n",
      "Tabular Q: Episode 6000: epsilon = 0.7407756237474893, avg reward = 0.11\n",
      "Tabular Q: Episode 7000: epsilon = 0.7046466894232127, avg reward = 0.07\n"
     ]
    },
    {
     "name": "stderr",
     "output_type": "stream",
     "text": [
      " 11%|█         | 10823/100000 [00:00<00:05, 16995.30it/s]"
     ]
    },
    {
     "name": "stdout",
     "output_type": "stream",
     "text": [
      "Tabular Q: Episode 8000: epsilon = 0.6702798269781429, avg reward = 0.17\n",
      "Tabular Q: Episode 9000: epsilon = 0.6375890970574211, avg reward = 0.31\n",
      "Tabular Q: Episode 10000: epsilon = 0.6064927517201779, avg reward = 0.28\n",
      "Tabular Q: Episode 11000: epsilon = 0.5769130300168653, avg reward = 0.41\n"
     ]
    },
    {
     "name": "stderr",
     "output_type": "stream",
     "text": [
      " 14%|█▍        | 14206/100000 [00:00<00:05, 16736.85it/s]"
     ]
    },
    {
     "name": "stdout",
     "output_type": "stream",
     "text": [
      "Tabular Q: Episode 12000: epsilon = 0.5487759635366593, avg reward = 0.29\n",
      "Tabular Q: Episode 13000: epsilon = 0.5220111914386566, avg reward = 0.42\n",
      "Tabular Q: Episode 14000: epsilon = 0.49655178450431714, avg reward = 0.41\n",
      "Tabular Q: Episode 15000: epsilon = 0.47233407777119996, avg reward = 0.46\n"
     ]
    },
    {
     "name": "stderr",
     "output_type": "stream",
     "text": [
      " 19%|█▉        | 19256/100000 [00:01<00:04, 16655.49it/s]"
     ]
    },
    {
     "name": "stdout",
     "output_type": "stream",
     "text": [
      "Tabular Q: Episode 16000: epsilon = 0.44929751132941503, avg reward = 0.56\n",
      "Tabular Q: Episode 17000: epsilon = 0.4273844788827431, avg reward = 0.51\n",
      "Tabular Q: Episode 18000: epsilon = 0.40654018369568434, avg reward = 0.51\n",
      "Tabular Q: Episode 19000: epsilon = 0.3867125015662202, avg reward = 0.6\n"
     ]
    },
    {
     "name": "stderr",
     "output_type": "stream",
     "text": [
      " 23%|██▎       | 22582/100000 [00:01<00:04, 16506.13it/s]"
     ]
    },
    {
     "name": "stdout",
     "output_type": "stream",
     "text": [
      "Tabular Q: Episode 20000: epsilon = 0.367851850481642, avg reward = 0.58\n",
      "Tabular Q: Episode 21000: epsilon = 0.34991106663148985, avg reward = 0.6\n",
      "Tabular Q: Episode 22000: epsilon = 0.332845286467567, avg reward = 0.55\n",
      "Tabular Q: Episode 23000: epsilon = 0.31661183451608793, avg reward = 0.63\n"
     ]
    },
    {
     "name": "stderr",
     "output_type": "stream",
     "text": [
      " 26%|██▌       | 25905/100000 [00:01<00:04, 16565.63it/s]"
     ]
    },
    {
     "name": "stdout",
     "output_type": "stream",
     "text": [
      "Tabular Q: Episode 24000: epsilon = 0.30117011666142574, avg reward = 0.61\n",
      "Tabular Q: Episode 25000: epsilon = 0.286481518634604, avg reward = 0.75\n",
      "Tabular Q: Episode 26000: epsilon = 0.2725093094526817, avg reward = 0.68\n",
      "Tabular Q: Episode 27000: epsilon = 0.259218549567572, avg reward = 0.78\n"
     ]
    },
    {
     "name": "stderr",
     "output_type": "stream",
     "text": [
      " 31%|███       | 30958/100000 [00:01<00:04, 16781.77it/s]"
     ]
    },
    {
     "name": "stdout",
     "output_type": "stream",
     "text": [
      "Tabular Q: Episode 28000: epsilon = 0.246576003494601, avg reward = 0.63\n",
      "Tabular Q: Episode 29000: epsilon = 0.23455005670232934, avg reward = 0.78\n",
      "Tabular Q: Episode 30000: epsilon = 0.22311063655580088, avg reward = 0.71\n",
      "Tabular Q: Episode 31000: epsilon = 0.21222913711553318, avg reward = 0.74\n"
     ]
    },
    {
     "name": "stderr",
     "output_type": "stream",
     "text": [
      " 34%|███▍      | 34347/100000 [00:02<00:03, 16616.70it/s]"
     ]
    },
    {
     "name": "stdout",
     "output_type": "stream",
     "text": [
      "Tabular Q: Episode 32000: epsilon = 0.20187834760418902, avg reward = 0.85\n",
      "Tabular Q: Episode 33000: epsilon = 0.19203238436205666, avg reward = 0.8\n",
      "Tabular Q: Episode 34000: epsilon = 0.18266662612118353, avg reward = 0.84\n",
      "Tabular Q: Episode 35000: epsilon = 0.17375765243629993, avg reward = 0.78\n"
     ]
    },
    {
     "name": "stderr",
     "output_type": "stream",
     "text": [
      " 38%|███▊      | 37834/100000 [00:02<00:03, 17040.26it/s]"
     ]
    },
    {
     "name": "stdout",
     "output_type": "stream",
     "text": [
      "Tabular Q: Episode 36000: epsilon = 0.16528318511857973, avg reward = 0.75\n",
      "Tabular Q: Episode 37000: epsilon = 0.15722203252577774, avg reward = 0.82\n",
      "Tabular Q: Episode 38000: epsilon = 0.14955403656943475, avg reward = 0.85\n",
      "Tabular Q: Episode 39000: epsilon = 0.14226002230663626, avg reward = 0.82\n"
     ]
    },
    {
     "name": "stderr",
     "output_type": "stream",
     "text": [
      " 43%|████▎     | 43064/100000 [00:02<00:03, 17304.99it/s]"
     ]
    },
    {
     "name": "stdout",
     "output_type": "stream",
     "text": [
      "Tabular Q: Episode 40000: epsilon = 0.1353217499902697, avg reward = 0.93\n",
      "Tabular Q: Episode 41000: epsilon = 0.12872186945787317, avg reward = 0.86\n",
      "Tabular Q: Episode 42000: epsilon = 0.12244387674502544, avg reward = 0.85\n",
      "Tabular Q: Episode 43000: epsilon = 0.11647207281477254, avg reward = 0.9\n"
     ]
    },
    {
     "name": "stderr",
     "output_type": "stream",
     "text": [
      " 47%|████▋     | 46569/100000 [00:02<00:03, 17425.07it/s]"
     ]
    },
    {
     "name": "stdout",
     "output_type": "stream",
     "text": [
      "Tabular Q: Episode 44000: epsilon = 0.11079152429989349, avg reward = 0.84\n",
      "Tabular Q: Episode 45000: epsilon = 0.10538802615983875, avg reward = 0.81\n",
      "Tabular Q: Episode 46000: epsilon = 0.10024806615895202, avg reward = 0.92\n",
      "Tabular Q: Episode 47000: epsilon = 0.09535879107715316, avg reward = 0.93\n"
     ]
    },
    {
     "name": "stderr",
     "output_type": "stream",
     "text": [
      " 50%|█████     | 50109/100000 [00:02<00:02, 17570.85it/s]"
     ]
    },
    {
     "name": "stdout",
     "output_type": "stream",
     "text": [
      "Tabular Q: Episode 48000: epsilon = 0.09070797456858609, avg reward = 0.88\n",
      "Tabular Q: Episode 49000: epsilon = 0.08628398658785626, avg reward = 0.9\n",
      "Tabular Q: Episode 50000: epsilon = 0.08207576430740496, avg reward = 0.88\n",
      "Tabular Q: Episode 51000: epsilon = 0.07807278445329505, avg reward = 0.89\n"
     ]
    },
    {
     "name": "stderr",
     "output_type": "stream",
     "text": [
      " 55%|█████▌    | 55476/100000 [00:03<00:02, 17798.98it/s]"
     ]
    },
    {
     "name": "stdout",
     "output_type": "stream",
     "text": [
      "Tabular Q: Episode 52000: epsilon = 0.07426503699022786, avg reward = 0.95\n",
      "Tabular Q: Episode 53000: epsilon = 0.07064300008999028, avg reward = 0.85\n",
      "Tabular Q: Episode 54000: epsilon = 0.06719761632073298, avg reward = 0.9\n",
      "Tabular Q: Episode 55000: epsilon = 0.06392026999754027, avg reward = 0.93\n"
     ]
    },
    {
     "name": "stderr",
     "output_type": "stream",
     "text": [
      " 59%|█████▉    | 59053/100000 [00:03<00:02, 17841.56it/s]"
     ]
    },
    {
     "name": "stdout",
     "output_type": "stream",
     "text": [
      "Tabular Q: Episode 56000: epsilon = 0.06080276563765279, avg reward = 0.91\n",
      "Tabular Q: Episode 57000: epsilon = 0.05783730746646704, avg reward = 0.91\n",
      "Tabular Q: Episode 58000: epsilon = 0.05501647992306336, avg reward = 0.94\n",
      "Tabular Q: Episode 59000: epsilon = 0.05233322911651293, avg reward = 0.92\n"
     ]
    },
    {
     "name": "stderr",
     "output_type": "stream",
     "text": [
      " 63%|██████▎   | 62632/100000 [00:03<00:02, 17760.98it/s]"
     ]
    },
    {
     "name": "stdout",
     "output_type": "stream",
     "text": [
      "Tabular Q: Episode 60000: epsilon = 0.04978084518659529, avg reward = 0.95\n",
      "Tabular Q: Episode 61000: epsilon = 0.04735294552481254, avg reward = 0.96\n",
      "Tabular Q: Episode 62000: epsilon = 0.0450434588137458, avg reward = 0.97\n",
      "Tabular Q: Episode 63000: epsilon = 0.04284660984484019, avg reward = 1.0\n"
     ]
    },
    {
     "name": "stderr",
     "output_type": "stream",
     "text": [
      " 66%|██████▌   | 66215/100000 [00:03<00:01, 17839.30it/s]"
     ]
    },
    {
     "name": "stdout",
     "output_type": "stream",
     "text": [
      "Tabular Q: Episode 64000: epsilon = 0.04075690507665269, avg reward = 0.96\n",
      "Tabular Q: Episode 65000: epsilon = 0.03876911889745041, avg reward = 0.97\n",
      "Tabular Q: Episode 66000: epsilon = 0.03687828055780553, avg reward = 0.96\n",
      "Tabular Q: Episode 67000: epsilon = 0.03507966174051114, avg reward = 0.95\n"
     ]
    },
    {
     "name": "stderr",
     "output_type": "stream",
     "text": [
      " 72%|███████▏  | 71603/100000 [00:04<00:01, 17924.05it/s]"
     ]
    },
    {
     "name": "stdout",
     "output_type": "stream",
     "text": [
      "Tabular Q: Episode 68000: epsilon = 0.03336876473673393, avg reward = 0.99\n",
      "Tabular Q: Episode 69000: epsilon = 0.031741311198836865, avg reward = 0.98\n",
      "Tabular Q: Episode 70000: epsilon = 0.03019323144174688, avg reward = 0.99\n",
      "Tabular Q: Episode 71000: epsilon = 0.0287206542661129, avg reward = 0.99\n"
     ]
    },
    {
     "name": "stderr",
     "output_type": "stream",
     "text": [
      " 75%|███████▌  | 75210/100000 [00:04<00:01, 17974.78it/s]"
     ]
    },
    {
     "name": "stdout",
     "output_type": "stream",
     "text": [
      "Tabular Q: Episode 72000: epsilon = 0.027319897277807384, avg reward = 0.98\n",
      "Tabular Q: Episode 73000: epsilon = 0.025987457679562245, avg reward = 0.99\n",
      "Tabular Q: Episode 74000: epsilon = 0.02472000351171302, avg reward = 0.98\n",
      "Tabular Q: Episode 75000: epsilon = 0.0235143653201477, avg reward = 0.98\n"
     ]
    },
    {
     "name": "stderr",
     "output_type": "stream",
     "text": [
      " 79%|███████▉  | 78804/100000 [00:04<00:01, 17949.70it/s]"
     ]
    },
    {
     "name": "stdout",
     "output_type": "stream",
     "text": [
      "Tabular Q: Episode 76000: epsilon = 0.02236752823062398, avg reward = 0.99\n",
      "Tabular Q: Episode 77000: epsilon = 0.021276624409636378, avg reward = 0.96\n",
      "Tabular Q: Episode 78000: epsilon = 0.0202389258929799, avg reward = 0.96\n",
      "Tabular Q: Episode 79000: epsilon = 0.019251837764077552, avg reward = 0.98\n"
     ]
    },
    {
     "name": "stderr",
     "output_type": "stream",
     "text": [
      " 82%|████████▏ | 82414/100000 [00:04<00:00, 17988.16it/s]"
     ]
    },
    {
     "name": "stdout",
     "output_type": "stream",
     "text": [
      "Tabular Q: Episode 80000: epsilon = 0.018312891665012748, avg reward = 1.0\n",
      "Tabular Q: Episode 81000: epsilon = 0.017419739624040163, avg reward = 0.99\n",
      "Tabular Q: Episode 82000: epsilon = 0.016570148184139464, avg reward = 0.97\n",
      "Tabular Q: Episode 83000: epsilon = 0.015761992817930556, avg reward = 0.99\n"
     ]
    },
    {
     "name": "stderr",
     "output_type": "stream",
     "text": [
      " 86%|████████▌ | 86010/100000 [00:04<00:00, 17842.49it/s]"
     ]
    },
    {
     "name": "stdout",
     "output_type": "stream",
     "text": [
      "Tabular Q: Episode 84000: epsilon = 0.014993252614982331, avg reward = 0.98\n",
      "Tabular Q: Episode 85000: epsilon = 0.014262005228231584, avg reward = 0.97\n",
      "Tabular Q: Episode 86000: epsilon = 0.01356642206687351, avg reward = 1.0\n",
      "Tabular Q: Episode 87000: epsilon = 0.012904763723703517, avg reward = 1.0\n"
     ]
    },
    {
     "name": "stderr",
     "output_type": "stream",
     "text": [
      " 91%|█████████▏| 91447/100000 [00:05<00:00, 18045.94it/s]"
     ]
    },
    {
     "name": "stdout",
     "output_type": "stream",
     "text": [
      "Tabular Q: Episode 88000: epsilon = 0.012275375625475645, avg reward = 0.98\n",
      "Tabular Q: Episode 89000: epsilon = 0.011676683895400804, avg reward = 1.0\n",
      "Tabular Q: Episode 90000: epsilon = 0.011107191417438142, avg reward = 1.0\n",
      "Tabular Q: Episode 91000: epsilon = 0.010565474092537885, avg reward = 0.99\n"
     ]
    },
    {
     "name": "stderr",
     "output_type": "stream",
     "text": [
      " 95%|█████████▌| 95085/100000 [00:05<00:00, 18121.01it/s]"
     ]
    },
    {
     "name": "stdout",
     "output_type": "stream",
     "text": [
      "Tabular Q: Episode 92000: epsilon = 0.010050177277473855, avg reward = 1.0\n",
      "Tabular Q: Episode 93000: epsilon = 0.01, avg reward = 1.0\n",
      "Tabular Q: Episode 94000: epsilon = 0.01, avg reward = 0.96\n",
      "Tabular Q: Episode 95000: epsilon = 0.01, avg reward = 0.97\n"
     ]
    },
    {
     "name": "stderr",
     "output_type": "stream",
     "text": [
      " 99%|█████████▊| 98700/100000 [00:05<00:00, 18000.17it/s]"
     ]
    },
    {
     "name": "stdout",
     "output_type": "stream",
     "text": [
      "Tabular Q: Episode 96000: epsilon = 0.01, avg reward = 1.0\n",
      "Tabular Q: Episode 97000: epsilon = 0.01, avg reward = 1.0\n",
      "Tabular Q: Episode 98000: epsilon = 0.01, avg reward = 1.0\n",
      "Tabular Q: Episode 99000: epsilon = 0.01, avg reward = 0.99\n"
     ]
    },
    {
     "name": "stderr",
     "output_type": "stream",
     "text": [
      "100%|██████████| 100000/100000 [00:05<00:00, 17482.77it/s]"
     ]
    },
    {
     "name": "stdout",
     "output_type": "stream",
     "text": [
      "State: Type -    V(s),    action taken\n",
      "     0:   S - 0.95, 1-->Down\n",
      "     1:   H - 0.00, 0-->Left\n",
      "     2:   F - 0.93, 1-->Down\n",
      "     3:   F - 0.92, 1-->Down\n",
      "     4:   F - 0.96, 1-->Down\n",
      "     5:   F - 0.95, 0-->Left\n",
      "     6:   F - 0.94, 0-->Left\n",
      "     7:   F - 0.93, 0-->Left\n",
      "     8:   F - 0.97, 1-->Down\n",
      "     9:   H - 0.00, 0-->Left\n",
      "     10:   H - 0.00, 0-->Left\n",
      "     11:   F - 0.94, 1-->Down\n",
      "     12:   F - 0.98, 2-->Right\n",
      "     13:   F - 0.99, 2-->Right\n",
      "     14:   F - 1.00, 2-->Right\n",
      "     15:   G - 0.00, 0-->Left\n",
      "Final Q function:  [[0.94148015 0.95099005 0.         0.94148015]\n",
      " [0.         0.         0.         0.        ]\n",
      " [0.         0.93205586 0.87474419 0.90862408]\n",
      " [0.86271014 0.92179288 0.87716587 0.80318285]\n",
      " [0.95099005 0.96059601 0.94148015 0.94148015]\n",
      " [0.95099005 0.         0.93206535 0.        ]\n",
      " [0.94148015 0.         0.92274081 0.92271159]\n",
      " [0.93206502 0.85285683 0.91736803 0.89972552]\n",
      " [0.96059601 0.970299   0.         0.95099005]\n",
      " [0.         0.         0.         0.        ]\n",
      " [0.         0.         0.         0.        ]\n",
      " [0.         0.94185026 0.59754739 0.71131077]\n",
      " [0.970299   0.970299   0.9801     0.96059601]\n",
      " [0.970299   0.9801     0.99       0.        ]\n",
      " [0.9801     0.99       1.         0.        ]\n",
      " [0.         0.         0.         0.        ]]\n"
     ]
    },
    {
     "name": "stderr",
     "output_type": "stream",
     "text": [
      "\n"
     ]
    }
   ],
   "source": [
    "# env = make_env(env_name=env_name, env_dim=env_dim, seed = seed, stochastic=stochastic)\n",
    "\n",
    "# Setting seeds\n",
    "np.random.seed(seed)\n",
    "random.seed(seed)\n",
    "\n",
    "if check_env_details:\n",
    "    # Extract the environment description (grid layout)\n",
    "    lake_grid = env.unwrapped.desc  # Gets the grid representation\n",
    "\n",
    "    # Print state-to-symbol mapping\n",
    "    print(\"Frozen Lake Grid Layout:\")\n",
    "    for row in lake_grid:\n",
    "        print(\" \".join(row.astype(str)))\n",
    "\n",
    "    goal_state = None\n",
    "    rows, cols = lake_grid.shape\n",
    "    for i in range(rows):\n",
    "        for j in range(cols):\n",
    "            if lake_grid[i, j] == b'G':  # 'G' is stored as a byte-string\n",
    "                goal_state = i * cols + j  # Convert (row, col) to state number\n",
    "                break\n",
    "        # end for j\n",
    "    # end for i\n",
    "    print(f\"Goal State: {goal_state}\")\n",
    "# end if check_env\n",
    "\n",
    "state_dim = env.observation_space.n\n",
    "action_dim = env.action_space.n\n",
    "print(\"State space: \", env.observation_space.n)\n",
    "print(\"Action space: \", env.action_space.n)\n",
    "\n",
    "learner = QLearningAgent(num_states=state_dim, num_actions=action_dim, gamma=gamma\n",
    "                            , epsilon=epsilon_start, alpha=alpha) # Creating the learning Agent\n",
    "\n",
    "final_q_table, final_policy, reward_curve = run_tabular_q_frozen(\n",
    "                env, learner, num_episodes=num_episodes_q_table, max_eps_len=max_eps_len, convergence_threshold=convergence_threshold,\n",
    "                epsilon_start = epsilon_start, epsilon_decay = epsilon_decay_q_table, epsilon_end = epsilon_end, seed=seed)\n",
    "\n",
    "Val_f = np.max(final_q_table, axis=1)\n",
    "\n",
    "state = 0\n",
    "# Define action map\n",
    "action_map = {\n",
    "0: \"Left\",\n",
    "1: \"Down\",\n",
    "2: \"Right\",\n",
    "3: \"Up\"\n",
    "}\n",
    "print(\"State: Type -    V(s),    action taken\")\n",
    "lake_grid = env.unwrapped.desc  # Gets the grid representation\n",
    "for row in lake_grid:\n",
    "    for cell in row:\n",
    "        print(f\"     {state}:   {cell.decode('utf-8')} - {Val_f[state]:.2f}, {final_policy[state]}-->{action_map[final_policy[state]]}\")  # Convert byte to string\n",
    "        state += 1\n",
    "# assert False, \"c1\"\n",
    "\n",
    "# Print the final table and policy\n",
    "print(\"Final Q function: \", final_q_table)\n",
    "# print(\"Final Policy: \", final_policy)\n",
    "# print(\"Final Value function: \", Val_f)\n",
    "\n",
    "# # Plot heatmap of the Value function\n",
    "# plt.figure(figsize=(5,5))\n",
    "# plt.imshow(Val_f.reshape(4,4), cmap=\"coolwarm\", interpolation=\"nearest\")\n",
    "# for i in range(4):\n",
    "#     for j in range(4):\n",
    "#         plt.text(j, i, f\"{Val_f[i*4+j]:.2f}\", ha='center', va='center', color='black')\n",
    "\n",
    "\n",
    "# Plot the reward curve\n",
    "\n",
    "\n",
    "\n",
    "# Save the current Q-function\n",
    "save_model = f\"{runs_folder_path}/Q_table_{filename}.npy\"\n",
    "np.save(save_model, final_q_table)"
   ]
  },
  {
   "cell_type": "markdown",
   "metadata": {},
   "source": [
    "# Collecting Trajectories\n",
    "Here we may need to ensure that the trajectories sufficiently explore each state.\\\n",
    "Thus, we may want to start from specific states when reseting the environment during trajectory collection."
   ]
  },
  {
   "cell_type": "code",
   "execution_count": 31,
   "metadata": {},
   "outputs": [],
   "source": [
    "def choose_action(q_table, state, epsilon):\n",
    "    \"\"\"Epsilon-greedy action selection.\"\"\"\n",
    "    if random.uniform(0, 1) < epsilon:\n",
    "        return random.randint(0, num_actions - 1)  # Explore\n",
    "    else:\n",
    "        return np.argmax(q_table[state, :])  # Exploit"
   ]
  },
  {
   "cell_type": "code",
   "execution_count": 32,
   "metadata": {},
   "outputs": [
    {
     "name": "stderr",
     "output_type": "stream",
     "text": [
      "  0%|          | 0/10000 [00:00<?, ?it/s]"
     ]
    },
    {
     "name": "stderr",
     "output_type": "stream",
     "text": [
      " 16%|█▋        | 1646/10000 [00:00<00:00, 16459.51it/s]"
     ]
    },
    {
     "name": "stdout",
     "output_type": "stream",
     "text": [
      "We're dealing with medium trajs!\n"
     ]
    },
    {
     "name": "stderr",
     "output_type": "stream",
     "text": [
      "100%|██████████| 10000/10000 [00:00<00:00, 15732.60it/s]"
     ]
    },
    {
     "name": "stdout",
     "output_type": "stream",
     "text": [
      "Trajectories Saved in mdp/runs_frozen/modified_medium_trajectories_FrozenLake-v1_map_size_4_stochastic_False_seed_19.npy!\n"
     ]
    },
    {
     "name": "stderr",
     "output_type": "stream",
     "text": [
      "\n"
     ]
    }
   ],
   "source": [
    "q_table = np.load(f\"{runs_folder_path}/Q_table_{filename}.npy\")\n",
    "# env = make_env(env_name=env_name, env_dim=env_dim, seed = seed, stochastic=stochastic)\n",
    "flag = False\n",
    "traj = []\n",
    "tuple_traj = False\n",
    "for e in tqdm(range(num_episodes_trajectories)):\n",
    "    if modified==\"perfect\":\n",
    "        _, _ = env.reset()\n",
    "        epsilon = 0.01\n",
    "        state = int(e%16)\n",
    "        if flag==False:\n",
    "            print(f\"We're dealing with {modified} trajs!\")\n",
    "            flag = True\n",
    "    # end if perfect\n",
    "\n",
    "    elif modified==\"random\":\n",
    "        epsilon = 1\n",
    "        if random.uniform(0, 1) < 0.1:\n",
    "            if random.uniform(0, 1) < 0.5:\n",
    "                state = 3\n",
    "            elif random.uniform(0, 1) < 0.65:\n",
    "                state = 6\n",
    "            else:\n",
    "                state = 7\n",
    "            # end if choosing state\n",
    "        else:\n",
    "            state, _ = env.reset(seed=seed)\n",
    "        \n",
    "        if flag==False:\n",
    "            print(f\"We're dealing with {modified} trajs!\")\n",
    "            flag = True\n",
    "    # end if random trajectories\n",
    "    \n",
    "    else:\n",
    "        # continue    \n",
    "        if e<0.1*num_episodes_trajectories:\n",
    "          epsilon = 1\n",
    "        elif e<0.2*num_episodes_trajectories:\n",
    "          epsilon = 0.8\n",
    "        elif e<0.3*num_episodes_trajectories:\n",
    "          epsilon = 0.6\n",
    "        elif e<0.4*num_episodes_trajectories:\n",
    "          epsilon = 0.4\n",
    "        elif e<0.5*num_episodes_trajectories:\n",
    "          epsilon = 0.2\n",
    "        elif e<0.6*num_episodes_trajectories:\n",
    "          epsilon = 0.1\n",
    "        elif e<0.7*num_episodes_trajectories:\n",
    "          epsilon = 0.05\n",
    "        else:\n",
    "          epsilon = 0.01\n",
    "        # end epsilon if\n",
    "        if random.uniform(0, 1) < 0.1:\n",
    "            state, _ = env.reset(seed=seed)\n",
    "            if random.uniform(0, 1) < 0.5:\n",
    "                state = 3\n",
    "            elif random.uniform(0, 1) < 0.65:\n",
    "                state = 6\n",
    "            else:\n",
    "                state = 7\n",
    "            # end if choosing state\n",
    "        else:\n",
    "            state, _ = env.reset(seed=seed)\n",
    "        \n",
    "        if flag==False:\n",
    "            print(f\"We're dealing with {modified} trajs!\")\n",
    "            flag = True\n",
    "        # end flag if\n",
    "    \n",
    "    if not tuple_traj:\n",
    "       traj.append('s_'+str(state))\n",
    "    '''\n",
    "    Action Stochasticity (is_slippery=True): The seed affects how the agent slips \n",
    "    (randomly moves instead of following the chosen action).\n",
    "    Random Hole Placement (if map is generated dynamically): If the map has random \n",
    "    elements, different seeds can affect the placement of H (holes).\n",
    "    '''\n",
    "    curr_reward = 0\n",
    "    rep_count = 0\n",
    "    for t in range(max_eps_len):\n",
    "      action = choose_action(q_table, state, epsilon) #To be implemented\n",
    "      n_state,reward,done,_,_ = env.step(action)\n",
    "      \n",
    "      # We store the current tuple\n",
    "      if tuple_traj:\n",
    "        traj.append((state, action, reward, n_state, done))\n",
    "      else:\n",
    "        temp = 's_'+str(n_state)\n",
    "        # traj.append('s_'+str(n_state))\n",
    "        traj.append(temp)\n",
    "\n",
    "      state = n_state\n",
    "      curr_reward += reward\n",
    "      if done:\n",
    "        if rep_count>=5: # This forces repetitions to occur when done becomes True thereby repeating ending states\n",
    "            if not tuple_traj:\n",
    "                if temp=='s_15':\n",
    "                    traj.append('s_'+str(16))\n",
    "                else:\n",
    "                    traj.append('s_'+str(17))\n",
    "            break\n",
    "        else:\n",
    "            if not tuple_traj:\n",
    "                traj.append(temp)\n",
    "        rep_count+=1\n",
    "    # end for\n",
    "# end for\n",
    "if tuple_traj:\n",
    "    save_file_name = f\"{runs_folder_path}/modified_tuple_trajectories_{filename}.npy\"\n",
    "    np.save(save_file_name, traj)\n",
    "else:\n",
    "    save_file_name = f\"{runs_folder_path}/modified_{modified}_trajectories_{filename}.npy\"\n",
    "    np.save(save_file_name, traj)\n",
    "print(f\"Trajectories Saved in {save_file_name}!\")\n",
    "\n",
    "# assert False, \"No w2v business here\""
   ]
  },
  {
   "cell_type": "markdown",
   "metadata": {},
   "source": [
    "# Performing w2v"
   ]
  },
  {
   "cell_type": "code",
   "execution_count": 33,
   "metadata": {},
   "outputs": [
    {
     "name": "stdout",
     "output_type": "stream",
     "text": [
      "The trajectories being used are:  mdp/runs_frozen/modified_medium_trajectories_FrozenLake-v1_map_size_4_stochastic_False_seed_19.npy\n"
     ]
    },
    {
     "data": {
      "text/plain": [
       "<torch._C.Generator at 0x790889b966b0>"
      ]
     },
     "execution_count": 33,
     "metadata": {},
     "output_type": "execute_result"
    }
   ],
   "source": [
    "traj_file = f\"{runs_folder_path}/modified_{modified}_trajectories_{filename}.npy\"\n",
    "print(\"The trajectories being used are: \", traj_file)\n",
    "\n",
    "text = np.load(traj_file)\n",
    "np.random.seed(seed=seed)\n",
    "torch.manual_seed(seed)"
   ]
  },
  {
   "cell_type": "markdown",
   "metadata": {},
   "source": [
    "### Now we define the functions for word2vec algorithm"
   ]
  },
  {
   "cell_type": "code",
   "execution_count": 34,
   "metadata": {},
   "outputs": [
    {
     "name": "stdout",
     "output_type": "stream",
     "text": [
      "vocab:  {'s_0': 0, 's_1': 1, 's_17': 2, 's_4': 3, 's_5': 4, 's_3': 5, 's_9': 6, 's_6': 7, 's_2': 8, 's_8': 9, 's_12': 10, 's_7': 11, 's_11': 12, 's_15': 13, 's_16': 14, 's_13': 15, 's_14': 16, 's_10': 17}\n",
      "word counts:  Counter({'s_15': 71049, 's_1': 20350, 's_9': 14432, 's_0': 13459, 's_4': 11503, 's_8': 9818, 's_12': 9331, 's_13': 8268, 's_14': 7308, 's_16': 6459, 's_10': 4169, 's_17': 3541, 's_5': 1145, 's_6': 598, 's_3': 564, 's_7': 299, 's_2': 82, 's_11': 50})\n"
     ]
    }
   ],
   "source": [
    "def build_vocab(text): # Again we already have a vocabulary hence don't need to use this function directly\n",
    "    word_counts = Counter(text)\n",
    "    vocab = {word: i for i, word in enumerate(word_counts.keys())}\n",
    "    reverse_vocab = {i: word for word, i in vocab.items()}\n",
    "    return vocab, reverse_vocab, word_counts\n",
    "\n",
    "def generate_skipgram_pairs(text, window_size=2): # This function gives the word and context pairs.\n",
    "    # words = tokenize_text(text)\n",
    "    words = text\n",
    "    pairs = []\n",
    "    for i, target_word in enumerate(words):\n",
    "        window_start = max(i - window_size, 0)\n",
    "        window_end = min(i + window_size + 1, len(words))\n",
    "        for j in range(window_start, window_end):\n",
    "            if i != j:\n",
    "                pairs.append((words[i], words[j]))\n",
    "    return pairs\n",
    "\n",
    "vocab,_,wcounts = build_vocab(text)\n",
    "print(\"vocab: \", vocab)\n",
    "print(\"word counts: \", wcounts)\n",
    "# assert False, \"Checking the word counts!\""
   ]
  },
  {
   "cell_type": "markdown",
   "metadata": {},
   "source": [
    "### Word2vec class definition"
   ]
  },
  {
   "cell_type": "code",
   "execution_count": 35,
   "metadata": {},
   "outputs": [],
   "source": [
    "# ============================================================================================\n",
    "# Classes: Word2vec Dataset creator and SkipGram model\n",
    "# ============================================================================================\n",
    "\n",
    "class Word2VecDataset(Dataset):\n",
    "    def __init__(self, text, vocab, window_size=2):\n",
    "        self.vocab = vocab\n",
    "        self.data = generate_skipgram_pairs(text, window_size)\n",
    "        self.vocab_size = len(vocab) # why is this needed here?\n",
    "\n",
    "    def __len__(self): # what does this function do?\n",
    "        return len(self.data)\n",
    "\n",
    "    def __getitem__(self, idx):\n",
    "        target, context = self.data[idx]\n",
    "        ''' Doesn't the above idx reflect the idx numbered pair instead in pairs instead of the pairs\n",
    "        corresponding to the word at idx? '''\n",
    "        target_idx = torch.tensor(self.vocab[target], dtype=torch.long)\n",
    "        context_idx = torch.tensor(self.vocab[context], dtype=torch.long)\n",
    "        # target_idx = self.vocab[target]\n",
    "        # context_idx = self.vocab[context]\n",
    "\n",
    "        return target_idx, context_idx\n",
    "    \n",
    "\n",
    "    # ============================================================================================\n",
    "# Class: SkipGram using softmax over entire vocabulary\n",
    "# ============================================================================================\n",
    "\n",
    "class SkipGram(nn.Module):\n",
    "    def __init__(self, vocab_size, embedding_dim):\n",
    "        super(SkipGram, self).__init__()\n",
    "        self.embedding_dim = embedding_dim\n",
    "\n",
    "        # Input word embedding\n",
    "        self.in_embedding = nn.Embedding(vocab_size, embedding_dim)\n",
    "        # Output word embedding (used for context words)\n",
    "        self.out_embedding = nn.Embedding(vocab_size, embedding_dim)\n",
    "\n",
    "        # Initialize weights (better stability)\n",
    "        init_range = 0.5 / embedding_dim\n",
    "        self.in_embedding.weight.data.uniform_(-init_range, init_range)\n",
    "        self.out_embedding.weight.data.uniform_(-init_range, init_range)\n",
    "\n",
    "    def forward(self, center_word_idx):\n",
    "        \"\"\"Compute word embeddings and softmax probabilities for the context words.\"\"\"\n",
    "        center_embed = F.relu(self.in_embedding(center_word_idx))  # Shape: (batch_size, embedding_dim)\n",
    "        scores = torch.matmul(center_embed, self.out_embedding.weight.T)  # Compute dot product\n",
    "        y_pred = torch.softmax(scores, dim=1)  # Apply softmax over output vocab\n",
    "        return y_pred\n",
    "\n",
    "    def get_word_vector(self, word_idx):\n",
    "        \"\"\"Return the learned embedding vector for a given word index.\"\"\"\n",
    "        return self.in_embedding(word_idx).detach().cpu().numpy()"
   ]
  },
  {
   "cell_type": "markdown",
   "metadata": {},
   "source": [
    "### Training function"
   ]
  },
  {
   "cell_type": "code",
   "execution_count": 36,
   "metadata": {},
   "outputs": [],
   "source": [
    "# ============================================================================================\n",
    "# Function: to train the w2v skipgram model\n",
    "# ============================================================================================\n",
    "\n",
    "def train_skipgram(model, data_loader, epochs=6, lr=0.01, device = device):\n",
    "    \"\"\"Train the SkipGram model using Adam optimizer.\"\"\"\n",
    "    criterion = nn.CrossEntropyLoss()  # Cross-entropy for multi-class classification\n",
    "    optimizer = optim.Adam(model.parameters(), lr)\n",
    "\n",
    "    for epoch in tqdm(range(epochs)):\n",
    "        total_loss = 0\n",
    "        for center_word_idx, context_word_idx in data_loader:\n",
    "            center_word_idx = center_word_idx.to(device)\n",
    "            context_word_idx = context_word_idx.to(device)\n",
    "\n",
    "            optimizer.zero_grad()\n",
    "            y_pred = model(center_word_idx)  # Forward pass\n",
    "            loss = criterion(y_pred, context_word_idx)  # Compute loss\n",
    "            loss.backward()  # Backpropagation\n",
    "            optimizer.step()  # Update weights\n",
    "\n",
    "            total_loss += loss.item()\n",
    "\n",
    "        print(f\"Epoch {epoch+1}, Loss: {total_loss:.4f}\")\n",
    "\n",
    "    return model"
   ]
  },
  {
   "cell_type": "markdown",
   "metadata": {},
   "source": [
    "### Main function for w2v"
   ]
  },
  {
   "cell_type": "code",
   "execution_count": 37,
   "metadata": {},
   "outputs": [
    {
     "name": "stderr",
     "output_type": "stream",
     "text": [
      "  2%|▏         | 1/60 [00:14<14:37, 14.87s/it]"
     ]
    },
    {
     "name": "stdout",
     "output_type": "stream",
     "text": [
      "Epoch 1, Loss: 106778.1975\n"
     ]
    },
    {
     "name": "stderr",
     "output_type": "stream",
     "text": [
      "  3%|▎         | 2/60 [00:30<14:40, 15.18s/it]"
     ]
    },
    {
     "name": "stdout",
     "output_type": "stream",
     "text": [
      "Epoch 2, Loss: 107378.3121\n"
     ]
    },
    {
     "name": "stderr",
     "output_type": "stream",
     "text": [
      "  5%|▌         | 3/60 [00:44<14:08, 14.88s/it]"
     ]
    },
    {
     "name": "stdout",
     "output_type": "stream",
     "text": [
      "Epoch 3, Loss: 107758.1641\n"
     ]
    },
    {
     "name": "stderr",
     "output_type": "stream",
     "text": [
      "  7%|▋         | 4/60 [01:00<14:14, 15.26s/it]"
     ]
    },
    {
     "name": "stdout",
     "output_type": "stream",
     "text": [
      "Epoch 4, Loss: 108270.3071\n"
     ]
    },
    {
     "name": "stderr",
     "output_type": "stream",
     "text": [
      "  8%|▊         | 5/60 [01:15<13:46, 15.03s/it]"
     ]
    },
    {
     "name": "stdout",
     "output_type": "stream",
     "text": [
      "Epoch 5, Loss: 110770.9742\n"
     ]
    },
    {
     "name": "stderr",
     "output_type": "stream",
     "text": [
      " 10%|█         | 6/60 [01:29<13:21, 14.84s/it]"
     ]
    },
    {
     "name": "stdout",
     "output_type": "stream",
     "text": [
      "Epoch 6, Loss: 110771.2706\n"
     ]
    },
    {
     "name": "stderr",
     "output_type": "stream",
     "text": [
      " 12%|█▏        | 7/60 [01:44<13:00, 14.72s/it]"
     ]
    },
    {
     "name": "stdout",
     "output_type": "stream",
     "text": [
      "Epoch 7, Loss: 110771.5452\n"
     ]
    },
    {
     "name": "stderr",
     "output_type": "stream",
     "text": [
      " 13%|█▎        | 8/60 [01:58<12:43, 14.68s/it]"
     ]
    },
    {
     "name": "stdout",
     "output_type": "stream",
     "text": [
      "Epoch 8, Loss: 110770.4766\n"
     ]
    },
    {
     "name": "stderr",
     "output_type": "stream",
     "text": [
      " 15%|█▌        | 9/60 [02:15<12:54, 15.18s/it]"
     ]
    },
    {
     "name": "stdout",
     "output_type": "stream",
     "text": [
      "Epoch 9, Loss: 110769.4992\n"
     ]
    },
    {
     "name": "stderr",
     "output_type": "stream",
     "text": [
      " 17%|█▋        | 10/60 [02:29<12:28, 14.98s/it]"
     ]
    },
    {
     "name": "stdout",
     "output_type": "stream",
     "text": [
      "Epoch 10, Loss: 110770.4439\n"
     ]
    },
    {
     "name": "stderr",
     "output_type": "stream",
     "text": [
      " 18%|█▊        | 11/60 [02:44<12:07, 14.85s/it]"
     ]
    },
    {
     "name": "stdout",
     "output_type": "stream",
     "text": [
      "Epoch 11, Loss: 110783.5341\n"
     ]
    },
    {
     "name": "stderr",
     "output_type": "stream",
     "text": [
      " 20%|██        | 12/60 [02:58<11:48, 14.77s/it]"
     ]
    },
    {
     "name": "stdout",
     "output_type": "stream",
     "text": [
      "Epoch 12, Loss: 110928.8452\n"
     ]
    },
    {
     "name": "stderr",
     "output_type": "stream",
     "text": [
      " 22%|██▏       | 13/60 [03:13<11:31, 14.71s/it]"
     ]
    },
    {
     "name": "stdout",
     "output_type": "stream",
     "text": [
      "Epoch 13, Loss: 111626.2636\n"
     ]
    },
    {
     "name": "stderr",
     "output_type": "stream",
     "text": [
      " 23%|██▎       | 14/60 [03:29<11:32, 15.05s/it]"
     ]
    },
    {
     "name": "stdout",
     "output_type": "stream",
     "text": [
      "Epoch 14, Loss: 111670.7764\n"
     ]
    },
    {
     "name": "stderr",
     "output_type": "stream",
     "text": [
      " 25%|██▌       | 15/60 [03:43<11:12, 14.95s/it]"
     ]
    },
    {
     "name": "stdout",
     "output_type": "stream",
     "text": [
      "Epoch 15, Loss: 111669.1654\n"
     ]
    },
    {
     "name": "stderr",
     "output_type": "stream",
     "text": [
      " 27%|██▋       | 16/60 [04:00<11:15, 15.35s/it]"
     ]
    },
    {
     "name": "stdout",
     "output_type": "stream",
     "text": [
      "Epoch 16, Loss: 111669.8475\n"
     ]
    },
    {
     "name": "stderr",
     "output_type": "stream",
     "text": [
      " 28%|██▊       | 17/60 [04:16<11:08, 15.54s/it]"
     ]
    },
    {
     "name": "stdout",
     "output_type": "stream",
     "text": [
      "Epoch 17, Loss: 111671.2268\n"
     ]
    },
    {
     "name": "stderr",
     "output_type": "stream",
     "text": [
      " 30%|███       | 18/60 [04:30<10:38, 15.21s/it]"
     ]
    },
    {
     "name": "stdout",
     "output_type": "stream",
     "text": [
      "Epoch 18, Loss: 111670.5253\n"
     ]
    },
    {
     "name": "stderr",
     "output_type": "stream",
     "text": [
      " 32%|███▏      | 19/60 [04:45<10:14, 14.98s/it]"
     ]
    },
    {
     "name": "stdout",
     "output_type": "stream",
     "text": [
      "Epoch 19, Loss: 111670.3084\n"
     ]
    },
    {
     "name": "stderr",
     "output_type": "stream",
     "text": [
      " 33%|███▎      | 20/60 [04:59<09:54, 14.85s/it]"
     ]
    },
    {
     "name": "stdout",
     "output_type": "stream",
     "text": [
      "Epoch 20, Loss: 111672.1859\n"
     ]
    },
    {
     "name": "stderr",
     "output_type": "stream",
     "text": [
      " 35%|███▌      | 21/60 [05:15<09:53, 15.21s/it]"
     ]
    },
    {
     "name": "stdout",
     "output_type": "stream",
     "text": [
      "Epoch 21, Loss: 111670.4128\n"
     ]
    },
    {
     "name": "stderr",
     "output_type": "stream",
     "text": [
      " 37%|███▋      | 22/60 [05:31<09:49, 15.51s/it]"
     ]
    },
    {
     "name": "stdout",
     "output_type": "stream",
     "text": [
      "Epoch 22, Loss: 111671.0078\n"
     ]
    },
    {
     "name": "stderr",
     "output_type": "stream",
     "text": [
      " 38%|███▊      | 23/60 [05:47<09:31, 15.43s/it]"
     ]
    },
    {
     "name": "stdout",
     "output_type": "stream",
     "text": [
      "Epoch 23, Loss: 111670.0712\n"
     ]
    },
    {
     "name": "stderr",
     "output_type": "stream",
     "text": [
      " 40%|████      | 24/60 [06:01<09:05, 15.15s/it]"
     ]
    },
    {
     "name": "stdout",
     "output_type": "stream",
     "text": [
      "Epoch 24, Loss: 111670.1736\n"
     ]
    },
    {
     "name": "stderr",
     "output_type": "stream",
     "text": [
      " 42%|████▏     | 25/60 [06:16<08:43, 14.96s/it]"
     ]
    },
    {
     "name": "stdout",
     "output_type": "stream",
     "text": [
      "Epoch 25, Loss: 111671.0787\n"
     ]
    },
    {
     "name": "stderr",
     "output_type": "stream",
     "text": [
      " 43%|████▎     | 26/60 [06:31<08:30, 15.02s/it]"
     ]
    },
    {
     "name": "stdout",
     "output_type": "stream",
     "text": [
      "Epoch 26, Loss: 111669.6143\n"
     ]
    },
    {
     "name": "stderr",
     "output_type": "stream",
     "text": [
      " 45%|████▌     | 27/60 [06:46<08:20, 15.17s/it]"
     ]
    },
    {
     "name": "stdout",
     "output_type": "stream",
     "text": [
      "Epoch 27, Loss: 111669.7187\n"
     ]
    },
    {
     "name": "stderr",
     "output_type": "stream",
     "text": [
      " 47%|████▋     | 28/60 [07:01<08:00, 15.00s/it]"
     ]
    },
    {
     "name": "stdout",
     "output_type": "stream",
     "text": [
      "Epoch 28, Loss: 111671.8555\n"
     ]
    },
    {
     "name": "stderr",
     "output_type": "stream",
     "text": [
      " 48%|████▊     | 29/60 [07:15<07:40, 14.87s/it]"
     ]
    },
    {
     "name": "stdout",
     "output_type": "stream",
     "text": [
      "Epoch 29, Loss: 111670.1345\n"
     ]
    },
    {
     "name": "stderr",
     "output_type": "stream",
     "text": [
      " 50%|█████     | 30/60 [07:31<07:28, 14.94s/it]"
     ]
    },
    {
     "name": "stdout",
     "output_type": "stream",
     "text": [
      "Epoch 30, Loss: 111671.6854\n"
     ]
    },
    {
     "name": "stderr",
     "output_type": "stream",
     "text": [
      " 52%|█████▏    | 31/60 [07:46<07:20, 15.18s/it]"
     ]
    },
    {
     "name": "stdout",
     "output_type": "stream",
     "text": [
      "Epoch 31, Loss: 111671.4592\n"
     ]
    },
    {
     "name": "stderr",
     "output_type": "stream",
     "text": [
      " 53%|█████▎    | 32/60 [08:01<07:02, 15.09s/it]"
     ]
    },
    {
     "name": "stdout",
     "output_type": "stream",
     "text": [
      "Epoch 32, Loss: 111670.9874\n"
     ]
    },
    {
     "name": "stderr",
     "output_type": "stream",
     "text": [
      " 55%|█████▌    | 33/60 [08:16<06:42, 14.92s/it]"
     ]
    },
    {
     "name": "stdout",
     "output_type": "stream",
     "text": [
      "Epoch 33, Loss: 111671.3069\n"
     ]
    },
    {
     "name": "stderr",
     "output_type": "stream",
     "text": [
      " 57%|█████▋    | 34/60 [08:31<06:26, 14.88s/it]"
     ]
    },
    {
     "name": "stdout",
     "output_type": "stream",
     "text": [
      "Epoch 34, Loss: 111670.1011\n"
     ]
    },
    {
     "name": "stderr",
     "output_type": "stream",
     "text": [
      " 58%|█████▊    | 35/60 [08:46<06:19, 15.18s/it]"
     ]
    },
    {
     "name": "stdout",
     "output_type": "stream",
     "text": [
      "Epoch 35, Loss: 111671.3223\n"
     ]
    },
    {
     "name": "stderr",
     "output_type": "stream",
     "text": [
      " 60%|██████    | 36/60 [09:02<06:05, 15.24s/it]"
     ]
    },
    {
     "name": "stdout",
     "output_type": "stream",
     "text": [
      "Epoch 36, Loss: 111671.7183\n"
     ]
    },
    {
     "name": "stderr",
     "output_type": "stream",
     "text": [
      " 62%|██████▏   | 37/60 [09:17<05:48, 15.13s/it]"
     ]
    },
    {
     "name": "stdout",
     "output_type": "stream",
     "text": [
      "Epoch 37, Loss: 111669.1855\n"
     ]
    },
    {
     "name": "stderr",
     "output_type": "stream",
     "text": [
      " 63%|██████▎   | 38/60 [09:32<05:33, 15.15s/it]"
     ]
    },
    {
     "name": "stdout",
     "output_type": "stream",
     "text": [
      "Epoch 38, Loss: 111670.7458\n"
     ]
    },
    {
     "name": "stderr",
     "output_type": "stream",
     "text": [
      " 65%|██████▌   | 39/60 [09:46<05:14, 14.96s/it]"
     ]
    },
    {
     "name": "stdout",
     "output_type": "stream",
     "text": [
      "Epoch 39, Loss: 111671.7902\n"
     ]
    },
    {
     "name": "stderr",
     "output_type": "stream",
     "text": [
      " 67%|██████▋   | 40/60 [10:02<05:04, 15.20s/it]"
     ]
    },
    {
     "name": "stdout",
     "output_type": "stream",
     "text": [
      "Epoch 40, Loss: 111670.4769\n"
     ]
    },
    {
     "name": "stderr",
     "output_type": "stream",
     "text": [
      " 68%|██████▊   | 41/60 [10:18<04:52, 15.38s/it]"
     ]
    },
    {
     "name": "stdout",
     "output_type": "stream",
     "text": [
      "Epoch 41, Loss: 111671.5779\n"
     ]
    },
    {
     "name": "stderr",
     "output_type": "stream",
     "text": [
      " 70%|███████   | 42/60 [10:33<04:33, 15.20s/it]"
     ]
    },
    {
     "name": "stdout",
     "output_type": "stream",
     "text": [
      "Epoch 42, Loss: 111669.5946\n"
     ]
    },
    {
     "name": "stderr",
     "output_type": "stream",
     "text": [
      " 72%|███████▏  | 43/60 [10:47<04:15, 15.01s/it]"
     ]
    },
    {
     "name": "stdout",
     "output_type": "stream",
     "text": [
      "Epoch 43, Loss: 111670.1388\n"
     ]
    },
    {
     "name": "stderr",
     "output_type": "stream",
     "text": [
      " 73%|███████▎  | 44/60 [11:02<04:00, 15.03s/it]"
     ]
    },
    {
     "name": "stdout",
     "output_type": "stream",
     "text": [
      "Epoch 44, Loss: 111669.6485\n"
     ]
    },
    {
     "name": "stderr",
     "output_type": "stream",
     "text": [
      " 75%|███████▌  | 45/60 [11:18<03:47, 15.16s/it]"
     ]
    },
    {
     "name": "stdout",
     "output_type": "stream",
     "text": [
      "Epoch 45, Loss: 111670.5421\n"
     ]
    },
    {
     "name": "stderr",
     "output_type": "stream",
     "text": [
      " 77%|███████▋  | 46/60 [11:33<03:32, 15.16s/it]"
     ]
    },
    {
     "name": "stdout",
     "output_type": "stream",
     "text": [
      "Epoch 46, Loss: 111671.4291\n"
     ]
    },
    {
     "name": "stderr",
     "output_type": "stream",
     "text": [
      " 78%|███████▊  | 47/60 [11:47<03:14, 14.96s/it]"
     ]
    },
    {
     "name": "stdout",
     "output_type": "stream",
     "text": [
      "Epoch 47, Loss: 111671.6211\n"
     ]
    },
    {
     "name": "stderr",
     "output_type": "stream",
     "text": [
      " 80%|████████  | 48/60 [12:02<02:57, 14.79s/it]"
     ]
    },
    {
     "name": "stdout",
     "output_type": "stream",
     "text": [
      "Epoch 48, Loss: 111669.7771\n"
     ]
    },
    {
     "name": "stderr",
     "output_type": "stream",
     "text": [
      " 82%|████████▏ | 49/60 [12:17<02:42, 14.76s/it]"
     ]
    },
    {
     "name": "stdout",
     "output_type": "stream",
     "text": [
      "Epoch 49, Loss: 111671.0908\n"
     ]
    },
    {
     "name": "stderr",
     "output_type": "stream",
     "text": [
      " 83%|████████▎ | 50/60 [12:32<02:28, 14.87s/it]"
     ]
    },
    {
     "name": "stdout",
     "output_type": "stream",
     "text": [
      "Epoch 50, Loss: 111672.0286\n"
     ]
    },
    {
     "name": "stderr",
     "output_type": "stream",
     "text": [
      " 85%|████████▌ | 51/60 [12:46<02:13, 14.82s/it]"
     ]
    },
    {
     "name": "stdout",
     "output_type": "stream",
     "text": [
      "Epoch 51, Loss: 111671.4853\n"
     ]
    },
    {
     "name": "stderr",
     "output_type": "stream",
     "text": [
      " 87%|████████▋ | 52/60 [13:02<01:59, 14.93s/it]"
     ]
    },
    {
     "name": "stdout",
     "output_type": "stream",
     "text": [
      "Epoch 52, Loss: 111669.6896\n"
     ]
    },
    {
     "name": "stderr",
     "output_type": "stream",
     "text": [
      " 88%|████████▊ | 53/60 [13:16<01:43, 14.80s/it]"
     ]
    },
    {
     "name": "stdout",
     "output_type": "stream",
     "text": [
      "Epoch 53, Loss: 111670.7481\n"
     ]
    },
    {
     "name": "stderr",
     "output_type": "stream",
     "text": [
      " 90%|█████████ | 54/60 [13:32<01:31, 15.27s/it]"
     ]
    },
    {
     "name": "stdout",
     "output_type": "stream",
     "text": [
      "Epoch 54, Loss: 111670.6023\n"
     ]
    },
    {
     "name": "stderr",
     "output_type": "stream",
     "text": [
      " 92%|█████████▏| 55/60 [13:49<01:17, 15.55s/it]"
     ]
    },
    {
     "name": "stdout",
     "output_type": "stream",
     "text": [
      "Epoch 55, Loss: 111670.3756\n"
     ]
    },
    {
     "name": "stderr",
     "output_type": "stream",
     "text": [
      " 93%|█████████▎| 56/60 [14:05<01:02, 15.75s/it]"
     ]
    },
    {
     "name": "stdout",
     "output_type": "stream",
     "text": [
      "Epoch 56, Loss: 111671.0371\n"
     ]
    },
    {
     "name": "stderr",
     "output_type": "stream",
     "text": [
      " 95%|█████████▌| 57/60 [14:20<00:46, 15.47s/it]"
     ]
    },
    {
     "name": "stdout",
     "output_type": "stream",
     "text": [
      "Epoch 57, Loss: 111671.5524\n"
     ]
    },
    {
     "name": "stderr",
     "output_type": "stream",
     "text": [
      " 97%|█████████▋| 58/60 [14:34<00:30, 15.19s/it]"
     ]
    },
    {
     "name": "stdout",
     "output_type": "stream",
     "text": [
      "Epoch 58, Loss: 111671.0660\n"
     ]
    },
    {
     "name": "stderr",
     "output_type": "stream",
     "text": [
      " 98%|█████████▊| 59/60 [14:49<00:14, 15.00s/it]"
     ]
    },
    {
     "name": "stdout",
     "output_type": "stream",
     "text": [
      "Epoch 59, Loss: 111671.7636\n"
     ]
    },
    {
     "name": "stderr",
     "output_type": "stream",
     "text": [
      "100%|██████████| 60/60 [15:04<00:00, 15.07s/it]"
     ]
    },
    {
     "name": "stdout",
     "output_type": "stream",
     "text": [
      "Epoch 60, Loss: 111669.5790\n",
      "W2v vetors stored in:  mdp/runs_frozen/modified_medium_w2v_embed_dim_32_FrozenLake-v1_map_size_4_stochastic_False_seed_19_epochs_60.npy\n"
     ]
    },
    {
     "name": "stderr",
     "output_type": "stream",
     "text": [
      "\n"
     ]
    }
   ],
   "source": [
    "# ============================================================================================\n",
    "#  Main function for calling the w2v agent\n",
    "# ============================================================================================\n",
    "# First we create the dataset and dataloader\n",
    "vocab, _, _ = build_vocab(text)\n",
    "dataset = Word2VecDataset(text, vocab, window_size)\n",
    "dataloader = DataLoader(dataset, batch_size, shuffle=True)\n",
    "model = SkipGram(vocab_size=len(vocab), embedding_dim=embed_dim).to(device)\n",
    "model = train_skipgram(model, dataloader, epochs = w2v_epochs, lr = w2v_lr)\n",
    "\n",
    "# ============================================================================================\n",
    "#  Saving the w2v generated vector embeddings as a dictionary\n",
    "# ============================================================================================\n",
    "word_embeddings = {}\n",
    "for word in vocab:\n",
    "    word_idx = torch.tensor([vocab[word]], dtype=torch.long).to(device)\n",
    "    updated_embedding = model.get_word_vector(word_idx)\n",
    "    # print(f\"Updated embedding for '{word}': {updated_embedding}\")\n",
    "    # Store the embedding in the dictionary\n",
    "    word_embeddings[word] = updated_embedding.flatten()  # Flatten to 1D array\n",
    "\n",
    "# Saving the w2v model\n",
    "save_w2v_file = f\"{runs_folder_path}/modified_{modified}_w2v_embed_dim_{embed_dim}_{filename}_epochs_{w2v_epochs}.npy\"\n",
    "np.save(save_w2v_file, word_embeddings)\n",
    "print(\"W2v vetors stored in: \", save_w2v_file)"
   ]
  },
  {
   "cell_type": "markdown",
   "metadata": {},
   "source": [
    "### Similarity check"
   ]
  },
  {
   "cell_type": "code",
   "execution_count": 38,
   "metadata": {},
   "outputs": [
    {
     "name": "stdout",
     "output_type": "stream",
     "text": [
      "Top 5 words similar to 's_0':\n",
      "s_16: 0.3311\n",
      "s_5: 0.2516\n",
      "s_14: 0.2308\n",
      "s_10: 0.1650\n",
      "s_17: 0.1143\n",
      "Top 5 words similar to 's_1':\n",
      "s_16: 0.4612\n",
      "s_15: 0.3440\n",
      "s_5: 0.2714\n",
      "s_14: 0.2248\n",
      "s_9: 0.2085\n",
      "Top 5 words similar to 's_17':\n",
      "s_11: 0.4657\n",
      "s_3: 0.3402\n",
      "s_12: 0.2826\n",
      "s_7: 0.2539\n",
      "s_6: 0.2521\n",
      "Top 5 words similar to 's_4':\n",
      "s_3: 0.1652\n",
      "s_2: 0.1061\n",
      "s_10: 0.0818\n",
      "s_17: 0.0530\n",
      "s_8: 0.0292\n",
      "Top 5 words similar to 's_5':\n",
      "s_1: 0.2714\n",
      "s_0: 0.2516\n",
      "s_16: 0.1861\n",
      "s_14: 0.1738\n",
      "s_10: 0.1343\n",
      "Top 5 words similar to 's_3':\n",
      "s_2: 0.5286\n",
      "s_12: 0.4804\n",
      "s_7: 0.4302\n",
      "s_8: 0.4241\n",
      "s_11: 0.3859\n",
      "Top 5 words similar to 's_9':\n",
      "s_10: 0.3926\n",
      "s_14: 0.3843\n",
      "s_13: 0.3406\n",
      "s_15: 0.2164\n",
      "s_1: 0.2085\n",
      "Top 5 words similar to 's_6':\n",
      "s_7: 0.4700\n",
      "s_11: 0.4321\n",
      "s_2: 0.4204\n",
      "s_3: 0.3074\n",
      "s_17: 0.2521\n",
      "Top 5 words similar to 's_2':\n",
      "s_7: 0.5352\n",
      "s_3: 0.5286\n",
      "s_12: 0.4711\n",
      "s_6: 0.4204\n",
      "s_11: 0.3958\n",
      "Top 5 words similar to 's_8':\n",
      "s_11: 0.4420\n",
      "s_3: 0.4241\n",
      "s_12: 0.2163\n",
      "s_6: 0.1660\n",
      "s_17: 0.1589\n",
      "Top 5 words similar to 's_12':\n",
      "s_3: 0.4804\n",
      "s_2: 0.4711\n",
      "s_11: 0.3197\n",
      "s_7: 0.3053\n",
      "s_17: 0.2826\n",
      "Top 5 words similar to 's_7':\n",
      "s_11: 0.5452\n",
      "s_2: 0.5352\n",
      "s_6: 0.4700\n",
      "s_3: 0.4302\n",
      "s_12: 0.3053\n",
      "Top 5 words similar to 's_11':\n",
      "s_7: 0.5452\n",
      "s_17: 0.4657\n",
      "s_8: 0.4420\n",
      "s_6: 0.4321\n",
      "s_2: 0.3958\n",
      "Top 5 words similar to 's_15':\n",
      "s_16: 0.5531\n",
      "s_14: 0.5178\n",
      "s_1: 0.3440\n",
      "s_9: 0.2164\n",
      "s_10: -0.0073\n",
      "Top 5 words similar to 's_16':\n",
      "s_15: 0.5531\n",
      "s_14: 0.4746\n",
      "s_1: 0.4612\n",
      "s_0: 0.3311\n",
      "s_10: 0.3067\n",
      "Top 5 words similar to 's_13':\n",
      "s_10: 0.5475\n",
      "s_9: 0.3406\n",
      "s_17: 0.0755\n",
      "s_3: 0.0733\n",
      "s_7: 0.0728\n",
      "Top 5 words similar to 's_14':\n",
      "s_15: 0.5178\n",
      "s_16: 0.4746\n",
      "s_9: 0.3843\n",
      "s_0: 0.2308\n",
      "s_1: 0.2248\n",
      "Top 5 words similar to 's_10':\n",
      "s_13: 0.5475\n",
      "s_9: 0.3926\n",
      "s_16: 0.3067\n",
      "s_0: 0.1650\n",
      "s_5: 0.1343\n"
     ]
    }
   ],
   "source": [
    "# ============================================================================================\n",
    "# Similarity checking and visualizing \n",
    "# ============================================================================================\n",
    "# import numpy as np\n",
    "# from sklearn.metrics.pairwise import cosine_similarity\n",
    "\n",
    "# Load saved embeddings\n",
    "word_embeddings = np.load(f\"{runs_folder_path}/modified_{modified}_w2v_embed_dim_{embed_dim}_{filename}_epochs_{w2v_epochs}.npy\", \n",
    "                          allow_pickle=True).item()\n",
    "\n",
    "# Convert to a NumPy array for fast computation\n",
    "words = list(word_embeddings.keys())\n",
    "vectors = np.array(list(word_embeddings.values()))\n",
    "\n",
    "# Compute the cosine similarity matrix\n",
    "cosine_sim_matrix = cosine_similarity(vectors)\n",
    "\n",
    "# Function to find top-N similar words\n",
    "def find_similar_words(target_word, top_n=5):\n",
    "    if target_word not in word_embeddings:\n",
    "        print(f\"Word '{target_word}' not found in vocabulary.\")\n",
    "        return []\n",
    "\n",
    "    # Get index of target word\n",
    "    target_idx = words.index(target_word)\n",
    "\n",
    "    # Get similarity scores for the target word\n",
    "    similarity_scores = cosine_sim_matrix[target_idx]\n",
    "\n",
    "    # Get top-N most similar words (excluding itself)\n",
    "    similar_indices = np.argsort(similarity_scores)[::-1][1:top_n+1]  # Sort in descending order\n",
    "\n",
    "    # Return words with their similarity scores\n",
    "    return [(words[i], similarity_scores[i]) for i in similar_indices]\n",
    "\n",
    "# Example usage\n",
    "for target_word in word_embeddings:\n",
    "    top_similar_words = find_similar_words(target_word, top_n=5)\n",
    "\n",
    "    print(f\"Top 5 words similar to '{target_word}':\")\n",
    "    for word, score in top_similar_words:\n",
    "        print(f\"{word}: {score:.4f}\")"
   ]
  },
  {
   "cell_type": "markdown",
   "metadata": {},
   "source": [
    "# Now we need to ensure that the same states are sampled to compare the performance of w2v imbued DQN and Vanilla DQN. \n",
    "Thus we reset np, random and torch.manual_seed before starting both the following cells"
   ]
  },
  {
   "cell_type": "markdown",
   "metadata": {},
   "source": [
    "# DQN common set up"
   ]
  },
  {
   "cell_type": "markdown",
   "metadata": {},
   "source": [
    "### Defining all classes\n",
    "We define the following classes:\n",
    "1. Experience Replay\n",
    "2. DQNAgent "
   ]
  },
  {
   "cell_type": "code",
   "execution_count": 17,
   "metadata": {},
   "outputs": [],
   "source": [
    "class ExperienceReplay:\n",
    "\t\"\"\"\n",
    "\tBased on the Replay Buffer implementation of TD3\n",
    "\tReference: https://github.com/sfujim/TD3/blob/master/utils.py\n",
    "\t\"\"\"\n",
    "\tdef __init__(self, state_dim, action_dim,max_size,batch_size,gpu_index=0):\n",
    "\t\tself.max_size = max_size\n",
    "\t\tself.ptr = 0\n",
    "\t\tself.size = 0\n",
    "\t\tself.state = np.zeros((max_size, state_dim))\n",
    "\t\tself.action = np.zeros((max_size, action_dim))\n",
    "\t\tself.next_state = np.zeros((max_size, state_dim))\n",
    "\t\tself.reward = np.zeros((max_size, 1))\n",
    "\t\tself.done = np.zeros((max_size, 1))\n",
    "\t\tself.batch_size = batch_size\n",
    "\t\tself.device = torch.device('cuda', index=gpu_index) if torch.cuda.is_available() else torch.device('cpu')\n",
    "\n",
    "\n",
    "\tdef add(self, state, action,reward,next_state, done):\n",
    "\t\tself.state[self.ptr] = state\n",
    "\t\tself.action[self.ptr] = action\n",
    "\t\tself.next_state[self.ptr] = next_state\n",
    "\t\tself.reward[self.ptr] = reward\n",
    "\t\tself.done[self.ptr] = done\n",
    "\t\tself.ptr = (self.ptr + 1) % self.max_size\n",
    "\t\tself.size = min(self.size + 1, self.max_size)\n",
    "\n",
    "\tdef sample(self):\n",
    "\t\tind = np.random.randint(0, self.size, size=self.batch_size)\n",
    "\n",
    "\t\treturn (\n",
    "\t\t\ttorch.FloatTensor(self.state[ind]).to(self.device),\n",
    "\t\t\ttorch.FloatTensor(self.action[ind]).long().to(self.device),\n",
    "\t\t\ttorch.FloatTensor(self.reward[ind]).to(self.device),\n",
    "\t\t\ttorch.FloatTensor(self.next_state[ind]).to(self.device),\n",
    "\t\t\ttorch.FloatTensor(self.done[ind]).to(self.device)\n",
    "\t\t)\n",
    "\n"
   ]
  },
  {
   "cell_type": "markdown",
   "metadata": {},
   "source": [
    "## Class of QNetwork with w2v\n",
    "Here, the w2v input is given to a 2 layer NN. We remove the 64x64 layer since word vectors are already learnt and thus we don't require that layer"
   ]
  },
  {
   "cell_type": "code",
   "execution_count": 18,
   "metadata": {},
   "outputs": [],
   "source": [
    "class w2v_QNetwork(nn.Module):\n",
    "  \"\"\"\n",
    "  Q Network: designed to take state as input and give out Q values of actions as output\n",
    "  \"\"\"\n",
    "\n",
    "  def __init__(self, state_dim, action_dim):\n",
    "    \"\"\"\n",
    "      state_dim (int): state dimenssion\n",
    "      action_dim (int): action dimenssion\n",
    "    \"\"\"\n",
    "    super(w2v_QNetwork, self).__init__()\n",
    "    self.l1 = nn.Linear(state_dim, 64)\n",
    "    # self.l2 = nn.Linear(64, 64)\n",
    "    self.l3 = nn.Linear(64, action_dim)\n",
    "\n",
    "  def forward(self, state):\n",
    "    q = F.relu(self.l1(state))\n",
    "    # q = F.relu(self.l2(q))\n",
    "    return self.l3(q)\n"
   ]
  },
  {
   "cell_type": "markdown",
   "metadata": {},
   "source": [
    "### DQNAgent class"
   ]
  },
  {
   "cell_type": "code",
   "execution_count": 19,
   "metadata": {},
   "outputs": [],
   "source": [
    "class w2v_DQNAgent():\n",
    "  def __init__(self,\n",
    "   embed_dim,\n",
    "   action_dim,\n",
    "   discount=0.99,\n",
    "   tau=1e-3,\n",
    "   lr=5e-4,\n",
    "   update_freq=4,\n",
    "   max_size=int(1e5),\n",
    "   batch_size=64,\n",
    "   gpu_index=0\n",
    "   ):\n",
    "    \"\"\"\n",
    "      state_size (int): dimension of each state\n",
    "      action_size (int): dimension of each action\n",
    "      discount (float): discount factor\n",
    "      tau (float): used to update q-target\n",
    "      lr (float): learning rate\n",
    "      update_freq (int): update frequency of target network\n",
    "      max_size (int): experience replay buffer size\n",
    "      batch_size (int): training batch size\n",
    "      gpu_index (int): GPU used for training\n",
    "    \"\"\"\n",
    "    self.embed_dim = embed_dim\n",
    "    self.action_dim = action_dim\n",
    "    self.discount = discount\n",
    "    self.tau = tau\n",
    "    self.lr = lr\n",
    "    self.update_freq = update_freq\n",
    "    self.batch_size = batch_size\n",
    "    self.device = torch.device('cuda', index=gpu_index) if torch.cuda.is_available() else torch.device('cpu')\n",
    "\n",
    "\n",
    "    # Setting up the NNs\n",
    "    self.Q = w2v_QNetwork(embed_dim, action_dim).to(self.device)\n",
    "    self.Q_target = w2v_QNetwork(embed_dim, action_dim).to(self.device)\n",
    "    self.optimizer = optim.Adam(self.Q.parameters(), lr=self.lr)\n",
    "\n",
    "    # Experience Replay Buffer\n",
    "    self.memory = ExperienceReplay(embed_dim,1,max_size,self.batch_size,gpu_index)\n",
    "\n",
    "    self.t_train = 0\n",
    "\n",
    "  def step(self, state, action, reward, next_state, done):\n",
    "    \"\"\"\n",
    "    1. Adds (s,a,r,s') to the experience replay buffer, and updates the networks\n",
    "    2. Learns when the experience replay buffer has enough samples\n",
    "    3. Updates target netowork\n",
    "    \"\"\"\n",
    "    self.memory.add(state, action, reward, next_state, done)\n",
    "    self.t_train += 1\n",
    "\n",
    "    if self.memory.size > self.batch_size:\n",
    "      experiences = self.memory.sample()\n",
    "      self.learn(experiences, self.discount) #To be implemented\n",
    "\n",
    "    if (self.t_train % self.update_freq) == 0:\n",
    "      self.target_update(self.Q, self.Q_target, self.tau) #To be implemented\n",
    "\n",
    "  def select_action(self, state, epsilon):\n",
    "    \"\"\"\n",
    "    TODO: Complete this block to select action using epsilon greedy exploration\n",
    "    strategy\n",
    "    Input: state, epsilon\n",
    "    Return: Action\n",
    "    Return Type: int\n",
    "    \"\"\"\n",
    "    ###### TYPE YOUR CODE HERE ######\n",
    "    # We generate a random number between 0 and 1\n",
    "    rand_num = np.random.random()\n",
    "    state = torch.from_numpy(state).to(self.device)\n",
    "    a_opt = np.argmax(self.Q(state).cpu().detach().numpy())\n",
    "    if rand_num<epsilon:\n",
    "      a_list = [y for y in range(self.action_dim)]\n",
    "      # print('a_list = ', a_list)\n",
    "      a_list.remove(a_opt)\n",
    "      # print('a_list = ', a_list)\n",
    "      at = np.random.choice(np.array(a_list))\n",
    "      return (at)\n",
    "    else:\n",
    "      return(a_opt)\n",
    "    #################################\n",
    "\n",
    "  def learn(self, experiences, discount):\n",
    "    \"\"\"\n",
    "    TODO: Complete this block to update the Q-Network using the target network\n",
    "    1. Compute target using  self.Q_target ( target = r + discount * max_b [Q_target(s,b)] )\n",
    "    2. Compute Q(s,a) using self.Q\n",
    "    3. Compute MSE loss between step 1 and step 2\n",
    "    4. Update your network\n",
    "    Input: experiences consisting of states,actions,rewards,next_states and discount factor\n",
    "    Return: None\n",
    "    \"\"\"\n",
    "    states, actions, rewards, next_states, dones = experiences\n",
    "    ###### TYPE YOUR CODE HERE ######\n",
    "    # Step 1:\n",
    "    target = rewards + discount * torch.max(self.Q_target(next_states), axis = 1, keepdim = True).values * (1 - dones)# change Q_target to Q\n",
    "    # Step 2:\n",
    "    Q_sa = torch.take_along_dim(self.Q(states), actions, dim = 1)\n",
    "    # Step 3:\n",
    "    loss = nn.MSELoss()\n",
    "    mse_loss = loss(target, Q_sa)\n",
    "    # Step 4:\n",
    "    self.optimizer.zero_grad()\n",
    "    mse_loss.backward()\n",
    "    self.optimizer.step()\n",
    "    #################################\n",
    "\n",
    "  def target_update(self, Q, Q_target, tau):\n",
    "    \"\"\"\n",
    "    TODO: Update the target network parameters (param_target) using current Q parameters (param_Q)\n",
    "    Perform the update using tau, this ensures that we do not change the target network drastically\n",
    "    1. param_target = tau * param_Q + (1 - tau) * param_target\n",
    "    Input: Q,Q_target,tau\n",
    "    Return: None\n",
    "    \"\"\"\n",
    "    ###### TYPE YOUR CODE HERE ######\n",
    "    for target_param, param in zip(Q_target.parameters(), Q.parameters()):\n",
    "        target_param.data.copy_(tau * param.data + (1 - tau) * target_param.data)\n",
    "    #################################\n",
    "\n",
    "  def get_optimal_policy(self, states):\n",
    "    \"\"\"Extracts the optimal policy after training.\"\"\"\n",
    "    policy = []\n",
    "    for state in states:\n",
    "      state = torch.from_numpy(state).to(self.device)\n",
    "      policy.append(np.argmax(self.Q(state).cpu().detach().numpy()))\n",
    "    return policy\n"
   ]
  },
  {
   "cell_type": "code",
   "execution_count": 20,
   "metadata": {},
   "outputs": [
    {
     "name": "stdout",
     "output_type": "stream",
     "text": [
      "Word embeddings loaded from:  mdp/runs_frozen/modified_perfect_w2v_embed_dim_32_FrozenLake-v1_map_size_4_stochastic_False_seed_42_epochs_50.npy\n"
     ]
    }
   ],
   "source": [
    "torch.manual_seed(seed)\n",
    "np.random.seed(seed)\n",
    "random.seed(seed)\n",
    "\n",
    "word_embeddings = np.load(f\"{runs_folder_path}/modified_{modified}_w2v_embed_dim_{embed_dim}_{filename}_epochs_{w2v_epochs}.npy\", allow_pickle=True).item()\n",
    "print(\"Word embeddings loaded from: \", f\"{runs_folder_path}/modified_{modified}_w2v_embed_dim_{embed_dim}_{filename}_epochs_{w2v_epochs}.npy\")\n",
    "\n",
    "state_embeddings = []\n",
    "states = []\n",
    "words = list(word_embeddings.keys())\n",
    "#   print(word_embeddings['s_0'])\n",
    "for i in range(state_dim):\n",
    "  #  states.append(i)\n",
    "  if 's_'+str(i) in words:\n",
    "      state_embeddings.append(word_embeddings['s_'+str(i)])\n",
    "      # print(f\"s_{i}: {word_embeddings['s_'+str(i)]}\")\n",
    "  else:\n",
    "      temp = np.random.randn(embed_dim).astype(np.float32)\n",
    "      temp /= np.abs(np.max(temp))\n",
    "      state_embeddings.append(temp)\n",
    "      print(f\"s_{i} not present in the w2v model, hence random vector initialized\")\n",
    "      # print(f\"s_{i}: {temp}\")\n",
    "\n",
    "kwargs = {\n",
    "    \"embed_dim\":embed_dim,\n",
    "    \"action_dim\":action_dim,\n",
    "    \"discount\":gamma,\n",
    "    \"tau\":args.tau,\n",
    "    \"lr\":args.lr,\n",
    "    \"update_freq\":args.update_freq,\n",
    "    \"max_size\":args.max_size,\n",
    "    \"batch_size\":args.batch_size,\n",
    "    \"gpu_index\":args.gpu_index\n",
    "  }\n",
    "learner = w2v_DQNAgent(**kwargs)"
   ]
  },
  {
   "cell_type": "code",
   "execution_count": 21,
   "metadata": {},
   "outputs": [
    {
     "name": "stdout",
     "output_type": "stream",
     "text": [
      "Embeddings are loaded. Now we train dqn\n"
     ]
    },
    {
     "name": "stderr",
     "output_type": "stream",
     "text": [
      "  0%|          | 11/2500 [00:00<00:25, 97.66it/s]"
     ]
    },
    {
     "name": "stdout",
     "output_type": "stream",
     "text": [
      "Episode Number 0 Average Episodic Reward (over 100 episodes): 0.00\n"
     ]
    },
    {
     "name": "stderr",
     "output_type": "stream",
     "text": [
      "  5%|▌         | 131/2500 [00:00<00:09, 237.01it/s]"
     ]
    },
    {
     "name": "stdout",
     "output_type": "stream",
     "text": [
      "Episode Number 100 Average Episodic Reward (over 100 episodes): 0.01\n"
     ]
    },
    {
     "name": "stderr",
     "output_type": "stream",
     "text": [
      "  9%|▉         | 229/2500 [00:01<00:12, 188.69it/s]"
     ]
    },
    {
     "name": "stdout",
     "output_type": "stream",
     "text": [
      "Episode Number 200 Average Episodic Reward (over 100 episodes): 0.05\n"
     ]
    },
    {
     "name": "stderr",
     "output_type": "stream",
     "text": [
      " 13%|█▎        | 325/2500 [00:01<00:12, 173.07it/s]"
     ]
    },
    {
     "name": "stdout",
     "output_type": "stream",
     "text": [
      "Episode Number 300 Average Episodic Reward (over 100 episodes): 0.00\n"
     ]
    },
    {
     "name": "stderr",
     "output_type": "stream",
     "text": [
      " 16%|█▋        | 408/2500 [00:03<00:49, 41.89it/s] "
     ]
    },
    {
     "name": "stdout",
     "output_type": "stream",
     "text": [
      "Episode Number 400 Average Episodic Reward (over 100 episodes): 0.16\n"
     ]
    },
    {
     "name": "stderr",
     "output_type": "stream",
     "text": [
      " 21%|██        | 528/2500 [00:04<00:10, 181.19it/s]"
     ]
    },
    {
     "name": "stdout",
     "output_type": "stream",
     "text": [
      "Episode Number 500 Average Episodic Reward (over 100 episodes): 0.87\n"
     ]
    },
    {
     "name": "stderr",
     "output_type": "stream",
     "text": [
      " 25%|██▌       | 628/2500 [00:04<00:08, 230.53it/s]"
     ]
    },
    {
     "name": "stdout",
     "output_type": "stream",
     "text": [
      "Episode Number 600 Average Episodic Reward (over 100 episodes): 0.91\n"
     ]
    },
    {
     "name": "stderr",
     "output_type": "stream",
     "text": [
      " 29%|██▉       | 728/2500 [00:05<00:07, 241.58it/s]"
     ]
    },
    {
     "name": "stdout",
     "output_type": "stream",
     "text": [
      "Episode Number 700 Average Episodic Reward (over 100 episodes): 0.92\n"
     ]
    },
    {
     "name": "stderr",
     "output_type": "stream",
     "text": [
      " 33%|███▎      | 828/2500 [00:05<00:06, 242.70it/s]"
     ]
    },
    {
     "name": "stdout",
     "output_type": "stream",
     "text": [
      "Episode Number 800 Average Episodic Reward (over 100 episodes): 0.97\n"
     ]
    },
    {
     "name": "stderr",
     "output_type": "stream",
     "text": [
      " 37%|███▋      | 930/2500 [00:06<00:06, 237.24it/s]"
     ]
    },
    {
     "name": "stdout",
     "output_type": "stream",
     "text": [
      "Episode Number 900 Average Episodic Reward (over 100 episodes): 0.97\n"
     ]
    },
    {
     "name": "stderr",
     "output_type": "stream",
     "text": [
      " 41%|████▏     | 1033/2500 [00:06<00:05, 244.97it/s]"
     ]
    },
    {
     "name": "stdout",
     "output_type": "stream",
     "text": [
      "Episode Number 1000 Average Episodic Reward (over 100 episodes): 0.98\n"
     ]
    },
    {
     "name": "stderr",
     "output_type": "stream",
     "text": [
      " 45%|████▌     | 1134/2500 [00:07<00:05, 241.56it/s]"
     ]
    },
    {
     "name": "stdout",
     "output_type": "stream",
     "text": [
      "Episode Number 1100 Average Episodic Reward (over 100 episodes): 0.99\n"
     ]
    },
    {
     "name": "stderr",
     "output_type": "stream",
     "text": [
      " 49%|████▉     | 1233/2500 [00:07<00:05, 239.65it/s]"
     ]
    },
    {
     "name": "stdout",
     "output_type": "stream",
     "text": [
      "Episode Number 1200 Average Episodic Reward (over 100 episodes): 0.97\n"
     ]
    },
    {
     "name": "stderr",
     "output_type": "stream",
     "text": [
      " 53%|█████▎    | 1334/2500 [00:07<00:04, 241.67it/s]"
     ]
    },
    {
     "name": "stdout",
     "output_type": "stream",
     "text": [
      "Episode Number 1300 Average Episodic Reward (over 100 episodes): 0.97\n"
     ]
    },
    {
     "name": "stderr",
     "output_type": "stream",
     "text": [
      " 57%|█████▋    | 1433/2500 [00:08<00:04, 227.82it/s]"
     ]
    },
    {
     "name": "stdout",
     "output_type": "stream",
     "text": [
      "Episode Number 1400 Average Episodic Reward (over 100 episodes): 0.98\n"
     ]
    },
    {
     "name": "stderr",
     "output_type": "stream",
     "text": [
      " 61%|██████▏   | 1533/2500 [00:08<00:04, 238.22it/s]"
     ]
    },
    {
     "name": "stdout",
     "output_type": "stream",
     "text": [
      "Episode Number 1500 Average Episodic Reward (over 100 episodes): 0.98\n"
     ]
    },
    {
     "name": "stderr",
     "output_type": "stream",
     "text": [
      " 65%|██████▌   | 1632/2500 [00:09<00:03, 237.87it/s]"
     ]
    },
    {
     "name": "stdout",
     "output_type": "stream",
     "text": [
      "Episode Number 1600 Average Episodic Reward (over 100 episodes): 1.00\n"
     ]
    },
    {
     "name": "stderr",
     "output_type": "stream",
     "text": [
      " 69%|██████▉   | 1736/2500 [00:09<00:03, 250.04it/s]"
     ]
    },
    {
     "name": "stdout",
     "output_type": "stream",
     "text": [
      "Episode Number 1700 Average Episodic Reward (over 100 episodes): 1.00\n"
     ]
    },
    {
     "name": "stderr",
     "output_type": "stream",
     "text": [
      " 74%|███████▎  | 1840/2500 [00:09<00:02, 251.50it/s]"
     ]
    },
    {
     "name": "stdout",
     "output_type": "stream",
     "text": [
      "Episode Number 1800 Average Episodic Reward (over 100 episodes): 0.98\n"
     ]
    },
    {
     "name": "stderr",
     "output_type": "stream",
     "text": [
      " 78%|███████▊  | 1941/2500 [00:10<00:02, 239.70it/s]"
     ]
    },
    {
     "name": "stdout",
     "output_type": "stream",
     "text": [
      "Episode Number 1900 Average Episodic Reward (over 100 episodes): 0.98\n"
     ]
    },
    {
     "name": "stderr",
     "output_type": "stream",
     "text": [
      " 82%|████████▏ | 2044/2500 [00:10<00:01, 250.50it/s]"
     ]
    },
    {
     "name": "stdout",
     "output_type": "stream",
     "text": [
      "Episode Number 2000 Average Episodic Reward (over 100 episodes): 1.00\n"
     ]
    },
    {
     "name": "stderr",
     "output_type": "stream",
     "text": [
      " 86%|████████▌ | 2146/2500 [00:11<00:01, 246.44it/s]"
     ]
    },
    {
     "name": "stdout",
     "output_type": "stream",
     "text": [
      "Episode Number 2100 Average Episodic Reward (over 100 episodes): 0.99\n"
     ]
    },
    {
     "name": "stderr",
     "output_type": "stream",
     "text": [
      " 90%|████████▉ | 2243/2500 [00:11<00:01, 230.48it/s]"
     ]
    },
    {
     "name": "stdout",
     "output_type": "stream",
     "text": [
      "Episode Number 2200 Average Episodic Reward (over 100 episodes): 0.98\n"
     ]
    },
    {
     "name": "stderr",
     "output_type": "stream",
     "text": [
      " 94%|█████████▎| 2340/2500 [00:12<00:00, 232.69it/s]"
     ]
    },
    {
     "name": "stdout",
     "output_type": "stream",
     "text": [
      "Episode Number 2300 Average Episodic Reward (over 100 episodes): 0.98\n"
     ]
    },
    {
     "name": "stderr",
     "output_type": "stream",
     "text": [
      " 97%|█████████▋| 2436/2500 [00:12<00:00, 231.28it/s]"
     ]
    },
    {
     "name": "stdout",
     "output_type": "stream",
     "text": [
      "Episode Number 2400 Average Episodic Reward (over 100 episodes): 0.99\n"
     ]
    },
    {
     "name": "stderr",
     "output_type": "stream",
     "text": [
      "100%|██████████| 2500/2500 [00:12<00:00, 195.70it/s]"
     ]
    },
    {
     "name": "stdout",
     "output_type": "stream",
     "text": [
      "Model saved at:  mdp/runs_frozen/w2v_dqn_modified_perfect_w2v_embed_dim_32_FrozenLake-v1_map_size_4_stochastic_False_seed_42_epochs_50.pt\n",
      "Final policy:  [1, 0, 0, 1, 1, 0, 1, 1, 2, 2, 1, 2, 3, 0, 2, 3]\n",
      "State: Type -    action taken\n",
      "     0:   S - 1-->Down\n",
      "     1:   F - 0-->Left\n",
      "     2:   H - 0-->Left\n",
      "     3:   F - 1-->Down\n",
      "     4:   F - 1-->Down\n",
      "     5:   H - 0-->Left\n",
      "     6:   F - 1-->Down\n",
      "     7:   F - 1-->Down\n",
      "     8:   F - 2-->Right\n",
      "     9:   F - 2-->Right\n",
      "     10:   F - 1-->Down\n",
      "     11:   H - 2-->Right\n",
      "     12:   F - 3-->Up\n",
      "     13:   H - 0-->Left\n",
      "     14:   F - 2-->Right\n",
      "     15:   G - 3-->Up\n",
      "It was successful!\n"
     ]
    },
    {
     "name": "stderr",
     "output_type": "stream",
     "text": [
      "\n"
     ]
    }
   ],
   "source": [
    "# one_hot_state = state_embeddings\n",
    "print(\"Embeddings are loaded. Now we train dqn\")\n",
    "# print(one_hot_state)\n",
    "\n",
    "# f = open('dqn_mountaincar.txt', 'w') # file to store the training log\n",
    "temp_file = f\"{runs_folder_path}/w2v_logger_{filename}.txt\"\n",
    "f = open(temp_file, 'w') # file to store the training log\n",
    "reward_curve = [] # this will store the moving avg of rewards\n",
    "moving_window = deque(maxlen=100)\n",
    "epsilon = args.epsilon_start\n",
    "count = 0\n",
    "for e in tqdm(range(args.n_episodes)):\n",
    "    state, _ = env.reset(seed=seed)\n",
    "    curr_reward = 0\n",
    "    for t in range(args.max_esp_len):\n",
    "        action = learner.select_action(state_embeddings[state],epsilon)\n",
    "        # n_state,reward,terminated,truncated,_ = env.step(action)\n",
    "        # done = terminated or truncated\n",
    "        n_state,reward,done,_,_ = env.step(action)\n",
    "        learner.step(state_embeddings[state],action,reward,state_embeddings[n_state],done)\n",
    "        state = n_state\n",
    "        curr_reward += reward\n",
    "        if done:\n",
    "            break\n",
    "    moving_window.append(curr_reward)\n",
    "    reward_curve.append(np.mean(moving_window))\n",
    "\n",
    "    \"\"\"\"\n",
    "    TODO: Write code for decaying the exploration rate using args.epsilon_decay\n",
    "    and args.epsilon_end. Note that epsilon has been initialized to args.epsilon_start\n",
    "    1. You are encouraged to try new methods\n",
    "    \"\"\"\n",
    "    ###### TYPE YOUR CODE HERE ######\n",
    "    epsilon *= args.epsilon_decay\n",
    "    epsilon = max(epsilon, args.epsilon_end)\n",
    "    # print('current epsilon = ', epsilon)\n",
    "    #################################\n",
    "\n",
    "    if e % 100 == 0:\n",
    "        print('Episode Number {} Average Episodic Reward (over 100 episodes): {:.2f}'.format(e, np.mean(moving_window)))\n",
    "\n",
    "    f.write('Episode Number {} Average Episodic Reward (over 100 episodes): {:.2f} \\n'.format(e, np.mean(moving_window)))\n",
    "    #################################\n",
    "\n",
    "f.close() # to close the file\n",
    "\n",
    "# Now we save the trained model\n",
    "rew_file = f\"{runs_folder_path}/rewards_w2v_dqn_modified_{modified}_w2v_embed_dim_{embed_dim}_{filename}_epochs_{w2v_epochs}.npy\"\n",
    "np.save(rew_file, reward_curve)\n",
    "model_saved_file = f\"{runs_folder_path}/w2v_dqn_modified_{modified}_w2v_embed_dim_{embed_dim}_{filename}_epochs_{w2v_epochs}.pt\"\n",
    "torch.save(learner.Q.state_dict(), model_saved_file)\n",
    "print(\"Model saved at: \", model_saved_file)\n",
    "\n",
    "final_policy = learner.get_optimal_policy(state_embeddings)\n",
    "print(\"Final policy: \", final_policy)\n",
    "state = 0\n",
    "# Define action map\n",
    "action_map = {\n",
    "0: \"Left\",\n",
    "1: \"Down\",\n",
    "2: \"Right\",\n",
    "3: \"Up\"\n",
    "}\n",
    "print(\"State: Type -    action taken\")\n",
    "lake_grid = env.unwrapped.desc  # Gets the grid representation\n",
    "for row in lake_grid:\n",
    "    for cell in row:\n",
    "        print(f\"     {state}:   {cell.decode('utf-8')} - {final_policy[state]}-->{action_map[final_policy[state]]}\")  # Convert byte to string\n",
    "        state += 1\n",
    "\n",
    "print('It was successful!')\n"
   ]
  },
  {
   "cell_type": "code",
   "execution_count": 44,
   "metadata": {},
   "outputs": [
    {
     "name": "stdout",
     "output_type": "stream",
     "text": [
      "Frozen Lake Grid Layout:\n",
      "S H F F\n",
      "F F F F\n",
      "F H H F\n",
      "F F F G\n",
      "Goal State: 15\n"
     ]
    }
   ],
   "source": [
    "if check_env_details:\n",
    "    # Extract the environment description (grid layout)\n",
    "    lake_grid = env.unwrapped.desc  # Gets the grid representation\n",
    "\n",
    "    # Print state-to-symbol mapping\n",
    "    print(\"Frozen Lake Grid Layout:\")\n",
    "    for row in lake_grid:\n",
    "        print(\" \".join(row.astype(str)))\n",
    "\n",
    "    goal_state = None\n",
    "    rows, cols = lake_grid.shape\n",
    "    for i in range(rows):\n",
    "        for j in range(cols):\n",
    "            if lake_grid[i, j] == b'G':  # 'G' is stored as a byte-string\n",
    "                goal_state = i * cols + j  # Convert (row, col) to state number\n",
    "                break\n",
    "        # end for j\n",
    "    # end for i\n",
    "    print(f\"Goal State: {goal_state}\")"
   ]
  },
  {
   "cell_type": "markdown",
   "metadata": {},
   "source": [
    "Embeddings are loaded. Now we train dqn\n",
    "  1%|          | 20/2500 [00:00<00:12, 192.78it/s]Episode Number 0 Average Episodic Reward (over 100 episodes): 0.00\n",
    "  5%|▍         | 114/2500 [00:00<00:22, 105.49it/s]Episode Number 100 Average Episodic Reward (over 100 episodes): 0.06\n",
    "  8%|▊         | 207/2500 [00:02<00:38, 58.89it/s] Episode Number 200 Average Episodic Reward (over 100 episodes): 0.32\n",
    " 12%|█▏        | 307/2500 [00:04<00:38, 57.36it/s]Episode Number 300 Average Episodic Reward (over 100 episodes): 0.33\n",
    " 16%|█▋        | 411/2500 [00:06<00:30, 68.67it/s]Episode Number 400 Average Episodic Reward (over 100 episodes): 0.36\n",
    " 20%|██        | 512/2500 [00:07<00:23, 83.92it/s] Episode Number 500 Average Episodic Reward (over 100 episodes): 0.86\n",
    " 25%|██▌       | 630/2500 [00:08<00:10, 177.47it/s]Episode Number 600 Average Episodic Reward (over 100 episodes): 0.99\n",
    " 29%|██▉       | 735/2500 [00:08<00:07, 239.58it/s]Episode Number 700 Average Episodic Reward (over 100 episodes): 1.00\n",
    " 33%|███▎      | 835/2500 [00:09<00:07, 230.26it/s]Episode Number 800 Average Episodic Reward (over 100 episodes): 0.99\n",
    " 36%|███▋      | 909/2500 [00:09<00:06, 231.43it/s]Episode Number 900 Average Episodic Reward (over 100 episodes): 1.00\n",
    " 41%|████      | 1030/2500 [00:10<00:07, 205.70it/s]Episode Number 1000 Average Episodic Reward (over 100 episodes): 0.98\n",
    " 45%|████▌     | 1130/2500 [00:10<00:05, 234.50it/s]Episode Number 1100 Average Episodic Reward (over 100 episodes): 0.99\n",
    " 49%|████▉     | 1230/2500 [00:11<00:05, 234.98it/s]Episode Number 1200 Average Episodic Reward (over 100 episodes): 1.00\n",
    " 53%|█████▎    | 1330/2500 [00:11<00:04, 243.57it/s]Episode Number 1300 Average Episodic Reward (over 100 episodes): 1.00\n",
    " 57%|█████▋    | 1428/2500 [00:12<00:04, 229.95it/s]Episode Number 1400 Average Episodic Reward (over 100 episodes): 0.98\n",
    " 61%|██████    | 1528/2500 [00:12<00:04, 241.64it/s]Episode Number 1500 Average Episodic Reward (over 100 episodes): 1.00\n",
    " 65%|██████▌   | 1627/2500 [00:12<00:03, 240.56it/s]Episode Number 1600 Average Episodic Reward (over 100 episodes): 1.00\n",
    " 69%|██████▉   | 1726/2500 [00:13<00:03, 220.15it/s]Episode Number 1700 Average Episodic Reward (over 100 episodes): 1.00\n",
    " 74%|███████▍  | 1845/2500 [00:13<00:02, 226.22it/s]Episode Number 1800 Average Episodic Reward (over 100 episodes): 1.00\n",
    " 78%|███████▊  | 1940/2500 [00:14<00:02, 224.53it/s]Episode Number 1900 Average Episodic Reward (over 100 episodes): 1.00\n",
    " 82%|████████▏ | 2039/2500 [00:14<00:01, 232.63it/s]Episode Number 2000 Average Episodic Reward (over 100 episodes): 1.00\n",
    " 86%|████████▌ | 2139/2500 [00:15<00:01, 242.55it/s]Episode Number 2100 Average Episodic Reward (over 100 episodes): 1.00\n",
    " 89%|████████▉ | 2234/2500 [00:15<00:01, 220.32it/s]Episode Number 2200 Average Episodic Reward (over 100 episodes): 1.00\n",
    " 93%|█████████▎| 2331/2500 [00:15<00:00, 227.83it/s]Episode Number 2300 Average Episodic Reward (over 100 episodes): 1.00\n",
    " 97%|█████████▋| 2437/2500 [00:16<00:00, 250.88it/s]Episode Number 2400 Average Episodic Reward (over 100 episodes): 1.00\n",
    "100%|██████████| 2500/2500 [00:16<00:00, 150.47it/s]Model saved at:  mdp/runs_frozen/w2v_dqn_modified_medium_w2v_embed_dim_32_FrozenLake-v1_map_size_4_stochastic_False_seed_6_epochs_60.pt\n",
    "Final policy:  [1, 1, 0, 1, 1, 1, 1, 0, 2, 1, 1, 3, 2, 2, 2, 2]\n",
    "State: Type -    action taken\n",
    "     0:   S - 1-->Down\n",
    "     1:   F - 1-->Down\n",
    "     2:   H - 0-->Left\n",
    "     3:   F - 1-->Down\n",
    "     4:   F - 1-->Down\n",
    "     5:   F - 1-->Down\n",
    "     6:   F - 1-->Down\n",
    "     7:   F - 0-->Left\n",
    "     8:   F - 2-->Right\n",
    "     9:   F - 1-->Down\n",
    "     10:   F - 1-->Down\n",
    "     11:   H - 3-->Up\n",
    "     12:   F - 2-->Right\n",
    "     13:   F - 2-->Right\n",
    "     14:   F - 2-->Right\n",
    "     15:   G - 2-->Right\n",
    "It was successful!"
   ]
  },
  {
   "cell_type": "markdown",
   "metadata": {},
   "source": [
    "## Vanilla DQN (without w2v)"
   ]
  },
  {
   "cell_type": "code",
   "execution_count": 45,
   "metadata": {},
   "outputs": [],
   "source": [
    "class QNetwork(nn.Module):\n",
    "  \"\"\"\n",
    "  Q Network: designed to take state as input and give out Q values of actions as output\n",
    "  \"\"\"\n",
    "\n",
    "  def __init__(self, state_dim, action_dim):\n",
    "    \"\"\"\n",
    "      state_dim (int): state dimenssion\n",
    "      action_dim (int): action dimenssion\n",
    "    \"\"\"\n",
    "    super(QNetwork, self).__init__()\n",
    "    self.l1 = nn.Linear(state_dim, 64)\n",
    "    self.l2 = nn.Linear(64, 64)\n",
    "    self.l3 = nn.Linear(64, action_dim)\n",
    "\n",
    "  def forward(self, state):\n",
    "    q = F.relu(self.l1(state))\n",
    "    q = F.relu(self.l2(q))\n",
    "    return self.l3(q)\n"
   ]
  },
  {
   "cell_type": "code",
   "execution_count": 46,
   "metadata": {},
   "outputs": [],
   "source": [
    "\n",
    "class DQNAgent():\n",
    "\n",
    "  def __init__(self,\n",
    "   state_dim,\n",
    "   action_dim,\n",
    "   discount=0.99,\n",
    "   tau=1e-3,\n",
    "   lr=5e-4,\n",
    "   update_freq=4,\n",
    "   max_size=int(1e5),\n",
    "   batch_size=64,\n",
    "   gpu_index=0\n",
    "   ):\n",
    "    \"\"\"\n",
    "      state_size (int): dimension of each state\n",
    "      action_size (int): dimension of each action\n",
    "      discount (float): discount factor\n",
    "      tau (float): used to update q-target\n",
    "      lr (float): learning rate\n",
    "      update_freq (int): update frequency of target network\n",
    "      max_size (int): experience replay buffer size\n",
    "      batch_size (int): training batch size\n",
    "      gpu_index (int): GPU used for training\n",
    "    \"\"\"\n",
    "    self.state_dim = state_dim\n",
    "    self.action_dim = action_dim\n",
    "    self.discount = discount\n",
    "    self.tau = tau\n",
    "    self.lr = lr\n",
    "    self.update_freq = update_freq\n",
    "    self.batch_size = batch_size\n",
    "    self.device = torch.device('cuda', index=gpu_index) if torch.cuda.is_available() else torch.device('cpu')\n",
    "\n",
    "\n",
    "    # Setting up the NNs\n",
    "    self.Q = QNetwork(state_dim, action_dim).to(self.device)\n",
    "    self.Q_target = QNetwork(state_dim, action_dim).to(self.device)\n",
    "    self.optimizer = optim.Adam(self.Q.parameters(), lr=self.lr)\n",
    "\n",
    "    # Experience Replay Buffer\n",
    "    self.memory = ExperienceReplay(state_dim,1,max_size,self.batch_size,gpu_index)\n",
    "\n",
    "    self.t_train = 0\n",
    "\n",
    "  def step(self, state, action, reward, next_state, done):\n",
    "    \"\"\"\n",
    "    1. Adds (s,a,r,s') to the experience replay buffer, and updates the networks\n",
    "    2. Learns when the experience replay buffer has enough samples\n",
    "    3. Updates target netowork\n",
    "    \"\"\"\n",
    "    self.memory.add(state, action, reward, next_state, done)\n",
    "    self.t_train += 1\n",
    "\n",
    "    if self.memory.size > self.batch_size:\n",
    "      experiences = self.memory.sample()\n",
    "      self.learn(experiences, self.discount) #To be implemented\n",
    "\n",
    "    if (self.t_train % self.update_freq) == 0:\n",
    "      self.target_update(self.Q, self.Q_target, self.tau) #To be implemented\n",
    "\n",
    "  def select_action(self, state, epsilon):\n",
    "    \"\"\"\n",
    "    TODO: Complete this block to select action using epsilon greedy exploration\n",
    "    strategy\n",
    "    Input: state, epsilon\n",
    "    Return: Action\n",
    "    Return Type: int\n",
    "    \"\"\"\n",
    "    ###### TYPE YOUR CODE HERE ######\n",
    "    # We generate a random number between 0 and 1\n",
    "    rand_num = np.random.random()\n",
    "    state = torch.from_numpy(state).to(self.device)\n",
    "    a_opt = np.argmax(self.Q(state).cpu().detach().numpy())\n",
    "    if rand_num<epsilon:\n",
    "      a_list = [y for y in range(self.action_dim)]\n",
    "      # print('a_list = ', a_list)\n",
    "      a_list.remove(a_opt)\n",
    "      # print('a_list = ', a_list)\n",
    "      at = np.random.choice(np.array(a_list))\n",
    "      return (at)\n",
    "    else:\n",
    "      return(a_opt)\n",
    "    #################################\n",
    "\n",
    "  def learn(self, experiences, discount):\n",
    "    \"\"\"\n",
    "    TODO: Complete this block to update the Q-Network using the target network\n",
    "    1. Compute target using  self.Q_target ( target = r + discount * max_b [Q_target(s,b)] )\n",
    "    2. Compute Q(s,a) using self.Q\n",
    "    3. Compute MSE loss between step 1 and step 2\n",
    "    4. Update your network\n",
    "    Input: experiences consisting of states,actions,rewards,next_states and discount factor\n",
    "    Return: None\n",
    "    \"\"\"\n",
    "    states, actions, rewards, next_states, dones = experiences\n",
    "    ###### TYPE YOUR CODE HERE ######\n",
    "    # Step 1:\n",
    "    target = rewards + discount * torch.max(self.Q_target(next_states), axis = 1, keepdim = True).values * (1 - dones)# change Q_target to Q\n",
    "    # Step 2:\n",
    "    Q_sa = torch.take_along_dim(self.Q(states), actions, dim = 1)\n",
    "    # Step 3:\n",
    "    loss = nn.MSELoss()\n",
    "    mse_loss = loss(target, Q_sa)\n",
    "    # Step 4:\n",
    "    self.optimizer.zero_grad()\n",
    "    mse_loss.backward()\n",
    "    self.optimizer.step()\n",
    "    #################################\n",
    "\n",
    "  def target_update(self, Q, Q_target, tau):\n",
    "    \"\"\"\n",
    "    TODO: Update the target network parameters (param_target) using current Q parameters (param_Q)\n",
    "    Perform the update using tau, this ensures that we do not change the target network drastically\n",
    "    1. param_target = tau * param_Q + (1 - tau) * param_target\n",
    "    Input: Q,Q_target,tau\n",
    "    Return: None\n",
    "    \"\"\"\n",
    "    ###### TYPE YOUR CODE HERE ######\n",
    "    for target_param, param in zip(Q_target.parameters(), Q.parameters()):\n",
    "        target_param.data.copy_(tau * param.data + (1 - tau) * target_param.data)\n",
    "    #################################\n",
    "\n",
    "  def get_optimal_policy(self, states):\n",
    "    \"\"\"Extracts the optimal policy after training.\"\"\"\n",
    "    policy = []\n",
    "    for state in states:\n",
    "      state = torch.from_numpy(state).to(self.device)\n",
    "      policy.append(np.argmax(self.Q(state).cpu().detach().numpy()))\n",
    "    return policy"
   ]
  },
  {
   "cell_type": "markdown",
   "metadata": {},
   "source": [
    "### To run the DQN code"
   ]
  },
  {
   "cell_type": "code",
   "execution_count": 47,
   "metadata": {},
   "outputs": [],
   "source": [
    "torch.manual_seed(seed)\n",
    "np.random.seed(seed)\n",
    "random.seed(seed)\n",
    "\n",
    "kwargs = {\n",
    "    \"state_dim\":state_dim,\n",
    "    \"action_dim\":action_dim,\n",
    "    \"discount\":gamma,\n",
    "    \"tau\":args.tau,\n",
    "    \"lr\":args.lr,\n",
    "    \"update_freq\":args.update_freq,\n",
    "    \"max_size\":args.max_size,\n",
    "    \"batch_size\":args.batch_size,\n",
    "    \"gpu_index\":args.gpu_index\n",
    "  }\n",
    "learner = DQNAgent(**kwargs)"
   ]
  },
  {
   "cell_type": "code",
   "execution_count": 48,
   "metadata": {},
   "outputs": [
    {
     "name": "stdout",
     "output_type": "stream",
     "text": [
      "One hot state defined. Now we train dqn\n"
     ]
    },
    {
     "name": "stderr",
     "output_type": "stream",
     "text": [
      "  0%|          | 10/2500 [00:00<00:25, 98.84it/s]"
     ]
    },
    {
     "name": "stdout",
     "output_type": "stream",
     "text": [
      "Episode Number 0 Average Episodic Reward (over 100 episodes): 0.00\n"
     ]
    },
    {
     "name": "stderr",
     "output_type": "stream",
     "text": [
      "  5%|▌         | 126/2500 [00:00<00:10, 237.27it/s]"
     ]
    },
    {
     "name": "stdout",
     "output_type": "stream",
     "text": [
      "Episode Number 100 Average Episodic Reward (over 100 episodes): 0.04\n"
     ]
    },
    {
     "name": "stderr",
     "output_type": "stream",
     "text": [
      "  9%|▉         | 219/2500 [00:01<00:12, 177.26it/s]"
     ]
    },
    {
     "name": "stdout",
     "output_type": "stream",
     "text": [
      "Episode Number 200 Average Episodic Reward (over 100 episodes): 0.02\n"
     ]
    },
    {
     "name": "stderr",
     "output_type": "stream",
     "text": [
      " 12%|█▏        | 307/2500 [00:02<00:38, 56.65it/s] "
     ]
    },
    {
     "name": "stdout",
     "output_type": "stream",
     "text": [
      "Episode Number 300 Average Episodic Reward (over 100 episodes): 0.17\n"
     ]
    },
    {
     "name": "stderr",
     "output_type": "stream",
     "text": [
      " 17%|█▋        | 418/2500 [00:03<00:21, 96.74it/s] "
     ]
    },
    {
     "name": "stdout",
     "output_type": "stream",
     "text": [
      "Episode Number 400 Average Episodic Reward (over 100 episodes): 0.25\n"
     ]
    },
    {
     "name": "stderr",
     "output_type": "stream",
     "text": [
      " 21%|██        | 523/2500 [00:04<00:11, 165.37it/s]"
     ]
    },
    {
     "name": "stdout",
     "output_type": "stream",
     "text": [
      "Episode Number 500 Average Episodic Reward (over 100 episodes): 0.74\n"
     ]
    },
    {
     "name": "stderr",
     "output_type": "stream",
     "text": [
      " 26%|██▌       | 640/2500 [00:05<00:08, 215.38it/s]"
     ]
    },
    {
     "name": "stdout",
     "output_type": "stream",
     "text": [
      "Episode Number 600 Average Episodic Reward (over 100 episodes): 0.92\n"
     ]
    },
    {
     "name": "stderr",
     "output_type": "stream",
     "text": [
      " 29%|██▉       | 735/2500 [00:05<00:07, 228.75it/s]"
     ]
    },
    {
     "name": "stdout",
     "output_type": "stream",
     "text": [
      "Episode Number 700 Average Episodic Reward (over 100 episodes): 0.93\n"
     ]
    },
    {
     "name": "stderr",
     "output_type": "stream",
     "text": [
      " 33%|███▎      | 829/2500 [00:06<00:07, 231.45it/s]"
     ]
    },
    {
     "name": "stdout",
     "output_type": "stream",
     "text": [
      "Episode Number 800 Average Episodic Reward (over 100 episodes): 0.97\n"
     ]
    },
    {
     "name": "stderr",
     "output_type": "stream",
     "text": [
      " 37%|███▋      | 925/2500 [00:06<00:06, 233.91it/s]"
     ]
    },
    {
     "name": "stdout",
     "output_type": "stream",
     "text": [
      "Episode Number 900 Average Episodic Reward (over 100 episodes): 0.99\n"
     ]
    },
    {
     "name": "stderr",
     "output_type": "stream",
     "text": [
      " 42%|████▏     | 1045/2500 [00:06<00:06, 231.76it/s]"
     ]
    },
    {
     "name": "stdout",
     "output_type": "stream",
     "text": [
      "Episode Number 1000 Average Episodic Reward (over 100 episodes): 0.98\n"
     ]
    },
    {
     "name": "stderr",
     "output_type": "stream",
     "text": [
      " 46%|████▌     | 1140/2500 [00:07<00:05, 227.40it/s]"
     ]
    },
    {
     "name": "stdout",
     "output_type": "stream",
     "text": [
      "Episode Number 1100 Average Episodic Reward (over 100 episodes): 0.98\n"
     ]
    },
    {
     "name": "stderr",
     "output_type": "stream",
     "text": [
      " 49%|████▉     | 1232/2500 [00:07<00:05, 223.45it/s]"
     ]
    },
    {
     "name": "stdout",
     "output_type": "stream",
     "text": [
      "Episode Number 1200 Average Episodic Reward (over 100 episodes): 1.00\n"
     ]
    },
    {
     "name": "stderr",
     "output_type": "stream",
     "text": [
      " 53%|█████▎    | 1327/2500 [00:08<00:05, 231.23it/s]"
     ]
    },
    {
     "name": "stdout",
     "output_type": "stream",
     "text": [
      "Episode Number 1300 Average Episodic Reward (over 100 episodes): 0.98\n"
     ]
    },
    {
     "name": "stderr",
     "output_type": "stream",
     "text": [
      " 58%|█████▊    | 1448/2500 [00:08<00:04, 237.19it/s]"
     ]
    },
    {
     "name": "stdout",
     "output_type": "stream",
     "text": [
      "Episode Number 1400 Average Episodic Reward (over 100 episodes): 0.98\n"
     ]
    },
    {
     "name": "stderr",
     "output_type": "stream",
     "text": [
      " 62%|██████▏   | 1544/2500 [00:09<00:04, 235.65it/s]"
     ]
    },
    {
     "name": "stdout",
     "output_type": "stream",
     "text": [
      "Episode Number 1500 Average Episodic Reward (over 100 episodes): 0.97\n"
     ]
    },
    {
     "name": "stderr",
     "output_type": "stream",
     "text": [
      " 66%|██████▌   | 1641/2500 [00:09<00:03, 236.20it/s]"
     ]
    },
    {
     "name": "stdout",
     "output_type": "stream",
     "text": [
      "Episode Number 1600 Average Episodic Reward (over 100 episodes): 0.98\n"
     ]
    },
    {
     "name": "stderr",
     "output_type": "stream",
     "text": [
      " 69%|██████▉   | 1737/2500 [00:09<00:03, 233.40it/s]"
     ]
    },
    {
     "name": "stdout",
     "output_type": "stream",
     "text": [
      "Episode Number 1700 Average Episodic Reward (over 100 episodes): 0.97\n"
     ]
    },
    {
     "name": "stderr",
     "output_type": "stream",
     "text": [
      " 73%|███████▎  | 1834/2500 [00:10<00:02, 237.75it/s]"
     ]
    },
    {
     "name": "stdout",
     "output_type": "stream",
     "text": [
      "Episode Number 1800 Average Episodic Reward (over 100 episodes): 0.99\n"
     ]
    },
    {
     "name": "stderr",
     "output_type": "stream",
     "text": [
      " 77%|███████▋  | 1931/2500 [00:10<00:02, 238.44it/s]"
     ]
    },
    {
     "name": "stdout",
     "output_type": "stream",
     "text": [
      "Episode Number 1900 Average Episodic Reward (over 100 episodes): 0.97\n"
     ]
    },
    {
     "name": "stderr",
     "output_type": "stream",
     "text": [
      " 81%|████████  | 2027/2500 [00:11<00:02, 235.15it/s]"
     ]
    },
    {
     "name": "stdout",
     "output_type": "stream",
     "text": [
      "Episode Number 2000 Average Episodic Reward (over 100 episodes): 0.98\n"
     ]
    },
    {
     "name": "stderr",
     "output_type": "stream",
     "text": [
      " 86%|████████▌ | 2146/2500 [00:11<00:01, 229.48it/s]"
     ]
    },
    {
     "name": "stdout",
     "output_type": "stream",
     "text": [
      "Episode Number 2100 Average Episodic Reward (over 100 episodes): 1.00\n"
     ]
    },
    {
     "name": "stderr",
     "output_type": "stream",
     "text": [
      " 90%|████████▉ | 2241/2500 [00:12<00:01, 227.55it/s]"
     ]
    },
    {
     "name": "stdout",
     "output_type": "stream",
     "text": [
      "Episode Number 2200 Average Episodic Reward (over 100 episodes): 1.00\n"
     ]
    },
    {
     "name": "stderr",
     "output_type": "stream",
     "text": [
      " 93%|█████████▎| 2334/2500 [00:12<00:00, 221.29it/s]"
     ]
    },
    {
     "name": "stdout",
     "output_type": "stream",
     "text": [
      "Episode Number 2300 Average Episodic Reward (over 100 episodes): 0.98\n"
     ]
    },
    {
     "name": "stderr",
     "output_type": "stream",
     "text": [
      " 97%|█████████▋| 2423/2500 [00:12<00:00, 214.96it/s]"
     ]
    },
    {
     "name": "stdout",
     "output_type": "stream",
     "text": [
      "Episode Number 2400 Average Episodic Reward (over 100 episodes): 1.00\n"
     ]
    },
    {
     "name": "stderr",
     "output_type": "stream",
     "text": [
      "100%|██████████| 2500/2500 [00:13<00:00, 187.27it/s]"
     ]
    },
    {
     "name": "stdout",
     "output_type": "stream",
     "text": [
      "Model saved at:  mdp/runs_frozen/dqn_FrozenLake-v1_map_size_4_stochastic_False_seed_19.pt\n",
      "Final policy:  [1, 2, 2, 1, 2, 2, 2, 1, 1, 2, 2, 1, 2, 2, 2, 2]\n",
      "State: Type -    action taken\n",
      "     0:   S - 1-->Down\n",
      "     1:   H - 2-->Right\n",
      "     2:   F - 2-->Right\n",
      "     3:   F - 1-->Down\n",
      "     4:   F - 2-->Right\n",
      "     5:   F - 2-->Right\n",
      "     6:   F - 2-->Right\n",
      "     7:   F - 1-->Down\n",
      "     8:   F - 1-->Down\n",
      "     9:   H - 2-->Right\n",
      "     10:   H - 2-->Right\n",
      "     11:   F - 1-->Down\n",
      "     12:   F - 2-->Right\n",
      "     13:   F - 2-->Right\n",
      "     14:   F - 2-->Right\n",
      "     15:   G - 2-->Right\n",
      "It was successful!\n"
     ]
    },
    {
     "name": "stderr",
     "output_type": "stream",
     "text": [
      "\n"
     ]
    }
   ],
   "source": [
    "one_hot_state = np.float32(np.eye(state_dim))\n",
    "print(\"One hot state defined. Now we train dqn\")\n",
    "\n",
    "temp_file = f\"{runs_folder_path}/dqn_logger_{filename}.txt\"\n",
    "f = open(temp_file, 'w') # file to store the training log\n",
    "reward_curve = [] # this will store the moving avg of rewards\n",
    "moving_window = deque(maxlen=100)\n",
    "epsilon = args.epsilon_start\n",
    "count = 0\n",
    "for e in tqdm(range(args.n_episodes)):\n",
    "    state, _ = env.reset(seed=seed)\n",
    "    curr_reward = 0\n",
    "    for t in range(args.max_esp_len):\n",
    "        action = learner.select_action(one_hot_state[state],epsilon)\n",
    "        # n_state,reward,terminated,truncated,_ = env.step(action)\n",
    "        # done = terminated or truncated\n",
    "        n_state,reward,done,_,_ = env.step(action)\n",
    "        learner.step(one_hot_state[state],action,reward,one_hot_state[n_state],done)\n",
    "        state = n_state\n",
    "        curr_reward += reward\n",
    "        if done:\n",
    "            break\n",
    "    moving_window.append(curr_reward)\n",
    "    reward_curve.append(np.mean(moving_window))\n",
    "    \n",
    "    epsilon *= args.epsilon_decay\n",
    "    epsilon = max(epsilon, args.epsilon_end)\n",
    "\n",
    "    if e % 100 == 0:\n",
    "        print('Episode Number {} Average Episodic Reward (over 100 episodes): {:.2f}'.format(e, np.mean(moving_window)))\n",
    "\n",
    "    f.write('Episode Number {} Average Episodic Reward (over 100 episodes): {:.2f} \\n'.format(e, np.mean(moving_window)))\n",
    "    #################################\n",
    "\n",
    "f.close() # to close the file\n",
    "\n",
    "# Now we save the trained model\n",
    "rew_file = f\"{runs_folder_path}/rewards_dqn_{filename}.npy\"\n",
    "np.save(rew_file, reward_curve)\n",
    "model_saved_file = f\"{runs_folder_path}/dqn_{filename}.pt\"\n",
    "torch.save(learner.Q.state_dict(), model_saved_file)\n",
    "print(\"Model saved at: \", model_saved_file)\n",
    "\n",
    "final_policy = learner.get_optimal_policy(one_hot_state)\n",
    "print(\"Final policy: \", final_policy)\n",
    "state = 0\n",
    "# Define action map\n",
    "action_map = {\n",
    "0: \"Left\",\n",
    "1: \"Down\",\n",
    "2: \"Right\",\n",
    "3: \"Up\"\n",
    "}\n",
    "print(\"State: Type -    action taken\")\n",
    "lake_grid = env.unwrapped.desc  # Gets the grid representation\n",
    "for row in lake_grid:\n",
    "    for cell in row:\n",
    "        print(f\"     {state}:   {cell.decode('utf-8')} - {final_policy[state]}-->{action_map[final_policy[state]]}\")  # Convert byte to string\n",
    "        state += 1\n",
    "\n",
    "print('It was successful!')\n"
   ]
  },
  {
   "cell_type": "code",
   "execution_count": 49,
   "metadata": {},
   "outputs": [
    {
     "name": "stdout",
     "output_type": "stream",
     "text": [
      "Frozen Lake Grid Layout:\n",
      "S H F F\n",
      "F F F F\n",
      "F H H F\n",
      "F F F G\n",
      "Goal State: 15\n"
     ]
    }
   ],
   "source": [
    "if check_env_details:\n",
    "    # Extract the environment description (grid layout)\n",
    "    lake_grid = env.unwrapped.desc  # Gets the grid representation\n",
    "\n",
    "    # Print state-to-symbol mapping\n",
    "    print(\"Frozen Lake Grid Layout:\")\n",
    "    for row in lake_grid:\n",
    "        print(\" \".join(row.astype(str)))\n",
    "\n",
    "    goal_state = None\n",
    "    rows, cols = lake_grid.shape\n",
    "    for i in range(rows):\n",
    "        for j in range(cols):\n",
    "            if lake_grid[i, j] == b'G':  # 'G' is stored as a byte-string\n",
    "                goal_state = i * cols + j  # Convert (row, col) to state number\n",
    "                break\n",
    "        # end for j\n",
    "    # end for i\n",
    "    print(f\"Goal State: {goal_state}\")"
   ]
  },
  {
   "cell_type": "markdown",
   "metadata": {},
   "source": [
    "# Plot generation\n",
    "We generate the plots containing the reward curves obtained for dqn vs w2v+dqn for different cases.\\\n",
    "Additionally, in later cases, we will also compare the reward curves for dqn_w2v method with different embedding dimensions and for different epoch trainings"
   ]
  },
  {
   "cell_type": "markdown",
   "metadata": {},
   "source": [
    "## Case 1: Stochastic = True\n",
    "Here, seed = 19: We compare DQN vs w2v_dqn under different modifications"
   ]
  },
  {
   "cell_type": "code",
   "execution_count": 5,
   "metadata": {},
   "outputs": [
    {
     "data": {
      "image/png": "[encoded data removed]",
      "text/plain": [
       "<Figure size 640x480 with 1 Axes>"
      ]
     },
     "metadata": {},
     "output_type": "display_data"
    }
   ],
   "source": [
    "curve1 = np.load(f\"{runs_folder_path}/rewards_dqn_{env_name}_map_size_{env_dim}_stochastic_{True}_seed_{19}.npy\")\n",
    "# curve_perfect = np.load(f\"{runs_folder_path}/rewards_w2v_dqn_modified_perfect_w2v_embed_dim_{embed_dim}_{env_name}_map_size_{env_dim}_stochastic_{True}_seed_{19}_epochs_{60}.npy\")\n",
    "curve_medium = np.load(f\"{runs_folder_path}/rewards_w2v_dqn_modified_medium_w2v_embed_dim_{embed_dim}_{env_name}_map_size_{env_dim}_stochastic_{True}_seed_{19}_epochs_{60}.npy\")\n",
    "# curve_random = np.load(f\"{runs_folder_path}/rewards_w2v_dqn_modified_random_w2v_embed_dim_{embed_dim}_{env_name}_map_size_{env_dim}_stochastic_{True}_seed_{19}_epochs_{60}.npy\")\n",
    "\n",
    "plt.figure(1)\n",
    "plt.plot(range(args.n_episodes), curve1, label = 'vanilla dqn', linestyle='-', marker='o', color='k')\n",
    "plt.plot(range(args.n_episodes), curve_medium, label = 'dqn_w2v_medium', linestyle='-', marker='d', color='b')\n",
    "plt.title(f\"{env_name}_slippery: Avg Reward Comparison between DQN_w2v and Vanilla DQN\")\n",
    "plt.xlabel(\"# episodes\")\n",
    "plt.ylabel(\"Avg Reward across 100 episodes\")\n",
    "plt.legend()\n",
    "plt.axis([0, 2600, 0, 1.1])\n",
    "plt.grid(True)\n",
    "# plt.show()\n",
    "plt.savefig(f\"{runs_folder_path}/comparison_w2v_dqn_modified_medium_w2v_embed_dim_{embed_dim}_{env_name}_map_size_{env_dim}_stochastic_{True}_seed_{19}_epochs_{60}.jpg\")"
   ]
  },
  {
   "cell_type": "markdown",
   "metadata": {},
   "source": [
    "## Case 2: Stochastic = False, variation across seeds = {6, 19, 42}\n"
   ]
  },
  {
   "cell_type": "code",
   "execution_count": 6,
   "metadata": {},
   "outputs": [],
   "source": [
    "seeds = [6, 19, 42]\n",
    "matrix_dqn = np.zeros((len(seeds), args.n_episodes)) # creates a matrix of size = # seeds x 2500\n",
    "matrix_w2v_medium = np.zeros((len(seeds), args.n_episodes))\n",
    "# matrix_w2v_random = np.zeros((len(seeds), args.n_episodes))\n",
    "# matrix_w2v_perfect = np.zeros((len(seeds), args.n_episodes))\n",
    "\n",
    "for idx, seedno in enumerate(seeds):\n",
    "    matrix_dqn[idx,:] = np.load(f\"{runs_folder_path}/rewards_dqn_{env_name}_map_size_{env_dim}_stochastic_{False}_seed_{seedno}.npy\")\n",
    "    matrix_w2v_medium[idx,:] = np.load(f\"{runs_folder_path}/rewards_w2v_dqn_modified_medium_w2v_embed_dim_{embed_dim}_{env_name}_map_size_{env_dim}_stochastic_{False}_seed_{seedno}_epochs_{60}.npy\")\n",
    "    # matrix_w2v_perfect[idx,:] = np.load(f\"{runs_folder_path}/rewards_w2v_dqn_modified_perfect_w2v_embed_dim_{embed_dim}_{env_name}_map_size_{env_dim}_stochastic_{False}_seed_{seedno}_epochs_{60}.npy\")\n",
    "    # matrix_w2v_random[idx,:] = np.load(f\"{runs_folder_path}/rewards_w2v_dqn_modified_random_w2v_embed_dim_{embed_dim}_{env_name}_map_size_{env_dim}_stochastic_{False}_seed_{seedno}_epochs_{60}.npy\")\n",
    "# end for loading the files\n",
    "\n",
    "curve1 = np.mean(matrix_dqn, axis=0)\n",
    "curve_medium = np.mean(matrix_w2v_medium, axis=0)"
   ]
  },
  {
   "cell_type": "code",
   "execution_count": 8,
   "metadata": {},
   "outputs": [
    {
     "data": {
      "image/png": "[encoded data removed]",
      "text/plain": [
       "<Figure size 640x480 with 1 Axes>"
      ]
     },
     "metadata": {},
     "output_type": "display_data"
    }
   ],
   "source": [
    "plt.figure(2)\n",
    "plt.plot(range(args.n_episodes), curve1, label = 'vanilla dqn', linestyle='-', marker='o', color='k')\n",
    "plt.plot(range(args.n_episodes), curve_medium, label = 'dqn_w2v_medium', linestyle='-', marker='d', color='b')\n",
    "plt.title(f\"{env_name}_deterministic: Avg Reward Comparison between DQN_w2v and Vanilla DQN\")\n",
    "plt.xlabel(\"# episodes\")\n",
    "plt.ylabel(\"Avg Reward across 100 episodes\")\n",
    "plt.legend()\n",
    "plt.axis([0, 2600, 0, 1.1])\n",
    "plt.grid(True)\n",
    "# plt.show()\n",
    "plt.savefig(f\"{runs_folder_path}/comparison_w2v_dqn_modified_medium_w2v_embed_dim_{embed_dim}_{env_name}_map_size_{env_dim}_stochastic_{False}_multiple_seeds_epochs_{60}.jpg\")\n"
   ]
  },
  {
   "cell_type": "markdown",
   "metadata": {},
   "source": [
    "## Case 3: S = False, seed = 42, variation across all 3 types of w2v"
   ]
  },
  {
   "cell_type": "code",
   "execution_count": 24,
   "metadata": {},
   "outputs": [
    {
     "data": {
      "image/png": "[encoded data removed]",
      "text/plain": [
       "<Figure size 640x480 with 1 Axes>"
      ]
     },
     "metadata": {},
     "output_type": "display_data"
    }
   ],
   "source": [
    "curve1 = np.load(f\"{runs_folder_path}/rewards_dqn_{env_name}_map_size_{env_dim}_stochastic_{True}_seed_{19}.npy\")\n",
    "curve_perfect = np.load(f\"{runs_folder_path}/rewards_w2v_dqn_modified_perfect_w2v_embed_dim_{embed_dim}_{env_name}_map_size_{env_dim}_stochastic_{False}_seed_{42}_epochs_{50}.npy\")\n",
    "curve_medium = np.load(f\"{runs_folder_path}/rewards_w2v_dqn_modified_medium_w2v_embed_dim_{embed_dim}_{env_name}_map_size_{env_dim}_stochastic_{False}_seed_{42}_epochs_{60}.npy\")\n",
    "curve_random = np.load(f\"{runs_folder_path}/rewards_w2v_dqn_modified_random_w2v_embed_dim_{embed_dim}_{env_name}_map_size_{env_dim}_stochastic_{False}_seed_{42}_epochs_{60}.npy\")\n",
    "\n",
    "plt.figure(3)\n",
    "plt.plot(range(args.n_episodes), curve1, label = 'vanilla dqn', linestyle='-', marker='o', color='k')\n",
    "plt.plot(range(args.n_episodes), curve_medium, label = 'dqn_w2v_medium', linestyle='--', marker='d', color='b')\n",
    "plt.plot(range(args.n_episodes), curve_perfect, label = 'dqn_w2v_perfect', linestyle='--', marker='s', color='g')\n",
    "plt.plot(range(args.n_episodes), curve_random, label = 'dqn_w2v_random', linestyle='--', marker='+', color='r')\n",
    "plt.title(f\"{env_name}_deterministic: Avg Reward Comparison between all types of DQN_w2v and Vanilla DQN\")\n",
    "plt.xlabel(\"# episodes\")\n",
    "plt.ylabel(\"Avg Reward across 100 episodes\")\n",
    "plt.legend()\n",
    "plt.axis([0, 2600, 0, 1.1])\n",
    "plt.grid(True)\n",
    "# plt.show()\n",
    "plt.savefig(f\"{runs_folder_path}/comparison_w2v_dqn_all_modified_w2v_embed_dim_{embed_dim}_{env_name}_map_size_{env_dim}_stochastic_{False}_seed_{42}_epochs_{60}.jpg\")"
   ]
  },
  {
   "cell_type": "markdown",
   "metadata": {},
   "source": [
    "## Comparison of effect of w2v_epochs on w2v performance\n",
    "We vary the number of epochs for which w2v is trained while keeping the embedding dimension fixed "
   ]
  },
  {
   "cell_type": "code",
   "execution_count": null,
   "metadata": {},
   "outputs": [],
   "source": []
  }
 ],
 "metadata": {
  "kernelspec": {
   "display_name": "replrn",
   "language": "python",
   "name": "python3"
  },
  "language_info": {
   "codemirror_mode": {
    "name": "ipython",
    "version": 3
   },
   "file_extension": ".py",
   "mimetype": "text/x-python",
   "name": "python",
   "nbconvert_exporter": "python",
   "pygments_lexer": "ipython3",
   "version": "3.11.7"
  }
 },
 "nbformat": 4,
 "nbformat_minor": 2
}
